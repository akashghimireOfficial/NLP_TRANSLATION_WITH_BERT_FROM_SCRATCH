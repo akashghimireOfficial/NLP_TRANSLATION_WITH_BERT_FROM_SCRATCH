{
 "cells": [
  {
   "attachments": {},
   "cell_type": "markdown",
   "id": "c38fb8b9",
   "metadata": {},
   "source": [
    "## **BERT** \n",
    ">__[*original Turtorial Link*](https://www.tensorflow.org/text/tutorials/transformer)__\n",
    "\n",
    "### Turtorial Summary\n",
    "1. Downloading the Dataset\n",
    "2. Text tokenization & detokenization\n",
    "3. Setup of Input Pipeline \n",
    "4. Positional Encoding\n",
    "5. Buidling Transformer Model from Scracth\n",
    "6. Setting Hyperparameters \n",
    "7. Training and CheckPointing\n",
    "8. Attention Plot\n",
    "9. Exporting the saved model\n",
    "\n",
    "\n",
    "\n",
    "    \n",
    "\n"
   ]
  },
  {
   "cell_type": "code",
   "execution_count": 1,
   "id": "3ffeb6d6",
   "metadata": {},
   "outputs": [],
   "source": [
    "import logging\n",
    "import time\n",
    "import numpy as np\n",
    "import matplotlib.pyplot as plt\n",
    "import tensorflow as tf\n",
    "import tensorflow_datasets as tfds\n",
    "import tensorflow_text\n"
   ]
  },
  {
   "cell_type": "code",
   "execution_count": 2,
   "id": "32d7cb58",
   "metadata": {},
   "outputs": [],
   "source": [
    "logging.getLogger('tensorflow').setLevel(logging.ERROR)  # suppress warnings"
   ]
  },
  {
   "attachments": {},
   "cell_type": "markdown",
   "id": "ad6b0ba5",
   "metadata": {},
   "source": [
    "#### Downloading the datasets"
   ]
  },
  {
   "cell_type": "code",
   "execution_count": 3,
   "id": "f9555412",
   "metadata": {},
   "outputs": [],
   "source": [
    "## Downloading the Dataset\n",
    "## useing Tensorflow datasets\n",
    "examples, metadata = tfds.load('ted_hrlr_translate/pt_to_en', with_info=True,\n",
    "                               as_supervised=True)\n",
    "train_examples, val_examples = examples['train'], examples['validation']"
   ]
  },
  {
   "cell_type": "code",
   "execution_count": 4,
   "id": "017a9efe",
   "metadata": {
    "scrolled": false
   },
   "outputs": [
    {
     "name": "stdout",
     "output_type": "stream",
     "text": [
      "e quando melhoramos a procura , tiramos a única vantagem da impressão , que é a serendipidade .\n",
      "mas e se estes fatores fossem ativos ?\n",
      "mas eles não tinham a curiosidade de me testar .\n",
      "\n",
      "and when you improve searchability , you actually take away the one advantage of print , which is serendipity .\n",
      "but what if it were active ?\n",
      "but they did n't test for curiosity .\n"
     ]
    }
   ],
   "source": [
    "##if got time look more for what does the take() method refers to \n",
    "for pt_examples, en_examples in train_examples.batch(3).take(1):\n",
    "    for pt in pt_examples.numpy():\n",
    "        print(pt.decode('utf-8'))\n",
    "\n",
    "    print()\n",
    "\n",
    "    for en in en_examples.numpy():\n",
    "        print(en.decode('utf-8'))\n"
   ]
  },
  {
   "attachments": {},
   "cell_type": "markdown",
   "id": "f6dce6c3",
   "metadata": {},
   "source": [
    "### tokenization & detokenization"
   ]
  },
  {
   "cell_type": "code",
   "execution_count": 5,
   "id": "e94c266e",
   "metadata": {},
   "outputs": [],
   "source": [
    "### to train a NLP model first we need to tokenized them \n",
    "##Converting the text to sequence of token IDS \n",
    "## In simple words converting a sentence or words to list of unique tonek-IDS\n",
    "## for tekenization, in this turtorial we will be using frozen model \n"
   ]
  },
  {
   "cell_type": "code",
   "execution_count": 6,
   "id": "dcc11ef7",
   "metadata": {},
   "outputs": [
    {
     "data": {
      "text/plain": [
       "'.\\\\ted_hrlr_translate_pt_en_converter.zip'"
      ]
     },
     "execution_count": 6,
     "metadata": {},
     "output_type": "execute_result"
    }
   ],
   "source": [
    "model_name = 'ted_hrlr_translate_pt_en_converter'\n",
    "tf.keras.utils.get_file(\n",
    "    f'{model_name}.zip',\n",
    "    f'https://storage.googleapis.com/download.tensorflow.org/models/{model_name}.zip',\n",
    "    cache_dir='.', cache_subdir='', extract=True\n",
    ")"
   ]
  },
  {
   "cell_type": "code",
   "execution_count": 7,
   "id": "5c10c310",
   "metadata": {},
   "outputs": [],
   "source": [
    "##loading the model\n",
    "tokenizers=tf.saved_model.load(model_name)"
   ]
  },
  {
   "cell_type": "code",
   "execution_count": 8,
   "id": "22b40e47",
   "metadata": {},
   "outputs": [
    {
     "data": {
      "text/plain": [
       "<tf.Tensor: shape=(3,), dtype=string, numpy=\n",
       "array([b'and when you improve searchability , you actually take away the one advantage of print , which is serendipity .',\n",
       "       b'but what if it were active ?',\n",
       "       b\"but they did n't test for curiosity .\"], dtype=object)>"
      ]
     },
     "execution_count": 8,
     "metadata": {},
     "output_type": "execute_result"
    }
   ],
   "source": [
    "en_examples"
   ]
  },
  {
   "cell_type": "code",
   "execution_count": 9,
   "id": "56254ee7",
   "metadata": {},
   "outputs": [],
   "source": [
    "##Example of tokenization \n",
    "encoded_en_examples=tokenizers.en.tokenize(en_examples)\n"
   ]
  },
  {
   "cell_type": "code",
   "execution_count": 10,
   "id": "8a330803",
   "metadata": {
    "scrolled": false
   },
   "outputs": [
    {
     "name": "stdout",
     "output_type": "stream",
     "text": [
      "[2, 72, 117, 79, 1259, 1491, 2362, 13, 79, 150, 184, 311, 71, 103, 2308, 74, 2679, 13, 148, 80, 55, 4840, 1434, 2423, 540, 15, 3]\n",
      "[2, 87, 90, 107, 76, 129, 1852, 30, 3]\n",
      "[2, 87, 83, 149, 50, 9, 56, 664, 85, 2512, 15, 3]\n"
     ]
    }
   ],
   "source": [
    "## encoded tokens of above en_examples\n",
    "for row in encoded_en_examples.to_list():\n",
    "    print(row)"
   ]
  },
  {
   "attachments": {},
   "cell_type": "markdown",
   "id": "43146852",
   "metadata": {},
   "source": [
    "*the shape of each input array is not same as the lenght of the sentence is not fixed*"
   ]
  },
  {
   "cell_type": "code",
   "execution_count": 11,
   "id": "f23c00f6",
   "metadata": {},
   "outputs": [
    {
     "name": "stdout",
     "output_type": "stream",
     "text": [
      "and when you improve searchability , you actually take away the one advantage of print , which is serendipity .\n",
      "but what if it were active ?\n",
      "but they did n ' t test for curiosity .\n"
     ]
    }
   ],
   "source": [
    "### Decoding the encoded english examples \n",
    "round_trip = tokenizers.en.detokenize(encoded_en_examples)\n",
    "for line in round_trip.numpy():\n",
    "    print(line.decode('utf-8'))"
   ]
  },
  {
   "cell_type": "code",
   "execution_count": 12,
   "id": "94cba068",
   "metadata": {},
   "outputs": [],
   "source": [
    "## How does the sequence of words are tokenized \n",
    "## using lookup() method\n"
   ]
  },
  {
   "cell_type": "code",
   "execution_count": 13,
   "id": "fa9492c9",
   "metadata": {
    "scrolled": true
   },
   "outputs": [
    {
     "name": "stdout",
     "output_type": "stream",
     "text": [
      "<tf.RaggedTensor [[b'[START]', b'and', b'when', b'you', b'improve', b'search', b'##ability',\n",
      "  b',', b'you', b'actually', b'take', b'away', b'the', b'one', b'advantage',\n",
      "  b'of', b'print', b',', b'which', b'is', b's', b'##ere', b'##nd', b'##ip',\n",
      "  b'##ity', b'.', b'[END]']                                                 ,\n",
      " [b'[START]', b'but', b'what', b'if', b'it', b'were', b'active', b'?',\n",
      "  b'[END]']                                                           ,\n",
      " [b'[START]', b'but', b'they', b'did', b'n', b\"'\", b't', b'test', b'for',\n",
      "  b'curiosity', b'.', b'[END]']                                          ]>\n"
     ]
    }
   ],
   "source": [
    "tokens = tokenizers.en.lookup(encoded_en_examples)\n",
    "print(tokens)"
   ]
  },
  {
   "cell_type": "code",
   "execution_count": 14,
   "id": "076a03cb",
   "metadata": {},
   "outputs": [
    {
     "name": "stdout",
     "output_type": "stream",
     "text": [
      "..................................................."
     ]
    }
   ],
   "source": [
    "lengths = []\n",
    "\n",
    "for pt_examples, en_examples in train_examples.batch(1024):\n",
    "    pt_tokens = tokenizers.en.tokenize(pt_examples)\n",
    "    lengths.append(pt_tokens.row_lengths())\n",
    "    #print(pt_tokens.row_lengths())\n",
    "    en_tokens = tokenizers.en.tokenize(en_examples)\n",
    "    lengths.append(en_tokens.row_lengths())\n",
    "    print('.', end='', flush=True)"
   ]
  },
  {
   "cell_type": "code",
   "execution_count": 15,
   "id": "9144f127",
   "metadata": {},
   "outputs": [
    {
     "data": {
      "text/plain": [
       "[<tf.Tensor: shape=(1024,), dtype=int64, numpy=array([45, 21, 23, ..., 21, 47, 35], dtype=int64)>,\n",
       " <tf.Tensor: shape=(1024,), dtype=int64, numpy=array([27,  9, 12, ...,  9, 23, 28], dtype=int64)>,\n",
       " <tf.Tensor: shape=(1024,), dtype=int64, numpy=array([ 32,  22,  34, ...,  39, 101,  36], dtype=int64)>,\n",
       " <tf.Tensor: shape=(1024,), dtype=int64, numpy=array([17, 12, 20, ..., 30, 56, 13], dtype=int64)>,\n",
       " <tf.Tensor: shape=(1024,), dtype=int64, numpy=array([48, 37, 27, ..., 92, 21, 49], dtype=int64)>,\n",
       " <tf.Tensor: shape=(1024,), dtype=int64, numpy=array([29, 18, 15, ..., 53, 13, 29], dtype=int64)>,\n",
       " <tf.Tensor: shape=(1024,), dtype=int64, numpy=array([72, 38, 35, ..., 20, 54, 13], dtype=int64)>,\n",
       " <tf.Tensor: shape=(1024,), dtype=int64, numpy=array([38, 18, 16, ..., 11, 26, 11], dtype=int64)>,\n",
       " <tf.Tensor: shape=(1024,), dtype=int64, numpy=array([ 15,  24,  51, ...,  27,  40, 117], dtype=int64)>,\n",
       " <tf.Tensor: shape=(1024,), dtype=int64, numpy=array([10, 16, 24, ..., 20, 24, 71], dtype=int64)>,\n",
       " <tf.Tensor: shape=(1024,), dtype=int64, numpy=array([28, 44, 26, ..., 95, 34, 32], dtype=int64)>,\n",
       " <tf.Tensor: shape=(1024,), dtype=int64, numpy=array([17, 28, 14, ..., 39, 23, 22], dtype=int64)>,\n",
       " <tf.Tensor: shape=(1024,), dtype=int64, numpy=array([35, 28, 43, ..., 71, 20, 18], dtype=int64)>,\n",
       " <tf.Tensor: shape=(1024,), dtype=int64, numpy=array([15, 15, 26, ..., 34,  7, 10], dtype=int64)>,\n",
       " <tf.Tensor: shape=(1024,), dtype=int64, numpy=array([ 32,  60,  25, ...,  37, 101,  31], dtype=int64)>,\n",
       " <tf.Tensor: shape=(1024,), dtype=int64, numpy=array([18, 29, 15, ..., 22, 42, 21], dtype=int64)>,\n",
       " <tf.Tensor: shape=(1024,), dtype=int64, numpy=array([16, 64, 26, ..., 38, 65, 41], dtype=int64)>,\n",
       " <tf.Tensor: shape=(1024,), dtype=int64, numpy=array([11, 28, 12, ..., 15, 25, 24], dtype=int64)>,\n",
       " <tf.Tensor: shape=(1024,), dtype=int64, numpy=array([21, 74, 30, ..., 32, 84, 71], dtype=int64)>,\n",
       " <tf.Tensor: shape=(1024,), dtype=int64, numpy=array([12, 40, 10, ..., 20, 30, 34], dtype=int64)>,\n",
       " <tf.Tensor: shape=(1024,), dtype=int64, numpy=array([56, 54, 38, ..., 34, 22, 23], dtype=int64)>,\n",
       " <tf.Tensor: shape=(1024,), dtype=int64, numpy=array([45, 22, 21, ..., 14, 10, 16], dtype=int64)>,\n",
       " <tf.Tensor: shape=(1024,), dtype=int64, numpy=array([ 30,  25,  56, ..., 114,  34,  75], dtype=int64)>,\n",
       " <tf.Tensor: shape=(1024,), dtype=int64, numpy=array([16, 14, 30, ..., 47, 17, 34], dtype=int64)>,\n",
       " <tf.Tensor: shape=(1024,), dtype=int64, numpy=array([26, 24, 28, ..., 17, 29, 30], dtype=int64)>,\n",
       " <tf.Tensor: shape=(1024,), dtype=int64, numpy=array([14, 10, 13, ..., 10, 13, 13], dtype=int64)>,\n",
       " <tf.Tensor: shape=(1024,), dtype=int64, numpy=array([19, 25, 65, ..., 39, 56, 75], dtype=int64)>,\n",
       " <tf.Tensor: shape=(1024,), dtype=int64, numpy=array([10, 14, 33, ..., 15, 26, 39], dtype=int64)>,\n",
       " <tf.Tensor: shape=(1024,), dtype=int64, numpy=array([48, 25, 23, ..., 65, 15,  8], dtype=int64)>,\n",
       " <tf.Tensor: shape=(1024,), dtype=int64, numpy=array([24,  9, 10, ..., 37, 10,  5], dtype=int64)>,\n",
       " <tf.Tensor: shape=(1024,), dtype=int64, numpy=array([50, 35, 56, ..., 33, 23, 58], dtype=int64)>,\n",
       " <tf.Tensor: shape=(1024,), dtype=int64, numpy=array([30, 19, 20, ..., 15, 11, 23], dtype=int64)>,\n",
       " <tf.Tensor: shape=(1024,), dtype=int64, numpy=array([15, 52, 11, ..., 43, 25, 37], dtype=int64)>,\n",
       " <tf.Tensor: shape=(1024,), dtype=int64, numpy=array([10, 34, 10, ..., 25, 11, 21], dtype=int64)>,\n",
       " <tf.Tensor: shape=(1024,), dtype=int64, numpy=array([52, 83, 31, ..., 33, 98, 31], dtype=int64)>,\n",
       " <tf.Tensor: shape=(1024,), dtype=int64, numpy=array([30, 38, 19, ..., 15, 34, 16], dtype=int64)>,\n",
       " <tf.Tensor: shape=(1024,), dtype=int64, numpy=array([ 30,  14,  24, ..., 103,  17,  55], dtype=int64)>,\n",
       " <tf.Tensor: shape=(1024,), dtype=int64, numpy=array([17,  8, 34, ..., 51,  9, 37], dtype=int64)>,\n",
       " <tf.Tensor: shape=(1024,), dtype=int64, numpy=array([36,  9,  8, ..., 55, 31, 37], dtype=int64)>,\n",
       " <tf.Tensor: shape=(1024,), dtype=int64, numpy=array([19, 10,  5, ..., 28, 13, 17], dtype=int64)>,\n",
       " <tf.Tensor: shape=(1024,), dtype=int64, numpy=array([ 39,  34,  19, ...,  43, 115,  26], dtype=int64)>,\n",
       " <tf.Tensor: shape=(1024,), dtype=int64, numpy=array([19, 19, 10, ..., 29, 65,  9], dtype=int64)>,\n",
       " <tf.Tensor: shape=(1024,), dtype=int64, numpy=array([51, 28, 57, ..., 48, 25, 41], dtype=int64)>,\n",
       " <tf.Tensor: shape=(1024,), dtype=int64, numpy=array([35, 16, 27, ..., 24, 12, 18], dtype=int64)>,\n",
       " <tf.Tensor: shape=(1024,), dtype=int64, numpy=array([52, 32, 80, ..., 14, 62, 44], dtype=int64)>,\n",
       " <tf.Tensor: shape=(1024,), dtype=int64, numpy=array([27, 19, 42, ..., 11, 31, 20], dtype=int64)>,\n",
       " <tf.Tensor: shape=(1024,), dtype=int64, numpy=array([34, 17, 49, ..., 12, 21, 25], dtype=int64)>,\n",
       " <tf.Tensor: shape=(1024,), dtype=int64, numpy=array([16, 12, 30, ...,  8, 11, 11], dtype=int64)>,\n",
       " <tf.Tensor: shape=(1024,), dtype=int64, numpy=array([ 68, 119,  19, ...,  11,  21,  35], dtype=int64)>,\n",
       " <tf.Tensor: shape=(1024,), dtype=int64, numpy=array([31, 54, 11, ..., 12, 12, 25], dtype=int64)>,\n",
       " <tf.Tensor: shape=(1024,), dtype=int64, numpy=array([38, 25, 14, ..., 54, 21, 40], dtype=int64)>,\n",
       " <tf.Tensor: shape=(1024,), dtype=int64, numpy=array([25, 10,  6, ..., 24, 10, 27], dtype=int64)>,\n",
       " <tf.Tensor: shape=(1024,), dtype=int64, numpy=array([ 57,  41,  14, ...,  26,  92, 198], dtype=int64)>,\n",
       " <tf.Tensor: shape=(1024,), dtype=int64, numpy=array([ 36,  20,  12, ...,  12,  40, 103], dtype=int64)>,\n",
       " <tf.Tensor: shape=(1024,), dtype=int64, numpy=array([25, 30, 40, ..., 35, 36, 30], dtype=int64)>,\n",
       " <tf.Tensor: shape=(1024,), dtype=int64, numpy=array([10, 22, 21, ..., 22, 17, 13], dtype=int64)>,\n",
       " <tf.Tensor: shape=(1024,), dtype=int64, numpy=array([63, 26, 23, ..., 98, 32, 42], dtype=int64)>,\n",
       " <tf.Tensor: shape=(1024,), dtype=int64, numpy=array([35, 16, 12, ..., 52, 14, 23], dtype=int64)>,\n",
       " <tf.Tensor: shape=(1024,), dtype=int64, numpy=array([15, 65, 23, ..., 63, 47, 21], dtype=int64)>,\n",
       " <tf.Tensor: shape=(1024,), dtype=int64, numpy=array([ 9, 34, 15, ..., 40, 24, 15], dtype=int64)>,\n",
       " <tf.Tensor: shape=(1024,), dtype=int64, numpy=array([12, 21, 37, ..., 28, 16, 25], dtype=int64)>,\n",
       " <tf.Tensor: shape=(1024,), dtype=int64, numpy=array([10,  8, 16, ..., 11,  9, 12], dtype=int64)>,\n",
       " <tf.Tensor: shape=(1024,), dtype=int64, numpy=array([99, 82, 41, ..., 33, 59, 15], dtype=int64)>,\n",
       " <tf.Tensor: shape=(1024,), dtype=int64, numpy=array([41, 46, 22, ..., 13, 25,  8], dtype=int64)>,\n",
       " <tf.Tensor: shape=(1024,), dtype=int64, numpy=array([ 15,  25,  64, ..., 158,  25, 103], dtype=int64)>,\n",
       " <tf.Tensor: shape=(1024,), dtype=int64, numpy=array([10, 14, 44, ..., 78, 13, 40], dtype=int64)>,\n",
       " <tf.Tensor: shape=(1024,), dtype=int64, numpy=array([28, 13, 78, ..., 25, 39, 12], dtype=int64)>,\n",
       " <tf.Tensor: shape=(1024,), dtype=int64, numpy=array([19,  9, 31, ..., 12, 22, 10], dtype=int64)>,\n",
       " <tf.Tensor: shape=(1024,), dtype=int64, numpy=array([20,  9, 90, ..., 21, 66, 17], dtype=int64)>,\n",
       " <tf.Tensor: shape=(1024,), dtype=int64, numpy=array([11,  5, 34, ..., 12, 27, 10], dtype=int64)>,\n",
       " <tf.Tensor: shape=(1024,), dtype=int64, numpy=array([127,  28,  35, ...,  75,  43,  14], dtype=int64)>,\n",
       " <tf.Tensor: shape=(1024,), dtype=int64, numpy=array([87, 16, 12, ..., 34, 18, 13], dtype=int64)>,\n",
       " <tf.Tensor: shape=(1024,), dtype=int64, numpy=array([  8,  27,  90, ...,  48,  10, 227], dtype=int64)>,\n",
       " <tf.Tensor: shape=(1024,), dtype=int64, numpy=array([  5,  19,  38, ...,  23,   4, 130], dtype=int64)>,\n",
       " <tf.Tensor: shape=(1024,), dtype=int64, numpy=array([65, 69, 37, ..., 13,  9, 11], dtype=int64)>,\n",
       " <tf.Tensor: shape=(1024,), dtype=int64, numpy=array([32, 36, 19, ..., 13,  5, 10], dtype=int64)>,\n",
       " <tf.Tensor: shape=(1024,), dtype=int64, numpy=array([27, 37, 21, ..., 49, 15, 23], dtype=int64)>,\n",
       " <tf.Tensor: shape=(1024,), dtype=int64, numpy=array([20, 17, 11, ..., 28, 13, 15], dtype=int64)>,\n",
       " <tf.Tensor: shape=(1024,), dtype=int64, numpy=array([11, 24, 75, ..., 40,  9, 15], dtype=int64)>,\n",
       " <tf.Tensor: shape=(1024,), dtype=int64, numpy=array([ 8, 12, 53, ..., 21,  8, 10], dtype=int64)>,\n",
       " <tf.Tensor: shape=(1024,), dtype=int64, numpy=array([21, 55, 24, ..., 36, 34, 36], dtype=int64)>,\n",
       " <tf.Tensor: shape=(1024,), dtype=int64, numpy=array([15, 27, 10, ..., 24, 19, 23], dtype=int64)>,\n",
       " <tf.Tensor: shape=(1024,), dtype=int64, numpy=array([46, 38, 28, ..., 56, 53, 40], dtype=int64)>,\n",
       " <tf.Tensor: shape=(1024,), dtype=int64, numpy=array([27, 27, 11, ..., 26, 24, 21], dtype=int64)>,\n",
       " <tf.Tensor: shape=(1024,), dtype=int64, numpy=array([ 42, 241,  50, ...,  64,  40,  54], dtype=int64)>,\n",
       " <tf.Tensor: shape=(1024,), dtype=int64, numpy=array([ 15, 117,  23, ...,  31,  24,  21], dtype=int64)>,\n",
       " <tf.Tensor: shape=(1024,), dtype=int64, numpy=array([63, 29, 29, ..., 49, 24, 63], dtype=int64)>,\n",
       " <tf.Tensor: shape=(1024,), dtype=int64, numpy=array([24,  8, 19, ..., 33, 13, 32], dtype=int64)>,\n",
       " <tf.Tensor: shape=(1024,), dtype=int64, numpy=array([43, 27, 28, ..., 76, 51, 46], dtype=int64)>,\n",
       " <tf.Tensor: shape=(1024,), dtype=int64, numpy=array([33, 13, 11, ..., 43, 24, 16], dtype=int64)>,\n",
       " <tf.Tensor: shape=(1024,), dtype=int64, numpy=array([63, 28, 21, ..., 21, 46, 45], dtype=int64)>,\n",
       " <tf.Tensor: shape=(1024,), dtype=int64, numpy=array([24, 16, 12, ..., 10, 23, 26], dtype=int64)>,\n",
       " <tf.Tensor: shape=(1024,), dtype=int64, numpy=array([76, 26, 52, ..., 29, 53, 15], dtype=int64)>,\n",
       " <tf.Tensor: shape=(1024,), dtype=int64, numpy=array([40, 19, 23, ..., 19, 20, 10], dtype=int64)>,\n",
       " <tf.Tensor: shape=(1024,), dtype=int64, numpy=array([106,  15,  14, ...,  73,  25,  56], dtype=int64)>,\n",
       " <tf.Tensor: shape=(1024,), dtype=int64, numpy=array([44,  9,  9, ..., 32, 18, 32], dtype=int64)>,\n",
       " <tf.Tensor: shape=(1024,), dtype=int64, numpy=array([44, 30, 33, ..., 52, 42, 38], dtype=int64)>,\n",
       " <tf.Tensor: shape=(1024,), dtype=int64, numpy=array([18, 13, 21, ..., 27, 16, 21], dtype=int64)>,\n",
       " <tf.Tensor: shape=(1024,), dtype=int64, numpy=array([11, 31, 12, ..., 98, 19, 24], dtype=int64)>,\n",
       " <tf.Tensor: shape=(1024,), dtype=int64, numpy=array([ 7, 19, 11, ..., 73,  9, 14], dtype=int64)>,\n",
       " <tf.Tensor: shape=(585,), dtype=int64, numpy=\n",
       " array([ 25,  22,  11,  26,  34,  34,   8,  63,  15,  37,  71,  67,  18,\n",
       "         11,  53, 109,  84, 143,  20,  17,  30,  30,  19,  10,  46,  30,\n",
       "         24,  23,  22,  60, 153,  19,  69,  20,  18,  20,  40, 113,  54,\n",
       "          9,  20,  15,  43,  48,  55,  34,  55,  38,  56,  14,  24,  20,\n",
       "         45,  28,  32,  26,  18,  15,  40,  57,  32,  28,  39,  13,  30,\n",
       "         89,  18,  48,  57,  40, 128,  25,  36,  70,  94,  71,  85,  29,\n",
       "        148,  48,  39,  50,  33, 111,  19,  31,  19,  45,  34,  29, 100,\n",
       "         30,  28,  25,  66,  76,  36,  67,  18,  55,  50,  35,  85,  17,\n",
       "         51, 130,  19,  14,  33,  23,  84, 108,  34,  24,   9,  23,  18,\n",
       "         17,  32,  67,  21, 135,  24,  53,  57,  78,  43,  30,  36,  22,\n",
       "         54,  24,  34,  62,  65,  63,  10,  87, 151,  16,  53,  41,   9,\n",
       "         45, 138,  29,  67, 122,  31,  33,  27,  53,  17, 138,  54,  81,\n",
       "         33,  35,  81,  32,  46,  29,  25,  13,  55,  92,   9,  29,  48,\n",
       "         54,  25,  75,  91, 109,  56,  63,  54,   9,  65,  15,  39,  39,\n",
       "         23,  23,  78,  21,  60,  66,  65,  30,  22,  27,  51,  29,  31,\n",
       "         27,  42,  49,  31,  19,  13,  71,  25,  23,  81,  12,  88,  16,\n",
       "         99,  18,  31,  20, 106,  21,  11,  29,  71,  21,  47,  20,  19,\n",
       "         72,  14,  34,  58,  18,   9,  15, 248,  67,  50,  94,  22, 150,\n",
       "         49,  14,  37,  80,  47,  89,  29,  60,  30,  98,  24,  91,   9,\n",
       "         44,  26, 131,  43,  50,  10,  40,  19,  87,  58,  20,  17,  27,\n",
       "          8,  35,  15,  67,  33,  28,  11,  39,  27,  18,  39,  45,  37,\n",
       "         86,  27, 106,  36,  26,  20,  53,  31,  41,  24,  24,  21,  51,\n",
       "         18,  55,  10,  29, 178,  65,  33,  24,  99,  44,  91,  18,  24,\n",
       "         41,  28,  18,  37,  83,  23,  73,  21,  27,  35,  87,   7,  33,\n",
       "         79,  28,  29,  42,  75,  31,  28,  26,  17, 211,  19,  31,  94,\n",
       "         36,  26,  43,  24,  50,  40,  20,  42,  39, 169,   8,  53,  18,\n",
       "         37,  84,  26,  90,  78,  18,  53,  25,  28,  40,  16,  36,  24,\n",
       "         44,  32,  22,  59, 140,  57,  62,  29,  49,  48,  45,  20,  45,\n",
       "         47,  47,  57, 136,  29,  18,  62,  70,  14,  45,  38,  49,  74,\n",
       "         37,  23,  16,  34,  38,  19,  18,  16,  88,  32,  78,  49,  88,\n",
       "         26,  44,  16,  31,  30,  52, 137, 114,  33,  26,  22,  24, 172,\n",
       "         32,  28,  90,  15,  27,  91, 108,  52,   9,  11,  45,  24,  37,\n",
       "         99,  19,  24, 107,  48,  70,  22,  85, 111, 178,  30,  38, 118,\n",
       "         85,  10,  33,   8,  22,  29,  19,  28,  21, 177,  24,  55,  30,\n",
       "         17, 135,  27,  22,  31,  34,  20,  33,  34, 142,  23,  75,  45,\n",
       "         32,  21,  21,  15,  31,  32,  30,  10, 158, 148,   9,  45,  19,\n",
       "         55,  24,  47,  66,  16,  86,  55,  48,  53,  19,  21,  39,  22,\n",
       "         15,  20,  84,  29,  38,  77,  28,  79, 187,  57,  23,  61,  23,\n",
       "         74,  41,  55,  32,  79,  32,  30,  54,   7,  50,  16,  21,  25,\n",
       "         51,  31,  14,  16,  51,  35,  36,  16,  50,  56,  59,  47,  34,\n",
       "        140,  37,  38,  20,  56,  46,  65,  58,   8,  62,  10,  71,  17,\n",
       "         25,  28, 119,  48,  20, 104,  20,   7,  19, 140,  25,  61, 128,\n",
       "         94,  22,  49,  86,  45,  19,  80,  41,  32,  81,  92,  26,  29,\n",
       "         57,  18,  22,  16,  16,  28,  18,  83,  55,  15,  35,  18,  42,\n",
       "         25,  30,  53,  32,  69,  23,  27,  25,  45,  57, 102,  16,  46],\n",
       "       dtype=int64)>,\n",
       " <tf.Tensor: shape=(585,), dtype=int64, numpy=\n",
       " array([ 16,  12,  10,  17,  18,  15,   5,  27,   8,  18,  38,  29,  11,\n",
       "          6,  30,  54,  46,  75,  12,  10,  16,  13,  11,   5,  28,  13,\n",
       "         14,  14,  12,  32,  63,   7,  39,   8,  15,  18,  27,  54,  26,\n",
       "          5,   8,  10,  25,  21,  29,  16,  32,  17,  29,   8,  13,   9,\n",
       "         26,  13,  21,  17,  14,   7,  23,  31,  16,  16,  20,  14,  17,\n",
       "         51,  10,  27,  25,  15,  73,  16,  15,  34,  49,  33,  46,  19,\n",
       "         56,  26,  24,  21,  14,  41,  14,  19,   8,  22,  19,  14,  35,\n",
       "         15,  16,  17,  30,  41,  16,  36,  13,  28,  36,  16,  58,   8,\n",
       "         24,  64,  12,  11,  14,  10,  59,  51,  21,  15,   6,  13,  10,\n",
       "         10,  15,  29,  15,  86,  15,  27,  33,  43,  22,  18,  16,  10,\n",
       "         36,  12,  19,  48,  31,  27,   6,  46,  71,  11,  24,  24,   5,\n",
       "         22,  73,  19,  29,  58,  18,  17,  18,  30,  11,  59,  29,  42,\n",
       "         19,  19,  40,  15,  28,  21,   8,  13,  34,  48,   6,  18,  23,\n",
       "         27,  10,  34,  44,  53,  28,  32,  46,   5,  23,   9,  15,  25,\n",
       "         18,  12,  50,  14,  38,  29,  38,  15,  17,   9,  30,  16,  24,\n",
       "         13,  24,  26,  14,  10,  11,  40,  16,  17,  43,   8,  48,   6,\n",
       "         59,  13,  19,  15,  45,  10,   7,  21,  37,  11,  34,  16,  14,\n",
       "         41,   8,  13,  30,   9,   5,  11, 134,  30,  27,  42,  17,  85,\n",
       "         28,   7,  26,  38,  28,  41,  15,  32,  12,  59,  16,  46,   5,\n",
       "         22,  14,  65,  18,  25,   7,  17,  12,  54,  25,  12,  14,  15,\n",
       "          5,  18,   8,  27,  17,  18,   9,  14,  15,   9,  20,  35,  17,\n",
       "         45,  13,  37,  21,  14,  24,  28,  16,  22,  12,  19,   9,  33,\n",
       "         13,  29,   8,  19,  83,  28,  15,  18,  54,  25,  41,   8,  13,\n",
       "         29,  16,  15,  17,  61,  13,  28,   9,  15,  18,  35,   6,  16,\n",
       "         43,  16,  20,  24,  43,  16,  19,  16,   9, 123,  11,  17,  43,\n",
       "         17,  33,  22,  17,  29,  11,  13,  27,  22,  90,   5,  31,   7,\n",
       "         20,  47,  10,  62,  34,   9,  28,  16,  17,  16,  21,  15,  15,\n",
       "         22,  17,  13,  29,  60,  23,  28,  12,  29,  19,  22,  15,  25,\n",
       "         26,  30,  29,  58,  22,  11,  35,  41,  12,  25,  21,  24,  33,\n",
       "         27,  12,  17,  16,  20,   9,  10,  10,  46,  18,  42,  21,  49,\n",
       "         13,  23,  12,  16,  20,  21,  64,  50,  19,  17,   9,  11,  94,\n",
       "         16,  16,  41,  12,  13,  51,  75,  19,   8,   8,  30,  15,  23,\n",
       "         45,  11,  16,  40,  22,  33,  10,  58,  53,  88,  15,  27,  59,\n",
       "         44,   6,  16,   5,  13,  11,  16,  20,  13,  73,  14,  21,  12,\n",
       "         12,  61,  15,  13,  15,  19,  12,  20,  13,  89,  10,  39,  26,\n",
       "         16,  11,   8,  10,  19,  20,  19,   5,  88,  65,   5,  20,   7,\n",
       "         32,  15,  19,  32,  11,  43,  27,  20,  32,  11,  14,  24,  13,\n",
       "         10,  12,  31,  15,  18,  42,  13,  50,  75,  37,  12,  31,  11,\n",
       "         29,  18,  33,  19,  32,  14,  13,  27,   7,  25,  11,  11,  11,\n",
       "         18,  16,   7,   9,  16,  14,  20,   8,  26,  26,  23,  18,  20,\n",
       "         72,  16,  15,  14,  18,  21,  36,  35,   4,  24,   7,  25,  11,\n",
       "         15,  19,  50,  33,  13,  55,  12,   4,  12,  75,  13,  28,  75,\n",
       "         47,  14,  19,  30,  21,  13,  29,  22,  18,  36,  39,  15,  16,\n",
       "         27,  10,  11,   8,  10,  21,  15,  34,  28,   7,  16,   9,  17,\n",
       "         11,  16,  41,  16,  31,  12,  15,  12,  26,  30,  49,  16,  18],\n",
       "       dtype=int64)>]"
      ]
     },
     "execution_count": 15,
     "metadata": {},
     "output_type": "execute_result"
    }
   ],
   "source": [
    "lengths"
   ]
  },
  {
   "cell_type": "code",
   "execution_count": 16,
   "id": "bd13a516",
   "metadata": {
    "scrolled": true
   },
   "outputs": [
    {
     "data": {
      "image/png": "[encoded data removed]",
      "text/plain": [
       "<Figure size 432x288 with 1 Axes>"
      ]
     },
     "metadata": {
      "needs_background": "light"
     },
     "output_type": "display_data"
    }
   ],
   "source": [
    "all_lengths = np.concatenate(lengths)\n",
    "\n",
    "plt.hist(all_lengths, np.linspace(0, 500, 101))\n",
    "plt.ylim(plt.ylim())\n",
    "max_length = max(all_lengths)\n",
    "plt.plot([max_length, max_length], plt.ylim())\n",
    "plt.title(f'Max tokens per example: {max_length}');"
   ]
  },
  {
   "attachments": {},
   "cell_type": "markdown",
   "id": "aa415c85",
   "metadata": {},
   "source": [
    "### Setting Input Pipeline"
   ]
  },
  {
   "attachments": {},
   "cell_type": "markdown",
   "id": "aaaa32af",
   "metadata": {},
   "source": [
    "*Defining max_tokens*<br>\n",
    ">max_tokens: Here max num of words for each batch size \n"
   ]
  },
  {
   "cell_type": "code",
   "execution_count": 17,
   "id": "33a948f9",
   "metadata": {},
   "outputs": [],
   "source": [
    "MAX_TOKENS=128"
   ]
  },
  {
   "cell_type": "code",
   "execution_count": 18,
   "id": "76c13dde",
   "metadata": {},
   "outputs": [],
   "source": [
    "def tokenize_pairs(pt, en):\n",
    "    #here pt and en are pt_examples[i] and en_examples[i]\n",
    "    pt = tokenizers.pt.tokenize(pt)\n",
    "    # Convert from ragged to dense, padding with zeros.\n",
    "    pt = pt.to_tensor()\n",
    "\n",
    "    en = tokenizers.en.tokenize(en)\n",
    "    # Convert from ragged to dense, padding with zeros.\n",
    "    en = en.to_tensor()\n",
    "    return pt, en"
   ]
  },
  {
   "cell_type": "code",
   "execution_count": 19,
   "id": "dafc158c",
   "metadata": {},
   "outputs": [],
   "source": [
    "## Downloading the Dataset\n",
    "## useing Tensorflow datasets\n",
    "examples, metadata = tfds.load('ted_hrlr_translate/pt_to_en', with_info=True,\n",
    "                               as_supervised=True)\n",
    "train_examples, val_examples = examples['train'], examples['validation']"
   ]
  },
  {
   "cell_type": "code",
   "execution_count": 20,
   "id": "02c4f892",
   "metadata": {},
   "outputs": [
    {
     "name": "stdout",
     "output_type": "stream",
     "text": [
      "pt\n",
      " [[  2  88 120 ...   0   0   0]\n",
      " [  2 175 153 ...   0   0   0]\n",
      " [  2 101 105 ...   0   0   0]\n",
      " ...\n",
      " [  2 103 770 ...   0   0   0]\n",
      " [  2 133  14 ...   0   0   0]\n",
      " [  2  91 301 ...   0   0   0]] \n",
      "\n",
      " en\n",
      "\n",
      " [[  2 110  13 ...   0   0   0]\n",
      " [  2  45 628 ...   0   0   0]\n",
      " [  2  87 140 ...   0   0   0]\n",
      " ...\n",
      " [  2  77  71 ...   0   0   0]\n",
      " [  2 110  13 ...   0   0   0]\n",
      " [  2  99 474 ...   0   0   0]]\n"
     ]
    }
   ],
   "source": [
    "## example\n",
    "##pt_example, and en_example are from row number \"Downloading Dataset 51 number\"\n",
    "pt,en=tokenize_pairs(pt_examples,en_examples)\n",
    "print('pt\\n {} \\n\\n en\\n\\n {}'.format(pt,en))"
   ]
  },
  {
   "cell_type": "code",
   "execution_count": 21,
   "id": "f7faad84",
   "metadata": {},
   "outputs": [
    {
     "name": "stdout",
     "output_type": "stream",
     "text": [
      "pt.shape: (585, 147)\n",
      "en.shape: (585, 134)\n"
     ]
    }
   ],
   "source": [
    "print('pt.shape: {}\\nen.shape: {}'.format(pt.shape,en.shape))\n"
   ]
  },
  {
   "attachments": {},
   "cell_type": "markdown",
   "id": "04e5f81b",
   "metadata": {},
   "source": [
    "*bool function to filter out inputs with num_tokens*\n",
    "<br>tokenize pair are feeded to this function"
   ]
  },
  {
   "cell_type": "code",
   "execution_count": 22,
   "id": "88e6a432",
   "metadata": {},
   "outputs": [],
   "source": [
    "def filter_max_tokens(pt, en):\n",
    "    ##Here pt and en are tokenize value of pt_examples and en_examples\n",
    "    num_tokens = tf.maximum(tf.shape(pt)[1],tf.shape(en)[1])\n",
    "    return num_tokens < MAX_TOKENS"
   ]
  },
  {
   "cell_type": "code",
   "execution_count": 23,
   "id": "14661fdb",
   "metadata": {},
   "outputs": [
    {
     "name": "stdout",
     "output_type": "stream",
     "text": [
      "tf.Tensor(False, shape=(), dtype=bool)\n"
     ]
    }
   ],
   "source": [
    "### Example of above function \n",
    "bool_tensor=filter_max_tokens(pt,en)\n",
    "print(bool_tensor)\n",
    "## meaning num_tokens is not less than the max tokens "
   ]
  },
  {
   "attachments": {},
   "cell_type": "markdown",
   "id": "88bbaf5e",
   "metadata": {},
   "source": [
    "**Example of tf.maximum**\n",
    "<code>\n",
    "    x = tf.constant([-5., -1., 0., 0.])\n",
    "    y = tf.constant([-3.])\n",
    "    c=tf.math.maximum(x, y)\n",
    "    print(c)\n",
    "</code>    \n",
    "    "
   ]
  },
  {
   "attachments": {},
   "cell_type": "markdown",
   "id": "270ee05b",
   "metadata": {},
   "source": [
    "Here's a simple input pipeline that processes, shuffles and batches the data:"
   ]
  },
  {
   "cell_type": "code",
   "execution_count": 24,
   "id": "b5ad4110",
   "metadata": {},
   "outputs": [],
   "source": [
    "BUFFER_SIZE = 20000\n",
    "BATCH_SIZE = 64"
   ]
  },
  {
   "cell_type": "code",
   "execution_count": 25,
   "id": "ca7d77df",
   "metadata": {},
   "outputs": [],
   "source": [
    "def make_batches(ds):\n",
    "    return (\n",
    "      ds\n",
    "      .cache()\n",
    "      .shuffle(BUFFER_SIZE)\n",
    "      .batch(BATCH_SIZE)\n",
    "      .map(tokenize_pairs, num_parallel_calls=tf.data.AUTOTUNE)## Define above\n",
    "      .filter(filter_max_tokens) #Define above\n",
    "      .prefetch(tf.data.AUTOTUNE))\n",
    "\n",
    "\n",
    "train_batches = make_batches(train_examples)\n",
    "val_batches = make_batches(val_examples)"
   ]
  },
  {
   "cell_type": "code",
   "execution_count": 26,
   "id": "a6ad489e",
   "metadata": {},
   "outputs": [
    {
     "name": "stdout",
     "output_type": "stream",
     "text": [
      "(64, 55)\n",
      "(64, 79)\n",
      "(64, 72)\n",
      "(64, 77)\n",
      "(64, 83)\n"
     ]
    }
   ],
   "source": [
    "## Here we can observe that each batch size still have variable length\n",
    "\n",
    "\n",
    "## Question: During the training process how do they handle different sequence length?\n",
    "for element in train_batches.take(5):\n",
    "    print(element[0].shape)"
   ]
  },
  {
   "attachments": {},
   "cell_type": "markdown",
   "id": "7dbcc216",
   "metadata": {},
   "source": [
    "### Positional Encoding \n",
    "\n",
    ">>look into *An Attention is all we need* paper"
   ]
  },
  {
   "cell_type": "code",
   "execution_count": 27,
   "id": "dddd48bf",
   "metadata": {},
   "outputs": [],
   "source": [
    "def get_angles(pos, i, d_model):\n",
    "    angle_rates = 1 / np.power(10000, (2 * (i//2)) / np.float32(d_model))\n",
    "    return pos * angle_rates"
   ]
  },
  {
   "cell_type": "code",
   "execution_count": 28,
   "id": "60a5d4ca",
   "metadata": {},
   "outputs": [],
   "source": [
    "\n",
    "def positional_encoding(position, d_model):\n",
    "    angle_rads = get_angles(np.arange(position)[:, np.newaxis],\n",
    "                          np.arange(d_model)[np.newaxis, :],\n",
    "                          d_model)\n",
    "\n",
    "    # apply sin to even indices in the array; 2i\n",
    "    angle_rads[:, 0::2] = np.sin(angle_rads[:, 0::2])\n",
    "\n",
    "    # apply cos to odd indices in the array; 2i+1\n",
    "    angle_rads[:, 1::2] = np.cos(angle_rads[:, 1::2])\n",
    "\n",
    "    pos_encoding = angle_rads[np.newaxis, ...]\n",
    "\n",
    "    return tf.cast(pos_encoding, dtype=tf.float32)"
   ]
  },
  {
   "cell_type": "code",
   "execution_count": 29,
   "id": "1f36c66c",
   "metadata": {},
   "outputs": [
    {
     "data": {
      "text/plain": [
       "<tf.Tensor: shape=(1, 20, 36), dtype=float32, numpy=\n",
       "array([[[ 0.00000000e+00,  1.00000000e+00,  0.00000000e+00,\n",
       "          1.00000000e+00,  0.00000000e+00,  1.00000000e+00,\n",
       "          0.00000000e+00,  1.00000000e+00,  0.00000000e+00,\n",
       "          1.00000000e+00,  0.00000000e+00,  1.00000000e+00,\n",
       "          0.00000000e+00,  1.00000000e+00,  0.00000000e+00,\n",
       "          1.00000000e+00,  0.00000000e+00,  1.00000000e+00,\n",
       "          0.00000000e+00,  1.00000000e+00,  0.00000000e+00,\n",
       "          1.00000000e+00,  0.00000000e+00,  1.00000000e+00,\n",
       "          0.00000000e+00,  1.00000000e+00,  0.00000000e+00,\n",
       "          1.00000000e+00,  0.00000000e+00,  1.00000000e+00,\n",
       "          0.00000000e+00,  1.00000000e+00,  0.00000000e+00,\n",
       "          1.00000000e+00,  0.00000000e+00,  1.00000000e+00],\n",
       "        [ 8.41470957e-01,  5.40302277e-01,  5.64216733e-01,\n",
       "          8.25626731e-01,  3.51695180e-01,  9.36114550e-01,\n",
       "          2.13780671e-01,  9.76881683e-01,  1.28796190e-01,\n",
       "          9.91671085e-01,  7.73490295e-02,  9.97004092e-01,\n",
       "          4.63992245e-02,  9.98923004e-01,  2.78220028e-02,\n",
       "          9.99612868e-01,  1.66802313e-02,  9.99860883e-01,\n",
       "          9.99983307e-03,  9.99949992e-01,  5.99480653e-03,\n",
       "          9.99982059e-01,  3.59380594e-03,  9.99993563e-01,\n",
       "          2.15443294e-03,  9.99997675e-01,  1.29154930e-03,\n",
       "          9.99999166e-01,  7.74263579e-04,  9.99999702e-01,\n",
       "          4.64158860e-04,  9.99999881e-01,  2.78255931e-04,\n",
       "          9.99999940e-01,  1.66810059e-04,  1.00000000e+00],\n",
       "        [ 9.09297407e-01, -4.16146845e-01,  9.31664824e-01,\n",
       "          3.63318950e-01,  6.58454001e-01,  7.52620995e-01,\n",
       "          4.17676836e-01,  9.08595681e-01,  2.55446911e-01,\n",
       "          9.66823101e-01,  1.54234603e-01,  9.88034248e-01,\n",
       "          9.26984996e-02,  9.95694220e-01,  5.56224659e-02,\n",
       "          9.98451889e-01,  3.33558209e-02,  9.99443531e-01,\n",
       "          1.99986659e-02,  9.99800026e-01,  1.19893979e-02,\n",
       "          9.99928117e-01,  7.18756532e-03,  9.99974191e-01,\n",
       "          4.30885609e-03,  9.99990702e-01,  2.58309650e-03,\n",
       "          9.99996662e-01,  1.54852669e-03,  9.99998808e-01,\n",
       "          9.28317662e-04,  9.99999583e-01,  5.56511863e-04,\n",
       "          9.99999821e-01,  3.33620090e-04,  9.99999940e-01],\n",
       "        [ 1.41120002e-01, -9.89992499e-01,  9.74197984e-01,\n",
       "         -2.25695044e-01,  8.81081522e-01,  4.72964376e-01,\n",
       "          6.02261007e-01,  7.98299193e-01,  3.77842456e-01,\n",
       "          9.25869882e-01,  2.30196014e-01,  9.73144293e-01,\n",
       "          1.38798103e-01,  9.90320683e-01,  8.33798647e-02,\n",
       "          9.96517837e-01,  5.00221327e-02,  9.98748124e-01,\n",
       "          2.99955010e-02,  9.99550045e-01,  1.79835577e-02,\n",
       "          9.99838293e-01,  1.07812323e-02,  9.99941885e-01,\n",
       "          6.46325899e-03,  9.99979138e-01,  3.87463928e-03,\n",
       "          9.99992490e-01,  2.32278905e-03,  9.99997318e-01,\n",
       "          1.39247614e-03,  9.99999046e-01,  8.34767707e-04,\n",
       "          9.99999642e-01,  5.00430120e-04,  9.99999881e-01],\n",
       "        [-7.56802499e-01, -6.53643608e-01,  6.76982999e-01,\n",
       "         -7.35998690e-01,  9.91132557e-01,  1.32876709e-01,\n",
       "          7.58998692e-01,  6.51092112e-01,  4.93943959e-01,\n",
       "          8.69493723e-01,  3.04778129e-01,  9.52423394e-01,\n",
       "          1.84598729e-01,  9.82813954e-01,  1.11072712e-01,\n",
       "          9.93812263e-01,  6.66745231e-02,  9.97774780e-01,\n",
       "          3.99893336e-02,  9.99200106e-01,  2.39770729e-02,\n",
       "          9.99712527e-01,  1.43747600e-02,  9.99896705e-01,\n",
       "          8.61763209e-03,  9.99962866e-01,  5.16617578e-03,\n",
       "          9.99986649e-01,  3.09704989e-03,  9.99995232e-01,\n",
       "          1.85663451e-03,  9.99998271e-01,  1.11302349e-03,\n",
       "          9.99999404e-01,  6.67240180e-04,  9.99999762e-01],\n",
       "        [-9.58924294e-01,  2.83662200e-01,  1.43672481e-01,\n",
       "         -9.89625275e-01,  9.74545717e-01, -2.24188745e-01,\n",
       "          8.80642831e-01,  4.73780721e-01,  6.01817429e-01,\n",
       "          7.98633695e-01,  3.77534062e-01,  9.25995708e-01,\n",
       "          2.30001718e-01,  9.73190248e-01,  1.38679564e-01,\n",
       "          9.90337312e-01,  8.33083615e-02,  9.96523798e-01,\n",
       "          4.99791689e-02,  9.98750269e-01,  2.99697239e-02,\n",
       "          9.99550819e-01,  1.79681014e-02,  9.99838531e-01,\n",
       "          1.07719647e-02,  9.99942005e-01,  6.45770365e-03,\n",
       "          9.99979138e-01,  3.87130864e-03,  9.99992490e-01,\n",
       "          2.32079229e-03,  9.99997318e-01,  1.39127928e-03,\n",
       "          9.99999046e-01,  8.34050181e-04,  9.99999642e-01],\n",
       "        [-2.79415488e-01,  9.60170269e-01, -4.39743310e-01,\n",
       "         -8.98123503e-01,  8.33440363e-01, -5.52609384e-01,\n",
       "          9.61569011e-01,  2.74563283e-01,  6.99665904e-01,\n",
       "          7.14470148e-01,  4.48027879e-01,  8.94019604e-01,\n",
       "          2.74909258e-01,  9.61470187e-01,  1.66179046e-01,\n",
       "          9.86095607e-01,  9.99190211e-02,  9.94995594e-01,\n",
       "          5.99640049e-02,  9.98200536e-01,  3.59613001e-02,\n",
       "          9.99353170e-01,  2.15612110e-02,  9.99767542e-01,\n",
       "          1.29262479e-02,  9.99916434e-01,  7.74922036e-03,\n",
       "          9.99969959e-01,  4.64556552e-03,  9.99989212e-01,\n",
       "          2.78494973e-03,  9.99996126e-01,  1.66953483e-03,\n",
       "          9.99998629e-01,  1.00086012e-03,  9.99999523e-01],\n",
       "        [ 6.56986594e-01,  7.53902256e-01, -8.69800150e-01,\n",
       "         -4.93404210e-01,  5.85845590e-01, -8.10422659e-01,\n",
       "          9.98035491e-01,  6.26509860e-02,  7.85859525e-01,\n",
       "          6.18405104e-01,  5.15837193e-01,  8.56686652e-01,\n",
       "          3.19224656e-01,  9.47679043e-01,  1.93549871e-01,\n",
       "          9.81090426e-01,  1.16501875e-01,  9.93190467e-01,\n",
       "          6.99428469e-02,  9.97551024e-01,  4.19515818e-02,\n",
       "          9.99119639e-01,  2.51540430e-02,  9.99683559e-01,\n",
       "          1.50804715e-02,  9.99886274e-01,  9.04072449e-03,\n",
       "          9.99959111e-01,  5.41981915e-03,  9.99985337e-01,\n",
       "          3.24910646e-03,  9.99994695e-01,  1.94779038e-03,\n",
       "          9.99998093e-01,  1.16767013e-03,  9.99999344e-01],\n",
       "        [ 9.89358246e-01, -1.45500034e-01, -9.96517122e-01,\n",
       "          8.33880752e-02,  2.63396859e-01, -9.64687586e-01,\n",
       "          9.88356173e-01, -1.52158096e-01,  8.58962357e-01,\n",
       "          5.12038708e-01,  5.80555618e-01,  8.14220548e-01,\n",
       "          3.62852424e-01,  9.31846619e-01,  2.20770851e-01,\n",
       "          9.75325704e-01,  1.33052319e-01,  9.91109014e-01,\n",
       "          7.99146965e-02,  9.96801734e-01,  4.79403585e-02,\n",
       "          9.98850226e-01,  2.87465490e-02,  9.99586761e-01,\n",
       "          1.72346234e-02,  9.99851465e-01,  1.03322137e-02,\n",
       "          9.99946594e-01,  6.19406998e-03,  9.99980807e-01,\n",
       "          3.71326250e-03,  9.99993086e-01,  2.22604559e-03,\n",
       "          9.99997497e-01,  1.33448001e-03,  9.99999106e-01],\n",
       "        [ 4.12118495e-01, -9.11130250e-01, -7.75702238e-01,\n",
       "          6.31099045e-01, -9.27063376e-02, -9.95693505e-01,\n",
       "          9.32978570e-01, -3.59931886e-01,  9.17756796e-01,\n",
       "          3.97142917e-01,  6.41795516e-01,  7.66875803e-01,\n",
       "          4.05698568e-01,  9.14006948e-01,  2.47820899e-01,\n",
       "          9.68805850e-01,  1.49565727e-01,  9.88751769e-01,\n",
       "          8.98785517e-02,  9.95952725e-01,  5.39274104e-02,\n",
       "          9.98544872e-01,  3.23386826e-02,  9.99476969e-01,\n",
       "          1.93886980e-02,  9.99812007e-01,  1.16236852e-02,\n",
       "          9.99932468e-01,  6.96831662e-03,  9.99975741e-01,\n",
       "          4.17741761e-03,  9.99991298e-01,  2.50430079e-03,\n",
       "          9.99996841e-01,  1.50128989e-03,  9.99998868e-01],\n",
       "        [-5.44021130e-01, -8.39071512e-01, -2.84363836e-01,\n",
       "          9.58716452e-01, -4.36964363e-01, -8.99478793e-01,\n",
       "          8.34463179e-01, -5.51063657e-01,  9.61263359e-01,\n",
       "          2.75631577e-01,  6.99189842e-01,  7.14936078e-01,\n",
       "          4.47670847e-01,  8.94198418e-01,  2.74679095e-01,\n",
       "          9.61535931e-01,  1.66037530e-01,  9.86119449e-01,\n",
       "          9.98334140e-02,  9.95004177e-01,  5.99125251e-02,\n",
       "          9.98203635e-01,  3.59304026e-02,  9.99354303e-01,\n",
       "          2.15426795e-02,  9.99767959e-01,  1.29151372e-02,\n",
       "          9.99916613e-01,  7.74255954e-03,  9.99970019e-01,\n",
       "          4.64157201e-03,  9.99989212e-01,  2.78255576e-03,\n",
       "          9.99996126e-01,  1.66809978e-03,  9.99998629e-01],\n",
       "        [-9.99990225e-01,  4.42569796e-03,  3.06145489e-01,\n",
       "          9.51984763e-01, -7.25391090e-01, -6.88336968e-01,\n",
       "          6.97365046e-01, -7.16716111e-01,  9.88757372e-01,\n",
       "          1.49528801e-01,  7.52394736e-01,  6.58712506e-01,\n",
       "          4.88678783e-01,  8.72463763e-01,  3.01324606e-01,\n",
       "          9.53521609e-01,  1.82463139e-01,  9.83212709e-01,\n",
       "          1.09778300e-01,  9.93956089e-01,  6.58954829e-02,\n",
       "          9.97826517e-01,  3.95216532e-02,  9.99218702e-01,\n",
       "          2.36965641e-02,  9.99719203e-01,  1.42065687e-02,\n",
       "          9.99899089e-01,  8.51679780e-03,  9.99963760e-01,\n",
       "          5.10572549e-03,  9.99986947e-01,  3.06081050e-03,\n",
       "          9.99995291e-01,  1.83490955e-03,  9.99998331e-01],\n",
       "        [-5.36572933e-01,  8.43853951e-01,  7.89887607e-01,\n",
       "          6.13251626e-01, -9.21133935e-01, -3.89245719e-01,\n",
       "          5.28023124e-01, -8.49229991e-01,  9.99780834e-01,\n",
       "          2.09351983e-02,  8.01091373e-01,  5.98542035e-01,\n",
       "          5.28634131e-01,  8.48849773e-01,  3.27736855e-01,\n",
       "          9.44769025e-01,  1.98837966e-01,  9.80032384e-01,\n",
       "          1.19712204e-01,  9.92808640e-01,  7.18760788e-02,\n",
       "          9.97413576e-01,  4.31123972e-02,  9.99070227e-01,\n",
       "          2.58503370e-02,  9.99665797e-01,  1.54979751e-02,\n",
       "          9.99879897e-01,  9.29103047e-03,  9.99956846e-01,\n",
       "          5.56987757e-03,  9.99984503e-01,  3.33906501e-03,\n",
       "          9.99994397e-01,  2.00171932e-03,  9.99997973e-01],\n",
       "        [ 4.20167029e-01,  9.07446802e-01,  9.98159170e-01,\n",
       "          6.06491379e-02, -9.99182761e-01, -4.04202044e-02,\n",
       "          3.34267169e-01, -9.42478359e-01,  9.94150102e-01,\n",
       "         -1.08007133e-01,  8.44988048e-01,  5.34785211e-01,\n",
       "          5.67450762e-01,  8.23407352e-01,  3.53895366e-01,\n",
       "          9.35285032e-01,  2.15157464e-01,  9.76579368e-01,\n",
       "          1.29634142e-01,  9.91561890e-01,  7.78540894e-02,\n",
       "          9.96964753e-01,  4.67025824e-02,  9.98908818e-01,\n",
       "          2.80039888e-02,  9.99607801e-01,  1.67893562e-02,\n",
       "          9.99859035e-01,  1.00652575e-02,  9.99949336e-01,\n",
       "          6.03402872e-03,  9.99981821e-01,  3.61731928e-03,\n",
       "          9.99993443e-01,  2.16852897e-03,  9.99997675e-01],\n",
       "        [ 9.90607381e-01,  1.36737213e-01,  8.58326137e-01,\n",
       "         -5.13104558e-01, -9.49565172e-01,  3.13569844e-01,\n",
       "          1.25055820e-01, -9.92149711e-01,  9.71958995e-01,\n",
       "         -2.35150307e-01,  8.83821607e-01,  4.67824042e-01,\n",
       "          6.05045021e-01,  7.96191216e-01,  3.79779875e-01,\n",
       "          9.25076902e-01,  2.31417105e-01,  9.72854614e-01,\n",
       "          1.39543116e-01,  9.90216017e-01,  8.38292986e-02,\n",
       "          9.96480107e-01,  5.02921678e-02,  9.98734534e-01,\n",
       "          3.01575121e-02,  9.99545157e-01,  1.80807095e-02,\n",
       "          9.99836504e-01,  1.08394790e-02,  9.99941230e-01,\n",
       "          6.49817847e-03,  9.99978900e-01,  3.89557332e-03,\n",
       "          9.99992430e-01,  2.33533862e-03,  9.99997258e-01],\n",
       "        [ 6.50287867e-01, -7.59687901e-01,  4.19154823e-01,\n",
       "         -9.07914758e-01, -7.78620780e-01,  6.27494752e-01,\n",
       "         -8.99376869e-02, -9.95947421e-01,  9.33577180e-01,\n",
       "         -3.58376384e-01,  9.17359531e-01,  3.98059726e-01,\n",
       "          6.41336024e-01,  7.67260134e-01,  4.05370325e-01,\n",
       "          9.14152563e-01,  2.47612342e-01,  9.68859196e-01,\n",
       "          1.49438128e-01,  9.88771081e-01,  8.98014978e-02,\n",
       "          9.95959699e-01,  5.38811013e-02,  9.98547375e-01,\n",
       "          3.23108956e-02,  9.99477863e-01,  1.93720330e-02,\n",
       "          9.99812365e-01,  1.16136940e-02,  9.99932587e-01,\n",
       "          6.96232682e-03,  9.99975741e-01,  4.17382689e-03,\n",
       "          9.99991298e-01,  2.50214827e-03,  9.99996841e-01],\n",
       "        [-2.87903309e-01, -9.57659483e-01, -1.66195303e-01,\n",
       "         -9.86092865e-01, -5.08191347e-01,  8.61244202e-01,\n",
       "         -3.00772786e-01, -9.53695834e-01,  8.79643977e-01,\n",
       "         -4.75632668e-01,  9.45400715e-01,  3.25910300e-01,\n",
       "          6.76245570e-01,  7.36676276e-01,  4.30646986e-01,\n",
       "          9.02520478e-01,  2.63738692e-01,  9.64594185e-01,\n",
       "          1.59318209e-01,  9.87227261e-01,  9.57704708e-02,\n",
       "          9.95403469e-01,  5.74693382e-02,  9.98347282e-01,\n",
       "          3.44641283e-02,  9.99405921e-01,  2.06633247e-02,\n",
       "          9.99786496e-01,  1.23879025e-02,  9.99923289e-01,\n",
       "          7.42647378e-03,  9.99972403e-01,  4.45208047e-03,\n",
       "          9.99990106e-01,  2.66895769e-03,  9.99996424e-01],\n",
       "        [-9.61397469e-01, -2.75163352e-01, -6.93585396e-01,\n",
       "         -7.20374465e-01, -1.72829896e-01,  9.84951675e-01,\n",
       "         -4.97701138e-01, -8.67348611e-01,  8.11057806e-01,\n",
       "         -5.84965944e-01,  9.67777193e-01,  2.51808077e-01,\n",
       "          7.09698439e-01,  7.04505563e-01,  4.55590189e-01,\n",
       "          8.90189648e-01,  2.79791653e-01,  9.60060716e-01,\n",
       "          1.69182345e-01,  9.85584795e-01,  1.01736002e-01,\n",
       "          9.94811416e-01,  6.10568337e-02,  9.98134315e-01,\n",
       "          3.66172008e-02,  9.99329388e-01,  2.19545811e-02,\n",
       "          9.99758959e-01,  1.31621026e-02,  9.99913394e-01,\n",
       "          7.89061934e-03,  9.99968886e-01,  4.73033357e-03,\n",
       "          9.99988794e-01,  2.83576711e-03,  9.99996006e-01],\n",
       "        [-7.50987232e-01,  6.60316706e-01, -9.79089916e-01,\n",
       "         -2.03427911e-01,  1.84614182e-01,  9.82811093e-01,\n",
       "         -6.71617508e-01, -7.40898073e-01,  7.28961229e-01,\n",
       "         -6.84554994e-01,  9.84354913e-01,  1.76197037e-01,\n",
       "          7.41622627e-01,  6.70817316e-01,  4.80180681e-01,\n",
       "          8.77169609e-01,  2.95766771e-01,  9.55260158e-01,\n",
       "          1.79029569e-01,  9.83843684e-01,  1.07697874e-01,\n",
       "          9.94183660e-01,  6.46435395e-02,  9.97908413e-01,\n",
       "          3.87701057e-02,  9.99248147e-01,  2.32458003e-02,\n",
       "          9.99729753e-01,  1.39362952e-02,  9.99902904e-01,\n",
       "          8.35476257e-03,  9.99965072e-01,  5.00858575e-03,\n",
       "          9.99987483e-01,  3.00257653e-03,  9.99995470e-01],\n",
       "        [ 1.49877205e-01,  9.88704622e-01, -9.23140228e-01,\n",
       "          3.84463400e-01,  5.18469930e-01,  8.55095863e-01,\n",
       "         -8.14480484e-01, -5.80190897e-01,  6.34721696e-01,\n",
       "         -7.72740841e-01,  9.95034516e-01,  9.95302647e-02,\n",
       "          7.71949291e-01,  6.35684133e-01,  5.04399419e-01,\n",
       "          8.63470435e-01,  3.11659575e-01,  9.50193822e-01,\n",
       "          1.88858896e-01,  9.82004225e-01,  1.13655880e-01,\n",
       "          9.93520200e-01,  6.82294145e-02,  9.97669637e-01,\n",
       "          4.09228280e-02,  9.99162316e-01,  2.45369803e-02,\n",
       "          9.99698937e-01,  1.47104794e-02,  9.99891818e-01,\n",
       "          8.81890487e-03,  9.99961138e-01,  5.28683839e-03,\n",
       "          9.99986053e-01,  3.16938572e-03,  9.99994993e-01]]],\n",
       "      dtype=float32)>"
      ]
     },
     "execution_count": 29,
     "metadata": {},
     "output_type": "execute_result"
    }
   ],
   "source": [
    "positional_encoding(20,36)"
   ]
  },
  {
   "attachments": {},
   "cell_type": "markdown",
   "id": "5c6412ce",
   "metadata": {},
   "source": [
    "### Masking\n",
    ">Mask all the pad tokens in the batch of sequence. It ensures that the model does not treat padding as the input. The mask indicates where pad value 0 is present: it outputs a 1 at those locations, and a 0 otherwise.\n",
    "\n",
    "*Note: We don't need masking skeleton based Posed based Action Recognition.*"
   ]
  },
  {
   "cell_type": "code",
   "execution_count": 30,
   "id": "3d4070f0",
   "metadata": {},
   "outputs": [],
   "source": [
    "def create_padding_mask(seq):\n",
    "    seq = tf.cast(tf.math.equal(seq, 0), tf.float32)\n",
    "\n",
    "    # add extra dimensions to add the padding\n",
    "    # to the attention logits.\n",
    "    return seq[:, tf.newaxis, tf.newaxis, :]  # (batch_size, 1, 1, seq_len)"
   ]
  },
  {
   "attachments": {},
   "cell_type": "markdown",
   "id": "84b32943",
   "metadata": {},
   "source": [
    "*Similar function in array*\n",
    "<code>\n",
    "    def create_padding_mask(seq):\n",
    "        seq=np.where(seq!=0,0,1)\n",
    "        return seq\n",
    "</code>    "
   ]
  },
  {
   "attachments": {},
   "cell_type": "markdown",
   "id": "bb2bd843",
   "metadata": {},
   "source": [
    "*Masking Example*"
   ]
  },
  {
   "cell_type": "code",
   "execution_count": 31,
   "id": "267dfd72",
   "metadata": {},
   "outputs": [
    {
     "data": {
      "text/plain": [
       "<tf.Tensor: shape=(3, 1, 1, 5), dtype=float32, numpy=\n",
       "array([[[[0., 0., 1., 1., 0.]]],\n",
       "\n",
       "\n",
       "       [[[0., 0., 0., 1., 1.]]],\n",
       "\n",
       "\n",
       "       [[[1., 1., 1., 0., 0.]]]], dtype=float32)>"
      ]
     },
     "execution_count": 31,
     "metadata": {},
     "output_type": "execute_result"
    }
   ],
   "source": [
    "\n",
    "x = tf.constant([[7, 6, 0, 0, 1], [1, 2, 3, 0, 0], [0, 0, 0, 4, 5]])\n",
    "create_padding_mask(x)"
   ]
  },
  {
   "attachments": {},
   "cell_type": "markdown",
   "id": "8edd658d",
   "metadata": {},
   "source": [
    "### look ahead mask\n",
    ">The look-ahead mask is used to mask the future tokens in a sequence. In other words, the mask indicates which entries should not be used.<br>This means that to predict the third token, only the first and second token will be used. Similarly to predict the fourth token, only the first, second and the third tokens will be used and so on."
   ]
  },
  {
   "cell_type": "code",
   "execution_count": 32,
   "id": "b6065f9d",
   "metadata": {},
   "outputs": [],
   "source": [
    "def create_look_ahead_mask(size):\n",
    "    mask = 1 - tf.linalg.band_part(tf.ones((size, size)), -1, 0)\n",
    "    return mask  # (seq_len, seq_len)"
   ]
  },
  {
   "cell_type": "code",
   "execution_count": 33,
   "id": "ea1f6357",
   "metadata": {},
   "outputs": [
    {
     "data": {
      "text/plain": [
       "<tf.Tensor: shape=(3, 3), dtype=float32, numpy=\n",
       "array([[0., 1., 1.],\n",
       "       [0., 0., 1.],\n",
       "       [0., 0., 0.]], dtype=float32)>"
      ]
     },
     "execution_count": 33,
     "metadata": {},
     "output_type": "execute_result"
    }
   ],
   "source": [
    "x = tf.random.uniform((1, 3))\n",
    "\n",
    "temp = create_look_ahead_mask(x.shape[1]) \n",
    "#Value with 1 are masked \n",
    "temp"
   ]
  },
  {
   "cell_type": "code",
   "execution_count": 34,
   "id": "02a921ea",
   "metadata": {},
   "outputs": [
    {
     "data": {
      "text/plain": [
       "3"
      ]
     },
     "execution_count": 34,
     "metadata": {},
     "output_type": "execute_result"
    }
   ],
   "source": [
    "x.shape[1]"
   ]
  },
  {
   "attachments": {},
   "cell_type": "markdown",
   "id": "7f9e4bd8",
   "metadata": {},
   "source": [
    "### Building Transfomrer from scratch\n",
    "i. Multi-Headed Attention Layer <br>\n",
    "1. Linear Layer <br>\n",
    "2. Scaler Dot Product Attention <br>\n",
    "3. Final Linear Layer<br> \n",
    "\n",
    "ii. Encoder <br>\n",
    "iii. Decoder <br>\n",
    "iv. Tranformer Model <br>\n"
   ]
  },
  {
   "cell_type": "code",
   "execution_count": 35,
   "id": "3efe9fd1",
   "metadata": {},
   "outputs": [],
   "source": [
    "def scaled_dot_product_attention(q, k, v, mask):\n",
    "    \"\"\"Calculate the attention weights.\n",
    "    q, k, v must have matching leading dimensions.\n",
    "    k, v must have matching penultimate dimension, i.e.: seq_len_k = seq_len_v.\n",
    "    The mask has different shapes depending on its type(padding or look ahead)\n",
    "    but it must be broadcastable for addition.\n",
    "\n",
    "    Args:\n",
    "    q: query shape == (..., seq_len_q, depth)\n",
    "    k: key shape == (..., seq_len_k, depth)\n",
    "    v: value shape == (..., seq_len_v, depth_v)\n",
    "    mask: Float tensor with shape broadcastable\n",
    "          to (..., seq_len_q, seq_len_k). Defaults to None.\n",
    "\n",
    "    Returns:\n",
    "    output, attention_weights\n",
    "    \"\"\"\n",
    "\n",
    "    matmul_qk = tf.matmul(q, k, transpose_b=True)  # (..., seq_len_q, seq_len_k)\n",
    "    ## shape is determined by simple matrix multiplication rule \n",
    "\n",
    "    # scale matmul_qk\n",
    "    dk = tf.cast(tf.shape(k)[-1], tf.float32)\n",
    "    #dk is the square root dimension of keys\n",
    "    scaled_attention_logits = matmul_qk / tf.math.sqrt(dk)\n",
    "\n",
    "    # add the mask to the scaled tensor.\n",
    "    if mask is not None:\n",
    "        scaled_attention_logits += (mask * -1e9)\n",
    "\n",
    "    # softmax is normalized on the last axis (seq_len_k) so that the scores\n",
    "    # add up to 1.\n",
    "    attention_weights = tf.nn.softmax(scaled_attention_logits, axis=-1)  # (..., seq_len_q, seq_len_k)\n",
    "\n",
    "    output = tf.matmul(attention_weights, v)  # (..., seq_len_q, depth_v)\n",
    "\n",
    "    return output, attention_weights\n"
   ]
  },
  {
   "cell_type": "code",
   "execution_count": 36,
   "id": "f754518e",
   "metadata": {},
   "outputs": [],
   "source": [
    "## here d_model is feature dimension as well as dimension of the k\n",
    "class MultiHeadAttention(tf.keras.layers.Layer):\n",
    "    def __init__(self,*, d_model, num_heads): ##(self,*,d_model=dimension of k,num_heads)\n",
    "        \n",
    "        ##  d_model refer to the dimension of the q,v,k\n",
    "        super(MultiHeadAttention, self).__init__()\n",
    "        self.num_heads = num_heads\n",
    "        self.d_model = d_model\n",
    "\n",
    "        assert d_model % self.num_heads == 0\n",
    "\n",
    "        self.depth = d_model // self.num_heads\n",
    "\n",
    "        self.wq = tf.keras.layers.Dense(d_model) ## Must Define dense layer separately for all because Dense() always expect same shape but q,v,k may have different shape\n",
    "        self.wk = tf.keras.layers.Dense(d_model)\n",
    "        self.wv = tf.keras.layers.Dense(d_model)\n",
    "\n",
    "        self.dense = tf.keras.layers.Dense(d_model)\n",
    "\n",
    "    def split_heads(self, x, batch_size):\n",
    "#     Split the last dimension into (num_heads, depth).\n",
    "#     Transpose the result such that the shape is (batch_size, num_heads, seq_len, depth)\n",
    "\n",
    "#         #because of this split the computational time is same \n",
    "#         #even when the number of heads is increased\n",
    "        \n",
    "        x = tf.reshape(x, (batch_size, -1, self.num_heads, self.depth))\n",
    "        return tf.transpose(x, perm=[0, 2, 1, 3])\n",
    "\n",
    "    def call(self, v, k, q, mask):\n",
    "        batch_size = tf.shape(q)[0]\n",
    "\n",
    "        q = self.wq(q)  # q.shape= (batch_size, seq_len, d_model) ;Change the last dimesnion to d_model\n",
    "        k = self.wk(k)  # (batch_size, seq_len, d_model)\n",
    "        v = self.wv(v)  # (batch_size, seq_len, d_model)\n",
    "\n",
    "        q = self.split_heads(q, batch_size)  # (batch_size, num_heads, seq_len_q, depth)\n",
    "        k = self.split_heads(k, batch_size)  # (batch_size, num_heads, seq_len_k, depth)\n",
    "        v = self.split_heads(v, batch_size)  # (batch_size, num_heads, seq_len_v, depth)\n",
    "\n",
    "        # scaled_attention.shape == (batch_size, num_heads, seq_len_q, depth)\n",
    "        # attention_weights.shape == (batch_size, num_heads, seq_len_q, seq_len_k)\n",
    "        scaled_attention, attention_weights = scaled_dot_product_attention(\n",
    "            q, k, v, mask)\n",
    "\n",
    "        scaled_attention = tf.transpose(scaled_attention, perm=[0, 2, 1, 3])  # (batch_size, seq_len_q, num_heads, depth)\n",
    "\n",
    "        concat_attention = tf.reshape(scaled_attention,\n",
    "                                      (batch_size, -1, self.d_model))  # (batch_size, seq_len_q, d_model)\n",
    "\n",
    "        output = self.dense(concat_attention)  # (batch_size, seq_len_q, d_model) \n",
    "        ## this must assume the d_model and feature length is same \n",
    "\n",
    "        return output, attention_weights"
   ]
  },
  {
   "attachments": {},
   "cell_type": "markdown",
   "id": "e8f88c16",
   "metadata": {},
   "source": [
    "*Testing the Above MultiHeadedAttention()*"
   ]
  },
  {
   "cell_type": "code",
   "execution_count": 37,
   "id": "91a3a824",
   "metadata": {},
   "outputs": [
    {
     "data": {
      "text/plain": [
       "(TensorShape([63, 43, 512]), TensorShape([63, 8, 43, 43]))"
      ]
     },
     "execution_count": 37,
     "metadata": {},
     "output_type": "execute_result"
    }
   ],
   "source": [
    "temp_mha = MultiHeadAttention(d_model=512, num_heads=8)\n",
    "y = tf.random.uniform((63,43,64))  # (batch_size, encoder_sequence, d_model)\n",
    "out, attn = temp_mha(y, k=y, q=y, mask=None)\n",
    "out.shape, attn.shape"
   ]
  },
  {
   "cell_type": "code",
   "execution_count": 38,
   "id": "ebacc06d",
   "metadata": {},
   "outputs": [
    {
     "data": {
      "text/plain": [
       "TensorShape([63, 43, 64])"
      ]
     },
     "execution_count": 38,
     "metadata": {},
     "output_type": "execute_result"
    }
   ],
   "source": [
    "y.shape"
   ]
  },
  {
   "attachments": {},
   "cell_type": "markdown",
   "id": "1abcc4a6",
   "metadata": {},
   "source": [
    "### Point wise feed forward network\n",
    ">Point wise feed forward network consists of two fully-connected layers with a ReLU activation in between."
   ]
  },
  {
   "cell_type": "code",
   "execution_count": 40,
   "id": "c989348a",
   "metadata": {},
   "outputs": [],
   "source": [
    "def point_wise_feed_forward_network(d_model, dff):\n",
    "    return tf.keras.Sequential([\n",
    "      tf.keras.layers.Dense(dff, activation='relu'),  # (batch_size, seq_len, dff)\n",
    "      tf.keras.layers.Dense(d_model)  # (batch_size, seq_len, d_model)\n",
    "    ])"
   ]
  },
  {
   "attachments": {},
   "cell_type": "markdown",
   "id": "8878d5d3",
   "metadata": {},
   "source": [
    "## Encoder\n",
    "Each encoder layer consists of sublayers:\n",
    "1. Multi-head Attention\n",
    "2. Point wise feed forward networks"
   ]
  },
  {
   "cell_type": "code",
   "execution_count": 41,
   "id": "b6ef7662",
   "metadata": {},
   "outputs": [],
   "source": [
    "class EncoderLayer(tf.keras.layers.Layer):\n",
    "    def __init__(self,*, d_model, num_heads, dff, rate=0.1):\n",
    "        super(EncoderLayer, self).__init__()\n",
    "\n",
    "        self.mha = MultiHeadAttention(d_model=d_model, num_heads=num_heads)\n",
    "        self.ffn = point_wise_feed_forward_network(d_model, dff)\n",
    "\n",
    "        self.layernorm1 = tf.keras.layers.LayerNormalization(epsilon=1e-6)\n",
    "        self.layernorm2 = tf.keras.layers.LayerNormalization(epsilon=1e-6)\n",
    "\n",
    "        self.dropout1 = tf.keras.layers.Dropout(rate)\n",
    "        self.dropout2 = tf.keras.layers.Dropout(rate)\n",
    "\n",
    "    def call(self, x, training, mask):\n",
    "\n",
    "        attn_output, _ = self.mha(x, x, x, mask)  # att_ouptput.shape=(batch_size, input_seq_len, d_model)\n",
    "        attn_output = self.dropout1(attn_output, training=training)\n",
    "        ##d_model must be equal to feature_dimension otherwise error in addition x + attn_output\n",
    "        out1 = self.layernorm1(x + attn_output)  # (batch_size, input_seq_len, d_model)\n",
    "\n",
    "        ffn_output = self.ffn(out1)  # (batch_size, input_seq_len, d_model)\n",
    "        ffn_output = self.dropout2(ffn_output, training=training)\n",
    "        out2 = self.layernorm2(out1 + ffn_output)  # (batch_size, input_seq_len, d_model)\n",
    "\n",
    "        return out2"
   ]
  },
  {
   "cell_type": "code",
   "execution_count": 42,
   "id": "22c6f116",
   "metadata": {},
   "outputs": [
    {
     "data": {
      "text/plain": [
       "TensorShape([64, 43, 512])"
      ]
     },
     "execution_count": 42,
     "metadata": {},
     "output_type": "execute_result"
    }
   ],
   "source": [
    "sample_encoder_layer = EncoderLayer(d_model=512, num_heads=8, dff=2048)\n",
    "\n",
    "sample_encoder_layer_output = sample_encoder_layer(\n",
    "    tf.random.uniform((64, 43, 512)), False, None)\n",
    "\n",
    "sample_encoder_layer_output.shape  # (batch_size, input_seq_len, d_model)"
   ]
  },
  {
   "cell_type": "code",
   "execution_count": 43,
   "id": "4539e4ce",
   "metadata": {},
   "outputs": [],
   "source": [
    "class Encoder(tf.keras.layers.Layer):\n",
    "    def __init__(self,*, num_layers, d_model, num_heads, dff, input_vocab_size,\n",
    "               rate=0.1):\n",
    "        super(Encoder, self).__init__()\n",
    "\n",
    "        self.d_model = d_model\n",
    "        self.num_layers = num_layers\n",
    "\n",
    "        self.embedding = tf.keras.layers.Embedding(input_vocab_size, d_model)\n",
    "        ## To embed to d_model\n",
    "        ## test code in below cell\n",
    "        self.pos_encoding = positional_encoding(MAX_TOKENS, self.d_model)# Positional encoding for sequence length up to MAX TOKENS\n",
    "\n",
    "        self.enc_layers = [\n",
    "            EncoderLayer(d_model=d_model, num_heads=num_heads, dff=dff, rate=rate)\n",
    "            for _ in range(num_layers)]\n",
    "\n",
    "        self.dropout = tf.keras.layers.Dropout(rate)\n",
    "\n",
    "    def call(self, x, training, mask):\n",
    "\n",
    "        seq_len = tf.shape(x)[1]\n",
    "\n",
    "        # adding embedding and position encoding.\n",
    "        x = self.embedding(x)  # (batch_size, input_seq_len, d_model)\n",
    "        x *= tf.math.sqrt(tf.cast(self.d_model, tf.float32))\n",
    "        \n",
    "        x += self.pos_encoding[:, :seq_len, :] #Slices out the shape not in after embedding\n",
    "\n",
    "        x = self.dropout(x, training=training)\n",
    "\n",
    "        for i in range(self.num_layers):\n",
    "            x = self.enc_layers[i](x, training, mask)\n",
    "\n",
    "        return x  # (batch_size, input_seq_len, d_model)"
   ]
  },
  {
   "cell_type": "code",
   "execution_count": 44,
   "id": "11d6b3e8",
   "metadata": {},
   "outputs": [
    {
     "name": "stdout",
     "output_type": "stream",
     "text": [
      "Pos_emb.shape:  (1, 128, 512)\n",
      "After Embedding: x.shape  (64, 62, 512)\n",
      "After additing positional information: x.shape  (64, 62, 512)\n"
     ]
    }
   ],
   "source": [
    "#try the below code to understand more about embedding and positional \n",
    "emb=tf.keras.layers.Embedding(8500, 512)\n",
    "pos=positional_encoding(MAX_TOKENS,512)\n",
    "print('Pos_emb.shape: ',pos.shape)\n",
    "\n",
    "x=tf.random.uniform((64, 62), dtype=tf.int64, minval=0, maxval=200) #input\n",
    "seq_len=x.shape[1]\n",
    "x=emb(x)\n",
    "print('After Embedding: x.shape ',x.shape)\n",
    "x+=pos[:,:seq_len,:]\n",
    "print('After additing positional information: x.shape ',x.shape)"
   ]
  },
  {
   "attachments": {},
   "cell_type": "markdown",
   "id": "5ea02f4a",
   "metadata": {},
   "source": [
    "<code> #Python\n",
    "emb=tf.keras.layers.Embedding(8500, 512)\n",
    "pos=positional_encoding(MAX_TOKENS,512)\n",
    "print('Pos_emb.shape: ',pos.shape)\n",
    "Pos_emb.shape:  (1, 128, 512)\n",
    "</code>    "
   ]
  },
  {
   "attachments": {},
   "cell_type": "markdown",
   "id": "066220f3",
   "metadata": {},
   "source": [
    "<code> #Python\n",
    "x=tf.random.uniform((64, 62), dtype=tf.int64, minval=0, maxval=200) #input\n",
    "x=emb(x)\n",
    "print('After Embedding: x.shape ',x.shape)\n",
    "</code>"
   ]
  },
  {
   "attachments": {},
   "cell_type": "markdown",
   "id": "0898ed2d",
   "metadata": {},
   "source": [
    "<code> #Python\n",
    "x *= tf.math.sqrt(tf.cast(512, tf.float32))\n",
    "print('x.shape: ',x.shape)\n",
    "</code>"
   ]
  },
  {
   "attachments": {},
   "cell_type": "markdown",
   "id": "90f31b05",
   "metadata": {},
   "source": [
    "<code> #Python\n",
    "pos=pos[:,:62,:] # 62 =tf.shape(x)[1] \n",
    "print('Pos_emb.shape: ',pos.shape)\n",
    "</code>"
   ]
  },
  {
   "attachments": {},
   "cell_type": "markdown",
   "id": "0bdcdd87",
   "metadata": {},
   "source": [
    "<code>\n",
    "print(x.shape)=TensorShape([64, 62, 512])\n",
    "</code>    "
   ]
  },
  {
   "cell_type": "code",
   "execution_count": 45,
   "id": "c7f77dd5",
   "metadata": {},
   "outputs": [
    {
     "name": "stdout",
     "output_type": "stream",
     "text": [
      "(64, 69, 512)\n"
     ]
    }
   ],
   "source": [
    "sample_encoder = Encoder(num_layers=2, d_model=512, num_heads=8,\n",
    "                         dff=2048, input_vocab_size=8500)\n",
    "temp_input = tf.random.uniform((64, 69), dtype=tf.int64, minval=0, maxval=200)\n",
    "\n",
    "sample_encoder_output = sample_encoder(temp_input, training=False, mask=None)\n",
    "\n",
    "\n",
    "print(sample_encoder_output.shape)  # (batch_size, input_seq_len, d_model)"
   ]
  },
  {
   "cell_type": "code",
   "execution_count": 46,
   "id": "5fe2d6d9",
   "metadata": {},
   "outputs": [
    {
     "name": "stdout",
     "output_type": "stream",
     "text": [
      "Pos_emb.shape:  (1, 128, 512)\n"
     ]
    }
   ],
   "source": [
    "emb=tf.keras.layers.Embedding(8500, 512)\n",
    "pos=positional_encoding(MAX_TOKENS,512)\n",
    "print('Pos_emb.shape: ',pos.shape)"
   ]
  },
  {
   "attachments": {},
   "cell_type": "markdown",
   "id": "905ddb1a",
   "metadata": {},
   "source": [
    "## Decoder layer\n",
    "Each decoder layer consists of sublayers: <br>\n",
    "1. Masked multi-head attention (with look ahead mask and padding mask) \n",
    "2. *** Multi-head attention (with padding mask). V (value) and K (key) receive the encoder output as inputs. Q (query) receives the output from the masked multi-head attention sublayer.  ***\n",
    "3. Point wise feed forward networks.\n",
    "<br> <br>\n",
    "Each of these sublayers has a residual connection around it followed by a layer normalization. The output of each sublayer is LayerNorm(x + Sublayer(x)). The normalization is done on the d_model (last) axis.\n",
    "\n",
    ">As Q receives the output from decoder's first attention block, and K receives the encoder output, the attention weights represent the importance given to the decoder's input based on the encoder's output.<b> In other words, the decoder predicts the next token by looking at the encoder output and self-attending to its own output. See the demonstration above in the scaled dot product attention section.</b>"
   ]
  },
  {
   "cell_type": "code",
   "execution_count": 47,
   "id": "ab3d1fa0",
   "metadata": {},
   "outputs": [],
   "source": [
    "class DecoderLayer(tf.keras.layers.Layer):\n",
    "    def __init__(self,*, d_model, num_heads, dff, rate=0.1):\n",
    "        super(DecoderLayer, self).__init__()\n",
    "\n",
    "        self.mha1 = MultiHeadAttention(d_model=d_model, num_heads=num_heads)\n",
    "        self.mha2 = MultiHeadAttention(d_model=d_model, num_heads=num_heads)\n",
    "\n",
    "        self.ffn = point_wise_feed_forward_network(d_model, dff)\n",
    "\n",
    "        self.layernorm1 = tf.keras.layers.LayerNormalization(epsilon=1e-6)\n",
    "        self.layernorm2 = tf.keras.layers.LayerNormalization(epsilon=1e-6)\n",
    "        self.layernorm3 = tf.keras.layers.LayerNormalization(epsilon=1e-6)\n",
    "\n",
    "        self.dropout1 = tf.keras.layers.Dropout(rate)\n",
    "        self.dropout2 = tf.keras.layers.Dropout(rate)\n",
    "        self.dropout3 = tf.keras.layers.Dropout(rate)\n",
    "\n",
    "    def call(self, x, enc_output, training,\n",
    "               look_ahead_mask, padding_mask):\n",
    "        # enc_output.shape == (batch_size, input_seq_len, d_model)\n",
    "\n",
    "        attn1, attn_weights_block1 = self.mha1(x, x, x, look_ahead_mask) ## v,k,q order  \n",
    "        # (batch_size, target_seq_len, d_model)\n",
    "        attn1 = self.dropout1(attn1, training=training)\n",
    "        out1 = self.layernorm1(attn1 + x)\n",
    "\n",
    "        attn2, attn_weights_block2 = self.mha2(\n",
    "            enc_output, enc_output, out1, padding_mask)  ## v and k are from encoder \n",
    "        # (batch_size, target_seq_len, d_model)\n",
    "        attn2 = self.dropout2(attn2, training=training)\n",
    "        out2 = self.layernorm2(attn2 + out1)  # (batch_size, target_seq_len, d_model)\n",
    "\n",
    "        ffn_output = self.ffn(out2)  # (batch_size, target_seq_len, d_model)\n",
    "        ffn_output = self.dropout3(ffn_output, training=training)\n",
    "        out3 = self.layernorm3(ffn_output + out2)  # (batch_size, target_seq_len, d_model)\n",
    "\n",
    "        return out3, attn_weights_block1, attn_weights_block2"
   ]
  },
  {
   "cell_type": "code",
   "execution_count": 48,
   "id": "b95b0373",
   "metadata": {},
   "outputs": [
    {
     "data": {
      "text/plain": [
       "TensorShape([64, 50, 512])"
      ]
     },
     "execution_count": 48,
     "metadata": {},
     "output_type": "execute_result"
    }
   ],
   "source": [
    "sample_decoder_layer = DecoderLayer(d_model=512, num_heads=8, dff=2048)\n",
    "\n",
    "sample_decoder_layer_output, _, _ = sample_decoder_layer(\n",
    "    tf.random.uniform((64, 50, 512)), sample_encoder_layer_output,\n",
    "    False, None, None)\n",
    "\n",
    "sample_decoder_layer_output.shape  # (batch_size, target_seq_len, d_model)"
   ]
  },
  {
   "cell_type": "code",
   "execution_count": 49,
   "id": "30779629",
   "metadata": {},
   "outputs": [],
   "source": [
    "class Decoder(tf.keras.layers.Layer):\n",
    "    def __init__(self,*, num_layers, d_model, num_heads, dff, target_vocab_size,\n",
    "                   rate=0.1):\n",
    "        super(Decoder, self).__init__()\n",
    "\n",
    "        self.d_model = d_model\n",
    "        self.num_layers = num_layers\n",
    "\n",
    "        self.embedding = tf.keras.layers.Embedding(target_vocab_size, d_model)\n",
    "        self.pos_encoding = positional_encoding(MAX_TOKENS, d_model)\n",
    "\n",
    "        self.dec_layers = [\n",
    "            DecoderLayer(d_model=d_model, num_heads=num_heads, dff=dff, rate=rate)\n",
    "            for _ in range(num_layers)]\n",
    "        self.dropout = tf.keras.layers.Dropout(rate)\n",
    "\n",
    "    def call(self, x, enc_output, training,\n",
    "               look_ahead_mask, padding_mask):\n",
    "\n",
    "        seq_len = tf.shape(x)[1]\n",
    "        attention_weights = {}\n",
    "\n",
    "        x = self.embedding(x)  # (batch_size, target_seq_len, d_model)\n",
    "        x *= tf.math.sqrt(tf.cast(self.d_model, tf.float32))\n",
    "        x += self.pos_encoding[:, :seq_len, :]\n",
    "\n",
    "        x = self.dropout(x, training=training)\n",
    "\n",
    "        for i in range(self.num_layers):\n",
    "            x, block1, block2 = self.dec_layers[i](x, enc_output, training,\n",
    "                                                 look_ahead_mask, padding_mask)\n",
    "\n",
    "            attention_weights[f'decoder_layer{i+1}_block1'] = block1\n",
    "            attention_weights[f'decoder_layer{i+1}_block2'] = block2\n",
    "\n",
    "        # x.shape == (batch_size, target_seq_len, d_model)\n",
    "        return x, attention_weights"
   ]
  },
  {
   "attachments": {},
   "cell_type": "markdown",
   "id": "8d7f3e32",
   "metadata": {},
   "source": [
    "### Creating a Transformer Model\n"
   ]
  },
  {
   "cell_type": "code",
   "execution_count": 50,
   "id": "a095b657",
   "metadata": {},
   "outputs": [],
   "source": [
    "class Transformer(tf.keras.Model):\n",
    "    def __init__(self,*, num_layers, d_model, num_heads, dff, input_vocab_size,\n",
    "                   target_vocab_size, rate=0.1):\n",
    "        super().__init__()\n",
    "        self.encoder = Encoder(num_layers=num_layers, d_model=d_model,\n",
    "                               num_heads=num_heads, dff=dff,\n",
    "                               input_vocab_size=input_vocab_size, rate=rate)\n",
    "\n",
    "        self.decoder = Decoder(num_layers=num_layers, d_model=d_model,\n",
    "                               num_heads=num_heads, dff=dff,\n",
    "                               target_vocab_size=target_vocab_size, rate=rate)\n",
    "\n",
    "        self.final_layer = tf.keras.layers.Dense(target_vocab_size)\n",
    "\n",
    "    def call(self, inputs, training):\n",
    "        # Keras models prefer if you pass all your inputs in the first argument\n",
    "        inp, tar = inputs\n",
    "\n",
    "        padding_mask, look_ahead_mask = self.create_masks(inp, tar)\n",
    "\n",
    "        enc_output = self.encoder(inp, training, padding_mask)  # (batch_size, inp_seq_len, d_model)\n",
    "\n",
    "        # dec_output.shape == (batch_size, tar_seq_len, d_model)\n",
    "        dec_output, attention_weights = self.decoder(\n",
    "            tar, enc_output, training, look_ahead_mask, padding_mask)\n",
    "\n",
    "        final_output = self.final_layer(dec_output)  # (batch_size, tar_seq_len, target_vocab_size)\n",
    "\n",
    "        return final_output, attention_weights\n",
    "\n",
    "    def create_masks(self, inp, tar):\n",
    "        # Encoder padding mask (Used in the 2nd attention block in the decoder too.)\n",
    "        padding_mask = create_padding_mask(inp)\n",
    "\n",
    "        # Used in the 1st attention block in the decoder.\n",
    "        # It is used to pad and mask future tokens in the input received by\n",
    "        # the decoder.\n",
    "        look_ahead_mask = create_look_ahead_mask(tf.shape(tar)[1])\n",
    "        dec_target_padding_mask = create_padding_mask(tar)\n",
    "        look_ahead_mask = tf.maximum(dec_target_padding_mask, look_ahead_mask)\n",
    "\n",
    "        return padding_mask, look_ahead_mask"
   ]
  },
  {
   "attachments": {},
   "cell_type": "markdown",
   "id": "37af343b",
   "metadata": {},
   "source": [
    "### Setting the HyperParameters\n"
   ]
  },
  {
   "cell_type": "code",
   "execution_count": 51,
   "id": "651dcb64",
   "metadata": {},
   "outputs": [],
   "source": [
    "num_layers = 4\n",
    "d_model = 128\n",
    "dff = 512\n",
    "num_attention_heads = 8\n",
    "dropout_rate = 0.1\n",
    "num_heads=8"
   ]
  },
  {
   "cell_type": "code",
   "execution_count": 52,
   "id": "db6ba603",
   "metadata": {},
   "outputs": [],
   "source": [
    "transformer = Transformer(\n",
    "    num_layers=num_layers,\n",
    "    d_model=d_model,\n",
    "    num_heads=num_attention_heads,\n",
    "    dff=dff,\n",
    "    input_vocab_size=tokenizers.pt.get_vocab_size().numpy(),\n",
    "    target_vocab_size=tokenizers.en.get_vocab_size().numpy(),\n",
    "    rate=dropout_rate)"
   ]
  },
  {
   "attachments": {},
   "cell_type": "markdown",
   "id": "c71a447b",
   "metadata": {},
   "source": [
    "### Test the Transformer"
   ]
  },
  {
   "cell_type": "code",
   "execution_count": 53,
   "id": "8b7130c8",
   "metadata": {},
   "outputs": [
    {
     "name": "stdout",
     "output_type": "stream",
     "text": [
      "input_vocab_size: 7765 and target_vocab_size: 7010\n"
     ]
    }
   ],
   "source": [
    "input_vocab_size=tokenizers.pt.get_vocab_size().numpy()\n",
    "target_vocab_size=tokenizers.en.get_vocab_size().numpy()\n",
    "print('input_vocab_size: {} and target_vocab_size: {}'.format(input_vocab_size,target_vocab_size))"
   ]
  },
  {
   "cell_type": "code",
   "execution_count": 54,
   "id": "6c37d3d4",
   "metadata": {},
   "outputs": [],
   "source": [
    "input = tf.constant([[1,2,3, 4, 0, 0, 0]])\n",
    "target = tf.constant([[1,2,3, 0]])\n",
    "\n",
    "x, attention = transformer((input, target))"
   ]
  },
  {
   "cell_type": "code",
   "execution_count": 55,
   "id": "99522e99",
   "metadata": {},
   "outputs": [
    {
     "data": {
      "text/plain": [
       "TensorShape([1, 7])"
      ]
     },
     "execution_count": 55,
     "metadata": {},
     "output_type": "execute_result"
    }
   ],
   "source": [
    "input.shape"
   ]
  },
  {
   "cell_type": "code",
   "execution_count": 56,
   "id": "1ca5c672",
   "metadata": {},
   "outputs": [
    {
     "name": "stdout",
     "output_type": "stream",
     "text": [
      "(1, 4, 7010)\n",
      "(1, 8, 4, 4)\n",
      "(1, 8, 4, 7)\n"
     ]
    }
   ],
   "source": [
    "print(x.shape)\n",
    "print(attention['decoder_layer1_block1'].shape)\n",
    "print(attention['decoder_layer4_block2'].shape)"
   ]
  },
  {
   "attachments": {},
   "cell_type": "markdown",
   "id": "0b6b9d1e",
   "metadata": {},
   "source": [
    "### Training"
   ]
  },
  {
   "cell_type": "code",
   "execution_count": 57,
   "id": "b714cf07",
   "metadata": {},
   "outputs": [],
   "source": [
    "## This learning rate is according to the paper \"Attention is all we need!\"\n",
    "class CustomSchedule(tf.keras.optimizers.schedules.LearningRateSchedule):\n",
    "    def __init__(self, d_model, warmup_steps=4000):\n",
    "        super().__init__()\n",
    "\n",
    "        self.d_model = d_model\n",
    "        self.d_model = tf.cast(self.d_model, tf.float32)\n",
    "\n",
    "        self.warmup_steps = warmup_steps\n",
    "\n",
    "    def __call__(self, step):\n",
    "        arg1 = tf.math.rsqrt(step)\n",
    "        arg2 = step * (self.warmup_steps ** -1.5)\n",
    "\n",
    "        return tf.math.rsqrt(self.d_model) * tf.math.minimum(arg1, arg2)"
   ]
  },
  {
   "cell_type": "code",
   "execution_count": 58,
   "id": "5fedc524",
   "metadata": {},
   "outputs": [
    {
     "data": {
      "text/plain": [
       "Text(0.5, 0, 'Train Step')"
      ]
     },
     "execution_count": 58,
     "metadata": {},
     "output_type": "execute_result"
    },
    {
     "data": {
      "image/png": "[encoded data removed]",
      "text/plain": [
       "<Figure size 432x288 with 1 Axes>"
      ]
     },
     "metadata": {
      "needs_background": "light"
     },
     "output_type": "display_data"
    }
   ],
   "source": [
    "learning_rate = CustomSchedule(d_model)\n",
    "\n",
    "optimizer = tf.keras.optimizers.Adam(learning_rate, beta_1=0.9, beta_2=0.98,\n",
    "                                     epsilon=1e-9)\n",
    "temp_learning_rate_schedule = CustomSchedule(d_model)\n",
    "\n",
    "plt.plot(temp_learning_rate_schedule(tf.range(40000, dtype=tf.float32)))\n",
    "plt.ylabel('Learning Rate')\n",
    "plt.xlabel('Train Step')"
   ]
  },
  {
   "cell_type": "code",
   "execution_count": 59,
   "id": "14440408",
   "metadata": {},
   "outputs": [
    {
     "name": "stdout",
     "output_type": "stream",
     "text": [
      "Added  \n"
     ]
    }
   ],
   "source": [
    "### Added for testing\n",
    "print(\"Added  \")\n",
    "## Add this to Asus Now\n",
    "## Added in Asus"
   ]
  },
  {
   "attachments": {},
   "cell_type": "markdown",
   "id": "2e252117",
   "metadata": {},
   "source": [
    "## Loss and metrics\n",
    "\n",
    "Since the target sequences are padded, it is important to apply a padding mask when calculating the loss.\n",
    "\n"
   ]
  },
  {
   "cell_type": "code",
   "execution_count": 60,
   "id": "faf2b4cf",
   "metadata": {},
   "outputs": [],
   "source": [
    "loss_object = tf.keras.losses.SparseCategoricalCrossentropy(\n",
    "    from_logits=True, reduction='none')"
   ]
  },
  {
   "cell_type": "code",
   "execution_count": 61,
   "id": "048b3744",
   "metadata": {},
   "outputs": [],
   "source": [
    "\n",
    "def loss_function(real, pred):\n",
    "  mask = tf.math.logical_not(tf.math.equal(real, 0))\n",
    "  loss_ = loss_object(real, pred)\n",
    "\n",
    "  mask = tf.cast(mask, dtype=loss_.dtype)\n",
    "  loss_ *= mask\n",
    "\n",
    "  return tf.reduce_sum(loss_)/tf.reduce_sum(mask)\n",
    "\n",
    "\n",
    "def accuracy_function(real, pred):\n",
    "\n",
    "  \"\"\"\n",
    "  pred will have a shape of Batch_SIZE,NUM_TOKENS(Sequences),TARGET_VOCAB_SIZE\n",
    "  tf.argmax(pred, axis=2); will have a shape of Batch_SIZE,NUM_TOKENS(Sequences); this shape is same as that of real.shape\n",
    "  \"\"\";\n",
    "  accuracies = tf.equal(real, tf.argmax(pred, axis=2)) ## return arr of bool(True if real_tokens == pred_tokens)\n",
    "\n",
    "  mask = tf.math.logical_not(tf.math.equal(real, 0))# Return arr of bool(True if real does not have 0)\n",
    "  accuracies = tf.math.logical_and(mask, accuracies)\n",
    "\n",
    "  accuracies = tf.cast(accuracies, dtype=tf.float32)\n",
    "  mask = tf.cast(mask, dtype=tf.float32)\n",
    "  return tf.reduce_sum(accuracies)/tf.reduce_sum(mask)\n",
    "     "
   ]
  },
  {
   "cell_type": "code",
   "execution_count": 62,
   "id": "731190c5",
   "metadata": {},
   "outputs": [],
   "source": [
    "arr1=tf.Variable([1,2,3,4,5,6,0])\n",
    "arr2=tf.Variable([1,16,18,12,5,6,0])"
   ]
  },
  {
   "cell_type": "code",
   "execution_count": 63,
   "id": "8aeb17f2",
   "metadata": {},
   "outputs": [
    {
     "data": {
      "text/plain": [
       "<tf.Tensor: shape=(7,), dtype=bool, numpy=array([ True, False, False, False,  True,  True,  True])>"
      ]
     },
     "execution_count": 63,
     "metadata": {},
     "output_type": "execute_result"
    }
   ],
   "source": [
    "tf.equal(arr1,arr2)"
   ]
  },
  {
   "cell_type": "code",
   "execution_count": 64,
   "id": "1fa99859",
   "metadata": {},
   "outputs": [
    {
     "data": {
      "text/plain": [
       "<tf.Tensor: shape=(7,), dtype=bool, numpy=array([ True,  True,  True,  True,  True,  True, False])>"
      ]
     },
     "execution_count": 64,
     "metadata": {},
     "output_type": "execute_result"
    }
   ],
   "source": [
    "tf.math.logical_not(tf.equal(arr1,0))"
   ]
  },
  {
   "cell_type": "code",
   "execution_count": 65,
   "id": "330a7c3c",
   "metadata": {},
   "outputs": [
    {
     "data": {
      "text/plain": [
       "<tf.Tensor: shape=(16,), dtype=int64, numpy=array([5, 5, 5, 0, 8, 3, 9, 9, 9, 1, 0, 6, 5, 8, 8, 2], dtype=int64)>"
      ]
     },
     "execution_count": 65,
     "metadata": {},
     "output_type": "execute_result"
    }
   ],
   "source": [
    "tf.argmax(tf.random.normal(shape=(16,10)),axis=1)"
   ]
  },
  {
   "cell_type": "code",
   "execution_count": 66,
   "id": "e9eda89e",
   "metadata": {},
   "outputs": [],
   "source": [
    "train_loss = tf.keras.metrics.Mean(name='train_loss')\n",
    "train_accuracy = tf.keras.metrics.Mean(name='train_accuracy')\n",
    "     "
   ]
  },
  {
   "attachments": {},
   "cell_type": "markdown",
   "id": "41cd7203",
   "metadata": {},
   "source": [
    "## Training and checkpointing"
   ]
  },
  {
   "cell_type": "code",
   "execution_count": 67,
   "id": "b60f4060",
   "metadata": {},
   "outputs": [],
   "source": [
    "\n",
    "transformer = Transformer(\n",
    "    num_layers=num_layers,\n",
    "    d_model=d_model,\n",
    "    num_heads=num_heads,\n",
    "    dff=dff,\n",
    "    input_vocab_size=tokenizers.pt.get_vocab_size().numpy(),\n",
    "    target_vocab_size=tokenizers.en.get_vocab_size().numpy(),\n",
    "    rate=dropout_rate)"
   ]
  },
  {
   "attachments": {},
   "cell_type": "markdown",
   "id": "c9d7e696",
   "metadata": {},
   "source": [
    "Create the checkpoint path and the checkpoint manager. This will be used to save checkpoints every n epochs."
   ]
  },
  {
   "cell_type": "code",
   "execution_count": 68,
   "id": "2cd839d4",
   "metadata": {},
   "outputs": [
    {
     "name": "stdout",
     "output_type": "stream",
     "text": [
      "Latest checkpoint restored!!\n"
     ]
    }
   ],
   "source": [
    "\n",
    "checkpoint_path = './checkpoints/train'\n",
    "\n",
    "ckpt = tf.train.Checkpoint(transformer=transformer,\n",
    "                           optimizer=optimizer)\n",
    "\n",
    "ckpt_manager = tf.train.CheckpointManager(ckpt, checkpoint_path, max_to_keep=5)\n",
    "\n",
    "# if a checkpoint exists, restore the latest checkpoint.\n",
    "if ckpt_manager.latest_checkpoint:\n",
    "  ckpt.restore(ckpt_manager.latest_checkpoint)\n",
    "  print('Latest checkpoint restored!!')\n",
    "     "
   ]
  },
  {
   "cell_type": "markdown",
   "id": "00070409",
   "metadata": {},
   "source": [
    "The target is divided into tar_inp and tar_real. tar_inp is passed as an input to the decoder. `tar_real` is that same input shifted by 1: At each location in `tar_input`, `tar_real` contains the  next token that should be predicted.\n",
    "\n",
    "For example, `sentence = 'SOS A lion in the jungle is sleeping EOS'` becomes:\n",
    "\n",
    "* `tar_inp =  'SOS A lion in the jungle is sleeping'`\n",
    "* `tar_real = 'A lion in the jungle is sleeping EOS'`\n",
    "\n",
    "A transformer is an auto-regressive model: it makes predictions one part at a time, and uses its output so far to decide what to do next.\n",
    "\n",
    "During training this example uses teacher-forcing (like in the [text generation tutorial](https://www.tensorflow.org/text/tutorials/text_generation)). Teacher forcing is passing the true output to the next time step regardless of what the model predicts at the current time step.\n",
    "\n",
    "As the model predicts each token, *self-attention* allows it to look at the previous tokens in the input sequence to better predict the next token.\n",
    "\n",
    "To prevent the model from peeking at the expected output the model uses a look-ahead mask."
   ]
  },
  {
   "cell_type": "code",
   "execution_count": 69,
   "id": "0c025033",
   "metadata": {},
   "outputs": [],
   "source": [
    "EPOCHS = 20"
   ]
  },
  {
   "cell_type": "code",
   "execution_count": 70,
   "id": "83eaeef1",
   "metadata": {},
   "outputs": [],
   "source": [
    "# The @tf.function trace-compiles train_step into a TF graph for faster\n",
    "# execution. The function specializes to the precise shape of the argument\n",
    "# tensors. To avoid re-tracing due to the variable sequence lengths or variable\n",
    "# batch sizes (the last batch is smaller), use input_signature to specify\n",
    "# more generic shapes.\n",
    "\n",
    "train_step_signature = [\n",
    "    tf.TensorSpec(shape=(None, None), dtype=tf.int64),\n",
    "    tf.TensorSpec(shape=(None, None), dtype=tf.int64),\n",
    "]\n",
    "\n",
    "\n",
    "@tf.function(input_signature=train_step_signature)\n",
    "def train_step(inp, tar):\n",
    "  tar_inp = tar[:, :-1]  # why except the last token in each token? The last token is \"END\" ; This is done because the training is shifter ri\n",
    "  tar_real = tar[:, 1:] # Why except the first token\n",
    "\n",
    "  with tf.GradientTape() as tape:\n",
    "    predictions, _ = transformer([inp, tar_inp],\n",
    "                                 training = True)\n",
    "    \n",
    "    # We notice that the transformer is feeded with tar_input(containing SOS and excluding EOS). As a result in the predicted word start from first word after sos and end with EOS. \n",
    "    # Thus the target loss_function as ground truth value we exclude the SOS, Because the prediction is also right shifted. \n",
    "    loss = loss_function(tar_real, predictions)\n",
    "\n",
    "  gradients = tape.gradient(loss, transformer.trainable_variables)\n",
    "  optimizer.apply_gradients(zip(gradients, transformer.trainable_variables))\n",
    "\n",
    "  train_loss(loss)\n",
    "  train_accuracy(accuracy_function(tar_real, predictions))"
   ]
  },
  {
   "cell_type": "code",
   "execution_count": 72,
   "id": "54716b88",
   "metadata": {},
   "outputs": [
    {
     "name": "stdout",
     "output_type": "stream",
     "text": [
      "Model: \"transformer_1\"\n",
      "_________________________________________________________________\n",
      " Layer (type)                Output Shape              Param #   \n",
      "=================================================================\n",
      " encoder_2 (Encoder)         multiple                  1787008   \n",
      "                                                                 \n",
      " decoder_1 (Decoder)         multiple                  1955584   \n",
      "                                                                 \n",
      " dense_161 (Dense)           multiple                  904290    \n",
      "                                                                 \n",
      "=================================================================\n",
      "Total params: 4,646,882\n",
      "Trainable params: 4,646,882\n",
      "Non-trainable params: 0\n",
      "_________________________________________________________________\n"
     ]
    }
   ],
   "source": [
    "transformer.summary()"
   ]
  },
  {
   "attachments": {},
   "cell_type": "markdown",
   "id": "2e3329d0",
   "metadata": {},
   "source": [
    "Portuguese is used as the input language and English is the target language."
   ]
  },
  {
   "cell_type": "code",
   "execution_count": 76,
   "id": "6d15d390",
   "metadata": {},
   "outputs": [
    {
     "name": "stdout",
     "output_type": "stream",
     "text": [
      "Epoch 1 Batch 0 Loss 1.4448 Accuracy 0.6879\n",
      "Epoch 1 Batch 50 Loss 1.3393 Accuracy 0.7002\n",
      "Epoch 1 Batch 100 Loss 1.3574 Accuracy 0.6970\n",
      "Epoch 1 Batch 150 Loss 1.3693 Accuracy 0.6949\n",
      "Epoch 1 Batch 200 Loss 1.3775 Accuracy 0.6932\n",
      "Epoch 1 Batch 250 Loss 1.3877 Accuracy 0.6911\n",
      "Epoch 1 Batch 300 Loss 1.3984 Accuracy 0.6892\n",
      "Epoch 1 Batch 350 Loss 1.4005 Accuracy 0.6888\n",
      "Epoch 1 Batch 400 Loss 1.4074 Accuracy 0.6876\n",
      "Epoch 1 Batch 450 Loss 1.4146 Accuracy 0.6864\n",
      "Epoch 1 Batch 500 Loss 1.4200 Accuracy 0.6854\n",
      "Epoch 1 Batch 550 Loss 1.4253 Accuracy 0.6844\n",
      "Epoch 1 Batch 600 Loss 1.4319 Accuracy 0.6834\n",
      "Epoch 1 Batch 650 Loss 1.4388 Accuracy 0.6824\n",
      "Epoch 1 Loss 1.4438 Accuracy 0.6817\n",
      "Time taken for 1 epoch: 132.35 secs\n",
      "\n",
      "Epoch 2 Batch 0 Loss 1.4448 Accuracy 0.6776\n",
      "Epoch 2 Batch 50 Loss 1.3294 Accuracy 0.7004\n",
      "Epoch 2 Batch 100 Loss 1.3496 Accuracy 0.6972\n",
      "Epoch 2 Batch 150 Loss 1.3608 Accuracy 0.6948\n",
      "Epoch 2 Batch 200 Loss 1.3609 Accuracy 0.6951\n",
      "Epoch 2 Batch 250 Loss 1.3632 Accuracy 0.6942\n",
      "Epoch 2 Batch 300 Loss 1.3721 Accuracy 0.6928\n",
      "Epoch 2 Batch 350 Loss 1.3775 Accuracy 0.6920\n",
      "Epoch 2 Batch 400 Loss 1.3817 Accuracy 0.6911\n",
      "Epoch 2 Batch 450 Loss 1.3889 Accuracy 0.6902\n",
      "Epoch 2 Batch 500 Loss 1.3927 Accuracy 0.6898\n",
      "Epoch 2 Batch 550 Loss 1.3961 Accuracy 0.6892\n",
      "Epoch 2 Batch 600 Loss 1.4007 Accuracy 0.6885\n",
      "Epoch 2 Batch 650 Loss 1.4062 Accuracy 0.6875\n",
      "Epoch 2 Loss 1.4104 Accuracy 0.6869\n",
      "Time taken for 1 epoch: 130.43 secs\n",
      "\n",
      "Epoch 3 Batch 0 Loss 1.4627 Accuracy 0.6890\n",
      "Epoch 3 Batch 50 Loss 1.3267 Accuracy 0.7013\n",
      "Epoch 3 Batch 100 Loss 1.3218 Accuracy 0.7006\n",
      "Epoch 3 Batch 150 Loss 1.3251 Accuracy 0.6999\n",
      "Epoch 3 Batch 200 Loss 1.3308 Accuracy 0.6986\n",
      "Epoch 3 Batch 250 Loss 1.3345 Accuracy 0.6980\n",
      "Epoch 3 Batch 300 Loss 1.3385 Accuracy 0.6973\n",
      "Epoch 3 Batch 350 Loss 1.3494 Accuracy 0.6957\n",
      "Epoch 3 Batch 400 Loss 1.3535 Accuracy 0.6950\n",
      "Epoch 3 Batch 450 Loss 1.3598 Accuracy 0.6941\n",
      "Epoch 3 Batch 500 Loss 1.3661 Accuracy 0.6931\n",
      "Epoch 3 Batch 550 Loss 1.3704 Accuracy 0.6926\n",
      "Epoch 3 Batch 600 Loss 1.3759 Accuracy 0.6917\n",
      "Epoch 3 Batch 650 Loss 1.3800 Accuracy 0.6912\n",
      "Epoch 3 Batch 700 Loss 1.3862 Accuracy 0.6904\n",
      "Epoch 3 Loss 1.3866 Accuracy 0.6903\n",
      "Time taken for 1 epoch: 131.19 secs\n",
      "\n",
      "Epoch 4 Batch 0 Loss 1.1894 Accuracy 0.7232\n",
      "Epoch 4 Batch 50 Loss 1.2919 Accuracy 0.7052\n",
      "Epoch 4 Batch 100 Loss 1.2959 Accuracy 0.7050\n",
      "Epoch 4 Batch 150 Loss 1.3025 Accuracy 0.7036\n",
      "Epoch 4 Batch 200 Loss 1.3084 Accuracy 0.7031\n",
      "Epoch 4 Batch 250 Loss 1.3108 Accuracy 0.7027\n",
      "Epoch 4 Batch 300 Loss 1.3180 Accuracy 0.7018\n",
      "Epoch 4 Batch 350 Loss 1.3273 Accuracy 0.7001\n",
      "Epoch 4 Batch 400 Loss 1.3299 Accuracy 0.6998\n",
      "Epoch 4 Batch 450 Loss 1.3354 Accuracy 0.6986\n",
      "Epoch 4 Batch 500 Loss 1.3415 Accuracy 0.6976\n",
      "Epoch 4 Batch 550 Loss 1.3476 Accuracy 0.6966\n",
      "Epoch 4 Batch 600 Loss 1.3527 Accuracy 0.6957\n",
      "Epoch 4 Batch 650 Loss 1.3564 Accuracy 0.6954\n",
      "Epoch 4 Batch 700 Loss 1.3612 Accuracy 0.6947\n",
      "Epoch 4 Loss 1.3621 Accuracy 0.6945\n",
      "Time taken for 1 epoch: 129.56 secs\n",
      "\n",
      "Epoch 5 Batch 0 Loss 1.2077 Accuracy 0.7244\n",
      "Epoch 5 Batch 50 Loss 1.2822 Accuracy 0.7061\n",
      "Epoch 5 Batch 100 Loss 1.2757 Accuracy 0.7086\n",
      "Epoch 5 Batch 150 Loss 1.2787 Accuracy 0.7079\n",
      "Epoch 5 Batch 200 Loss 1.2905 Accuracy 0.7059\n",
      "Epoch 5 Batch 250 Loss 1.2916 Accuracy 0.7058\n",
      "Epoch 5 Batch 300 Loss 1.3003 Accuracy 0.7042\n",
      "Epoch 5 Batch 350 Loss 1.3071 Accuracy 0.7033\n",
      "Epoch 5 Batch 400 Loss 1.3088 Accuracy 0.7030\n",
      "Epoch 5 Batch 450 Loss 1.3131 Accuracy 0.7023\n",
      "Epoch 5 Batch 500 Loss 1.3172 Accuracy 0.7015\n",
      "Epoch 5 Batch 550 Loss 1.3232 Accuracy 0.7006\n",
      "Epoch 5 Batch 600 Loss 1.3260 Accuracy 0.7001\n",
      "Epoch 5 Batch 650 Loss 1.3316 Accuracy 0.6992\n",
      "Epoch 5 Batch 700 Loss 1.3360 Accuracy 0.6986\n",
      "Saving checkpoint for epoch 5 at ./checkpoints/train\\ckpt-5\n",
      "Epoch 5 Loss 1.3360 Accuracy 0.6986\n",
      "Time taken for 1 epoch: 130.13 secs\n",
      "\n",
      "Epoch 6 Batch 0 Loss 1.2195 Accuracy 0.7093\n",
      "Epoch 6 Batch 50 Loss 1.2632 Accuracy 0.7092\n",
      "Epoch 6 Batch 100 Loss 1.2612 Accuracy 0.7101\n",
      "Epoch 6 Batch 150 Loss 1.2652 Accuracy 0.7097\n",
      "Epoch 6 Batch 200 Loss 1.2692 Accuracy 0.7093\n",
      "Epoch 6 Batch 250 Loss 1.2741 Accuracy 0.7080\n",
      "Epoch 6 Batch 300 Loss 1.2803 Accuracy 0.7074\n",
      "Epoch 6 Batch 350 Loss 1.2865 Accuracy 0.7067\n",
      "Epoch 6 Batch 400 Loss 1.2903 Accuracy 0.7058\n",
      "Epoch 6 Batch 450 Loss 1.2961 Accuracy 0.7048\n",
      "Epoch 6 Batch 500 Loss 1.3021 Accuracy 0.7038\n",
      "Epoch 6 Batch 550 Loss 1.3051 Accuracy 0.7034\n",
      "Epoch 6 Batch 600 Loss 1.3074 Accuracy 0.7030\n",
      "Epoch 6 Batch 650 Loss 1.3136 Accuracy 0.7021\n",
      "Epoch 6 Batch 700 Loss 1.3185 Accuracy 0.7012\n",
      "Epoch 6 Loss 1.3185 Accuracy 0.7012\n",
      "Time taken for 1 epoch: 128.04 secs\n",
      "\n",
      "Epoch 7 Batch 0 Loss 1.1038 Accuracy 0.7297\n",
      "Epoch 7 Batch 50 Loss 1.2328 Accuracy 0.7150\n",
      "Epoch 7 Batch 100 Loss 1.2441 Accuracy 0.7131\n",
      "Epoch 7 Batch 150 Loss 1.2403 Accuracy 0.7142\n",
      "Epoch 7 Batch 200 Loss 1.2506 Accuracy 0.7125\n",
      "Epoch 7 Batch 250 Loss 1.2531 Accuracy 0.7118\n",
      "Epoch 7 Batch 300 Loss 1.2599 Accuracy 0.7105\n",
      "Epoch 7 Batch 350 Loss 1.2622 Accuracy 0.7100\n",
      "Epoch 7 Batch 400 Loss 1.2640 Accuracy 0.7095\n",
      "Epoch 7 Batch 450 Loss 1.2683 Accuracy 0.7089\n",
      "Epoch 7 Batch 500 Loss 1.2732 Accuracy 0.7082\n",
      "Epoch 7 Batch 550 Loss 1.2762 Accuracy 0.7079\n",
      "Epoch 7 Batch 600 Loss 1.2798 Accuracy 0.7075\n",
      "Epoch 7 Batch 650 Loss 1.2847 Accuracy 0.7067\n",
      "Epoch 7 Loss 1.2895 Accuracy 0.7059\n",
      "Time taken for 1 epoch: 122.21 secs\n",
      "\n",
      "Epoch 8 Batch 0 Loss 1.3975 Accuracy 0.6790\n",
      "Epoch 8 Batch 50 Loss 1.2167 Accuracy 0.7178\n",
      "Epoch 8 Batch 100 Loss 1.2145 Accuracy 0.7181\n",
      "Epoch 8 Batch 150 Loss 1.2186 Accuracy 0.7176\n",
      "Epoch 8 Batch 200 Loss 1.2240 Accuracy 0.7163\n",
      "Epoch 8 Batch 250 Loss 1.2318 Accuracy 0.7153\n",
      "Epoch 8 Batch 300 Loss 1.2359 Accuracy 0.7147\n",
      "Epoch 8 Batch 350 Loss 1.2436 Accuracy 0.7135\n",
      "Epoch 8 Batch 400 Loss 1.2470 Accuracy 0.7129\n",
      "Epoch 8 Batch 450 Loss 1.2498 Accuracy 0.7124\n",
      "Epoch 8 Batch 500 Loss 1.2567 Accuracy 0.7113\n",
      "Epoch 8 Batch 550 Loss 1.2591 Accuracy 0.7111\n",
      "Epoch 8 Batch 600 Loss 1.2634 Accuracy 0.7104\n",
      "Epoch 8 Batch 650 Loss 1.2663 Accuracy 0.7099\n",
      "Epoch 8 Loss 1.2700 Accuracy 0.7092\n",
      "Time taken for 1 epoch: 114.47 secs\n",
      "\n",
      "Epoch 9 Batch 0 Loss 1.1248 Accuracy 0.7321\n",
      "Epoch 9 Batch 50 Loss 1.2065 Accuracy 0.7174\n",
      "Epoch 9 Batch 100 Loss 1.1996 Accuracy 0.7213\n",
      "Epoch 9 Batch 150 Loss 1.2033 Accuracy 0.7215\n",
      "Epoch 9 Batch 200 Loss 1.2096 Accuracy 0.7197\n",
      "Epoch 9 Batch 250 Loss 1.2156 Accuracy 0.7187\n",
      "Epoch 9 Batch 300 Loss 1.2203 Accuracy 0.7178\n",
      "Epoch 9 Batch 350 Loss 1.2243 Accuracy 0.7170\n",
      "Epoch 9 Batch 400 Loss 1.2297 Accuracy 0.7162\n",
      "Epoch 9 Batch 450 Loss 1.2334 Accuracy 0.7156\n",
      "Epoch 9 Batch 500 Loss 1.2376 Accuracy 0.7149\n",
      "Epoch 9 Batch 550 Loss 1.2417 Accuracy 0.7141\n",
      "Epoch 9 Batch 600 Loss 1.2453 Accuracy 0.7138\n",
      "Epoch 9 Batch 650 Loss 1.2493 Accuracy 0.7131\n",
      "Epoch 9 Batch 700 Loss 1.2535 Accuracy 0.7123\n",
      "Epoch 9 Loss 1.2534 Accuracy 0.7123\n",
      "Time taken for 1 epoch: 114.76 secs\n",
      "\n",
      "Epoch 10 Batch 0 Loss 1.2511 Accuracy 0.7126\n",
      "Epoch 10 Batch 50 Loss 1.1734 Accuracy 0.7247\n",
      "Epoch 10 Batch 100 Loss 1.1879 Accuracy 0.7222\n",
      "Epoch 10 Batch 150 Loss 1.1896 Accuracy 0.7231\n",
      "Epoch 10 Batch 200 Loss 1.1948 Accuracy 0.7222\n",
      "Epoch 10 Batch 250 Loss 1.1989 Accuracy 0.7215\n",
      "Epoch 10 Batch 300 Loss 1.2019 Accuracy 0.7210\n",
      "Epoch 10 Batch 350 Loss 1.2083 Accuracy 0.7197\n",
      "Epoch 10 Batch 400 Loss 1.2148 Accuracy 0.7183\n",
      "Epoch 10 Batch 450 Loss 1.2187 Accuracy 0.7176\n",
      "Epoch 10 Batch 500 Loss 1.2225 Accuracy 0.7169\n",
      "Epoch 10 Batch 550 Loss 1.2244 Accuracy 0.7165\n",
      "Epoch 10 Batch 600 Loss 1.2268 Accuracy 0.7161\n",
      "Epoch 10 Batch 650 Loss 1.2296 Accuracy 0.7158\n",
      "Epoch 10 Batch 700 Loss 1.2338 Accuracy 0.7151\n",
      "Saving checkpoint for epoch 10 at ./checkpoints/train\\ckpt-6\n",
      "Epoch 10 Loss 1.2335 Accuracy 0.7151\n",
      "Time taken for 1 epoch: 126.67 secs\n",
      "\n",
      "Epoch 11 Batch 0 Loss 1.0713 Accuracy 0.7534\n",
      "Epoch 11 Batch 50 Loss 1.1662 Accuracy 0.7275\n",
      "Epoch 11 Batch 100 Loss 1.1686 Accuracy 0.7263\n",
      "Epoch 11 Batch 150 Loss 1.1738 Accuracy 0.7254\n",
      "Epoch 11 Batch 200 Loss 1.1812 Accuracy 0.7242\n",
      "Epoch 11 Batch 250 Loss 1.1840 Accuracy 0.7238\n",
      "Epoch 11 Batch 300 Loss 1.1899 Accuracy 0.7229\n",
      "Epoch 11 Batch 350 Loss 1.1942 Accuracy 0.7222\n",
      "Epoch 11 Batch 400 Loss 1.1984 Accuracy 0.7214\n",
      "Epoch 11 Batch 450 Loss 1.1995 Accuracy 0.7213\n",
      "Epoch 11 Batch 500 Loss 1.2029 Accuracy 0.7209\n",
      "Epoch 11 Batch 550 Loss 1.2058 Accuracy 0.7204\n",
      "Epoch 11 Batch 600 Loss 1.2093 Accuracy 0.7197\n",
      "Epoch 11 Batch 650 Loss 1.2141 Accuracy 0.7189\n",
      "Epoch 11 Batch 700 Loss 1.2180 Accuracy 0.7182\n",
      "Epoch 11 Loss 1.2180 Accuracy 0.7182\n",
      "Time taken for 1 epoch: 131.74 secs\n",
      "\n",
      "Epoch 12 Batch 0 Loss 1.1285 Accuracy 0.7196\n",
      "Epoch 12 Batch 50 Loss 1.1613 Accuracy 0.7286\n",
      "Epoch 12 Batch 100 Loss 1.1573 Accuracy 0.7295\n",
      "Epoch 12 Batch 150 Loss 1.1595 Accuracy 0.7293\n",
      "Epoch 12 Batch 200 Loss 1.1651 Accuracy 0.7280\n",
      "Epoch 12 Batch 250 Loss 1.1697 Accuracy 0.7268\n",
      "Epoch 12 Batch 300 Loss 1.1738 Accuracy 0.7260\n",
      "Epoch 12 Batch 350 Loss 1.1742 Accuracy 0.7258\n",
      "Epoch 12 Batch 400 Loss 1.1770 Accuracy 0.7253\n",
      "Epoch 12 Batch 450 Loss 1.1809 Accuracy 0.7245\n",
      "Epoch 12 Batch 500 Loss 1.1859 Accuracy 0.7236\n",
      "Epoch 12 Batch 550 Loss 1.1887 Accuracy 0.7232\n",
      "Epoch 12 Batch 600 Loss 1.1938 Accuracy 0.7224\n",
      "Epoch 12 Batch 650 Loss 1.1965 Accuracy 0.7217\n",
      "Epoch 12 Batch 700 Loss 1.1997 Accuracy 0.7211\n",
      "Epoch 12 Loss 1.1995 Accuracy 0.7211\n",
      "Time taken for 1 epoch: 135.01 secs\n",
      "\n",
      "Epoch 13 Batch 0 Loss 1.1877 Accuracy 0.7238\n",
      "Epoch 13 Batch 50 Loss 1.1423 Accuracy 0.7317\n",
      "Epoch 13 Batch 100 Loss 1.1365 Accuracy 0.7321\n",
      "Epoch 13 Batch 150 Loss 1.1437 Accuracy 0.7305\n",
      "Epoch 13 Batch 200 Loss 1.1489 Accuracy 0.7297\n",
      "Epoch 13 Batch 250 Loss 1.1518 Accuracy 0.7292\n",
      "Epoch 13 Batch 300 Loss 1.1540 Accuracy 0.7290\n",
      "Epoch 13 Batch 350 Loss 1.1574 Accuracy 0.7283\n",
      "Epoch 13 Batch 400 Loss 1.1615 Accuracy 0.7276\n",
      "Epoch 13 Batch 450 Loss 1.1663 Accuracy 0.7269\n",
      "Epoch 13 Batch 500 Loss 1.1714 Accuracy 0.7259\n",
      "Epoch 13 Batch 550 Loss 1.1754 Accuracy 0.7253\n",
      "Epoch 13 Batch 600 Loss 1.1784 Accuracy 0.7248\n",
      "Epoch 13 Batch 650 Loss 1.1831 Accuracy 0.7239\n",
      "Epoch 13 Loss 1.1884 Accuracy 0.7229\n",
      "Time taken for 1 epoch: 132.63 secs\n",
      "\n",
      "Epoch 14 Batch 0 Loss 1.1044 Accuracy 0.7366\n",
      "Epoch 14 Batch 50 Loss 1.1032 Accuracy 0.7389\n",
      "Epoch 14 Batch 100 Loss 1.1096 Accuracy 0.7382\n",
      "Epoch 14 Batch 150 Loss 1.1217 Accuracy 0.7355\n",
      "Epoch 14 Batch 200 Loss 1.1286 Accuracy 0.7345\n",
      "Epoch 14 Batch 250 Loss 1.1270 Accuracy 0.7345\n",
      "Epoch 14 Batch 300 Loss 1.1332 Accuracy 0.7331\n",
      "Epoch 14 Batch 350 Loss 1.1395 Accuracy 0.7320\n",
      "Epoch 14 Batch 400 Loss 1.1423 Accuracy 0.7313\n",
      "Epoch 14 Batch 450 Loss 1.1456 Accuracy 0.7308\n",
      "Epoch 14 Batch 500 Loss 1.1543 Accuracy 0.7291\n",
      "Epoch 14 Batch 550 Loss 1.1585 Accuracy 0.7284\n",
      "Epoch 14 Batch 600 Loss 1.1631 Accuracy 0.7275\n",
      "Epoch 14 Batch 650 Loss 1.1664 Accuracy 0.7270\n",
      "Epoch 14 Loss 1.1692 Accuracy 0.7267\n",
      "Time taken for 1 epoch: 131.27 secs\n",
      "\n",
      "Epoch 15 Batch 0 Loss 1.1130 Accuracy 0.7235\n",
      "Epoch 15 Batch 50 Loss 1.0980 Accuracy 0.7405\n",
      "Epoch 15 Batch 100 Loss 1.0975 Accuracy 0.7400\n",
      "Epoch 15 Batch 150 Loss 1.0981 Accuracy 0.7402\n",
      "Epoch 15 Batch 200 Loss 1.1087 Accuracy 0.7379\n",
      "Epoch 15 Batch 250 Loss 1.1154 Accuracy 0.7361\n",
      "Epoch 15 Batch 300 Loss 1.1186 Accuracy 0.7354\n",
      "Epoch 15 Batch 350 Loss 1.1248 Accuracy 0.7343\n",
      "Epoch 15 Batch 400 Loss 1.1292 Accuracy 0.7336\n",
      "Epoch 15 Batch 450 Loss 1.1325 Accuracy 0.7328\n",
      "Epoch 15 Batch 500 Loss 1.1359 Accuracy 0.7320\n",
      "Epoch 15 Batch 550 Loss 1.1415 Accuracy 0.7311\n",
      "Epoch 15 Batch 600 Loss 1.1465 Accuracy 0.7302\n",
      "Epoch 15 Batch 650 Loss 1.1502 Accuracy 0.7297\n",
      "Saving checkpoint for epoch 15 at ./checkpoints/train\\ckpt-7\n",
      "Epoch 15 Loss 1.1544 Accuracy 0.7290\n",
      "Time taken for 1 epoch: 124.57 secs\n",
      "\n",
      "Epoch 16 Batch 0 Loss 1.0968 Accuracy 0.7335\n",
      "Epoch 16 Batch 50 Loss 1.0826 Accuracy 0.7426\n",
      "Epoch 16 Batch 100 Loss 1.0874 Accuracy 0.7416\n",
      "Epoch 16 Batch 150 Loss 1.0895 Accuracy 0.7413\n",
      "Epoch 16 Batch 200 Loss 1.0966 Accuracy 0.7398\n",
      "Epoch 16 Batch 250 Loss 1.0983 Accuracy 0.7395\n",
      "Epoch 16 Batch 300 Loss 1.1020 Accuracy 0.7388\n",
      "Epoch 16 Batch 350 Loss 1.1058 Accuracy 0.7380\n",
      "Epoch 16 Batch 400 Loss 1.1093 Accuracy 0.7375\n",
      "Epoch 16 Batch 450 Loss 1.1173 Accuracy 0.7359\n",
      "Epoch 16 Batch 500 Loss 1.1216 Accuracy 0.7351\n",
      "Epoch 16 Batch 550 Loss 1.1277 Accuracy 0.7338\n",
      "Epoch 16 Batch 600 Loss 1.1318 Accuracy 0.7331\n",
      "Epoch 16 Batch 650 Loss 1.1383 Accuracy 0.7318\n",
      "Epoch 16 Batch 700 Loss 1.1418 Accuracy 0.7312\n",
      "Epoch 16 Loss 1.1418 Accuracy 0.7313\n",
      "Time taken for 1 epoch: 124.97 secs\n",
      "\n",
      "Epoch 17 Batch 0 Loss 1.1287 Accuracy 0.7224\n",
      "Epoch 17 Batch 50 Loss 1.0786 Accuracy 0.7414\n",
      "Epoch 17 Batch 100 Loss 1.0863 Accuracy 0.7408\n",
      "Epoch 17 Batch 150 Loss 1.0875 Accuracy 0.7406\n",
      "Epoch 17 Batch 200 Loss 1.0862 Accuracy 0.7414\n",
      "Epoch 17 Batch 250 Loss 1.0943 Accuracy 0.7397\n",
      "Epoch 17 Batch 300 Loss 1.1021 Accuracy 0.7382\n",
      "Epoch 17 Batch 350 Loss 1.1042 Accuracy 0.7377\n",
      "Epoch 17 Batch 400 Loss 1.1061 Accuracy 0.7372\n",
      "Epoch 17 Batch 450 Loss 1.1098 Accuracy 0.7366\n",
      "Epoch 17 Batch 500 Loss 1.1141 Accuracy 0.7358\n",
      "Epoch 17 Batch 550 Loss 1.1182 Accuracy 0.7350\n",
      "Epoch 17 Batch 600 Loss 1.1224 Accuracy 0.7341\n",
      "Epoch 17 Batch 650 Loss 1.1248 Accuracy 0.7336\n",
      "Epoch 17 Loss 1.1281 Accuracy 0.7332\n",
      "Time taken for 1 epoch: 124.03 secs\n",
      "\n",
      "Epoch 18 Batch 0 Loss 1.1778 Accuracy 0.7303\n",
      "Epoch 18 Batch 50 Loss 1.0558 Accuracy 0.7479\n",
      "Epoch 18 Batch 100 Loss 1.0632 Accuracy 0.7459\n",
      "Epoch 18 Batch 150 Loss 1.0714 Accuracy 0.7440\n",
      "Epoch 18 Batch 200 Loss 1.0765 Accuracy 0.7435\n",
      "Epoch 18 Batch 250 Loss 1.0792 Accuracy 0.7430\n",
      "Epoch 18 Batch 300 Loss 1.0848 Accuracy 0.7419\n",
      "Epoch 18 Batch 350 Loss 1.0884 Accuracy 0.7412\n",
      "Epoch 18 Batch 400 Loss 1.0938 Accuracy 0.7397\n",
      "Epoch 18 Batch 450 Loss 1.0976 Accuracy 0.7388\n",
      "Epoch 18 Batch 500 Loss 1.1020 Accuracy 0.7381\n",
      "Epoch 18 Batch 550 Loss 1.1052 Accuracy 0.7376\n",
      "Epoch 18 Batch 600 Loss 1.1088 Accuracy 0.7371\n",
      "Epoch 18 Batch 650 Loss 1.1130 Accuracy 0.7362\n",
      "Epoch 18 Batch 700 Loss 1.1164 Accuracy 0.7356\n",
      "Epoch 18 Loss 1.1162 Accuracy 0.7356\n",
      "Time taken for 1 epoch: 124.65 secs\n",
      "\n",
      "Epoch 19 Batch 0 Loss 1.1149 Accuracy 0.7489\n",
      "Epoch 19 Batch 50 Loss 1.0519 Accuracy 0.7469\n",
      "Epoch 19 Batch 100 Loss 1.0499 Accuracy 0.7477\n",
      "Epoch 19 Batch 150 Loss 1.0558 Accuracy 0.7465\n",
      "Epoch 19 Batch 200 Loss 1.0621 Accuracy 0.7452\n",
      "Epoch 19 Batch 250 Loss 1.0673 Accuracy 0.7443\n",
      "Epoch 19 Batch 300 Loss 1.0732 Accuracy 0.7430\n",
      "Epoch 19 Batch 350 Loss 1.0785 Accuracy 0.7420\n",
      "Epoch 19 Batch 400 Loss 1.0838 Accuracy 0.7409\n",
      "Epoch 19 Batch 450 Loss 1.0879 Accuracy 0.7403\n",
      "Epoch 19 Batch 500 Loss 1.0906 Accuracy 0.7398\n",
      "Epoch 19 Batch 550 Loss 1.0938 Accuracy 0.7394\n",
      "Epoch 19 Batch 600 Loss 1.0988 Accuracy 0.7384\n",
      "Epoch 19 Batch 650 Loss 1.1025 Accuracy 0.7377\n",
      "Epoch 19 Batch 700 Loss 1.1061 Accuracy 0.7371\n",
      "Epoch 19 Loss 1.1064 Accuracy 0.7370\n",
      "Time taken for 1 epoch: 123.78 secs\n",
      "\n",
      "Epoch 20 Batch 0 Loss 1.0680 Accuracy 0.7487\n",
      "Epoch 20 Batch 50 Loss 1.0271 Accuracy 0.7510\n",
      "Epoch 20 Batch 100 Loss 1.0376 Accuracy 0.7490\n",
      "Epoch 20 Batch 150 Loss 1.0488 Accuracy 0.7469\n",
      "Epoch 20 Batch 200 Loss 1.0543 Accuracy 0.7459\n",
      "Epoch 20 Batch 250 Loss 1.0553 Accuracy 0.7461\n",
      "Epoch 20 Batch 300 Loss 1.0573 Accuracy 0.7459\n",
      "Epoch 20 Batch 350 Loss 1.0628 Accuracy 0.7450\n",
      "Epoch 20 Batch 400 Loss 1.0684 Accuracy 0.7440\n",
      "Epoch 20 Batch 450 Loss 1.0724 Accuracy 0.7433\n",
      "Epoch 20 Batch 500 Loss 1.0785 Accuracy 0.7420\n",
      "Epoch 20 Batch 550 Loss 1.0816 Accuracy 0.7413\n",
      "Epoch 20 Batch 600 Loss 1.0862 Accuracy 0.7405\n",
      "Epoch 20 Batch 650 Loss 1.0902 Accuracy 0.7397\n",
      "Saving checkpoint for epoch 20 at ./checkpoints/train\\ckpt-8\n",
      "Epoch 20 Loss 1.0934 Accuracy 0.7390\n",
      "Time taken for 1 epoch: 124.20 secs\n",
      "\n"
     ]
    }
   ],
   "source": [
    "for epoch in range(EPOCHS):\n",
    "  start = time.time()\n",
    "\n",
    "  train_loss.reset_states()\n",
    "  train_accuracy.reset_states()\n",
    "\n",
    "  # inp -> portuguese, tar -> english\n",
    "  for (batch, (inp, tar)) in enumerate(train_batches):\n",
    "    train_step(inp, tar)\n",
    "\n",
    "    if batch % 50 == 0:\n",
    "      print(f'Epoch {epoch + 1} Batch {batch} Loss {train_loss.result():.4f} Accuracy {train_accuracy.result():.4f}')\n",
    "\n",
    "  if (epoch + 1) % 5 == 0:\n",
    "    ckpt_save_path = ckpt_manager.save()\n",
    "    print(f'Saving checkpoint for epoch {epoch+1} at {ckpt_save_path}')\n",
    "\n",
    "  print(f'Epoch {epoch + 1} Loss {train_loss.result():.4f} Accuracy {train_accuracy.result():.4f}')\n",
    "\n",
    "  print(f'Time taken for 1 epoch: {time.time() - start:.2f} secs\\n')"
   ]
  },
  {
   "cell_type": "markdown",
   "id": "0a586d8c",
   "metadata": {},
   "source": [
    "# Inference"
   ]
  },
  {
   "cell_type": "code",
   "execution_count": 77,
   "id": "df1e5b74",
   "metadata": {},
   "outputs": [],
   "source": [
    "class Translator(tf.Module):\n",
    "  def __init__(self, tokenizers, transformer):\n",
    "    self.tokenizers = tokenizers\n",
    "    self.transformer = transformer\n",
    "\n",
    "  def __call__(self, sentence, max_length=MAX_TOKENS):\n",
    "    # input sentence is portuguese, hence adding the start and end token\n",
    "    assert isinstance(sentence, tf.Tensor)\n",
    "    if len(sentence.shape) == 0:\n",
    "      sentence = sentence[tf.newaxis]\n",
    "\n",
    "    sentence = self.tokenizers.pt.tokenize(sentence).to_tensor()\n",
    "\n",
    "    encoder_input = sentence\n",
    "\n",
    "    # As the output language is english, initialize the output with the\n",
    "    # english start token.\n",
    "    start_end = self.tokenizers.en.tokenize([''])[0]\n",
    "    start = start_end[0][tf.newaxis]\n",
    "    end = start_end[1][tf.newaxis]\n",
    "\n",
    "    # `tf.TensorArray` is required here (instead of a python list) so that the\n",
    "    # dynamic-loop can be traced by `tf.function`.\n",
    "    output_array = tf.TensorArray(dtype=tf.int64, size=0, dynamic_size=True)\n",
    "    output_array = output_array.write(0, start)\n",
    "\n",
    "    for i in tf.range(max_length):\n",
    "      output = tf.transpose(output_array.stack())\n",
    "      predictions, _ = self.transformer([encoder_input, output], training=False)\n",
    "\n",
    "      # select the last token from the seq_len dimension\n",
    "      predictions = predictions[:, -1:, :]  # (batch_size, 1, vocab_size) # Why we select output from the last token? \n",
    "\n",
    "      predicted_id = tf.argmax(predictions, axis=-1)\n",
    "\n",
    "      # concatentate the predicted_id to the output which is given to the decoder\n",
    "      # as its input.\n",
    "      output_array = output_array.write(i+1, predicted_id[0])\n",
    "\n",
    "      if predicted_id == end:\n",
    "        break\n",
    "\n",
    "    output = tf.transpose(output_array.stack())\n",
    "    # output.shape (1, tokens)\n",
    "    text = tokenizers.en.detokenize(output)[0]  # shape: ()\n",
    "\n",
    "    tokens = tokenizers.en.lookup(output)[0]\n",
    "\n",
    "    # `tf.function` prevents us from using the attention_weights that were\n",
    "    # calculated on the last iteration of the loop. So recalculate them outside\n",
    "    # the loop.\n",
    "    _, attention_weights = self.transformer([encoder_input, output[:,:-1]], training=False)\n",
    "\n",
    "    return text, tokens, attention_weights"
   ]
  },
  {
   "cell_type": "code",
   "execution_count": 108,
   "id": "924246b0",
   "metadata": {},
   "outputs": [],
   "source": [
    "translator=Translator(tokenizers=tokenizers,transformer=transformer)"
   ]
  },
  {
   "cell_type": "code",
   "execution_count": 88,
   "id": "5be3a4be",
   "metadata": {},
   "outputs": [],
   "source": [
    "def print_translation(sentence, tokens, ground_truth):\n",
    "  print(f'{\"Input:\":15s}: {sentence}')\n",
    "  print(f'{\"Prediction\":15s}: {tokens.numpy().decode(\"utf-8\")}')\n",
    "  print(f'{\"Ground truth\":15s}: {ground_truth}')"
   ]
  },
  {
   "cell_type": "code",
   "execution_count": 89,
   "id": "7186ac06",
   "metadata": {},
   "outputs": [
    {
     "name": "stdout",
     "output_type": "stream",
     "text": [
      "Input:         : este é um problema que temos que resolver.\n",
      "Prediction     : this is a problem that we have to fix .\n",
      "Ground truth   : this is a problem we have to solve .\n"
     ]
    }
   ],
   "source": [
    "sentence = 'este é um problema que temos que resolver.'\n",
    "ground_truth = 'this is a problem we have to solve .'\n",
    "\n",
    "translated_text, translated_tokens, attention_weights = translator(\n",
    "    tf.constant(sentence),)\n",
    "print_translation(sentence, translated_text, ground_truth)"
   ]
  },
  {
   "cell_type": "code",
   "execution_count": 109,
   "id": "ee8a522c",
   "metadata": {},
   "outputs": [
    {
     "data": {
      "text/plain": [
       "(<tf.Tensor: shape=(), dtype=string, numpy=b'i read about triumpels in the encyclopedia .'>,\n",
       " <tf.Tensor: shape=(19,), dtype=string, numpy=\n",
       " array([b'[START]', b'i', b'read', b'about', b't', b'##ri', b'##ump',\n",
       "        b'##el', b'##s', b'in', b'the', b'e', b'##ncy', b'##c', b'##lo',\n",
       "        b'##ped', b'##ia', b'.', b'[END]'], dtype=object)>,\n",
       " {'decoder_layer1_block1': <tf.Tensor: shape=(1, 8, 18, 18), dtype=float32, numpy=\n",
       "  array([[[[1.00000000e+00, 0.00000000e+00, 0.00000000e+00, ...,\n",
       "            0.00000000e+00, 0.00000000e+00, 0.00000000e+00],\n",
       "           [9.13957596e-01, 8.60424340e-02, 0.00000000e+00, ...,\n",
       "            0.00000000e+00, 0.00000000e+00, 0.00000000e+00],\n",
       "           [9.57431972e-01, 3.91152427e-02, 3.45279998e-03, ...,\n",
       "            0.00000000e+00, 0.00000000e+00, 0.00000000e+00],\n",
       "           ...,\n",
       "           [1.01813897e-01, 2.91698333e-02, 1.95127365e-03, ...,\n",
       "            3.10606629e-01, 0.00000000e+00, 0.00000000e+00],\n",
       "           [1.44081330e-02, 7.47964904e-03, 1.36619725e-03, ...,\n",
       "            6.43786371e-01, 1.83999255e-01, 0.00000000e+00],\n",
       "           [2.79368162e-01, 1.79884117e-02, 7.43123610e-03, ...,\n",
       "            8.58574286e-02, 3.45151722e-01, 1.77396610e-01]],\n",
       "  \n",
       "          [[1.00000000e+00, 0.00000000e+00, 0.00000000e+00, ...,\n",
       "            0.00000000e+00, 0.00000000e+00, 0.00000000e+00],\n",
       "           [9.58623886e-01, 4.13760915e-02, 0.00000000e+00, ...,\n",
       "            0.00000000e+00, 0.00000000e+00, 0.00000000e+00],\n",
       "           [9.92733121e-01, 5.80358598e-03, 1.46330555e-03, ...,\n",
       "            0.00000000e+00, 0.00000000e+00, 0.00000000e+00],\n",
       "           ...,\n",
       "           [5.22257805e-01, 4.26263083e-04, 5.45389242e-02, ...,\n",
       "            4.11312212e-04, 0.00000000e+00, 0.00000000e+00],\n",
       "           [2.61049539e-01, 1.57695671e-03, 4.21016564e-04, ...,\n",
       "            7.54223764e-03, 8.60807896e-02, 0.00000000e+00],\n",
       "           [1.41638756e-01, 4.44937199e-02, 1.84062552e-02, ...,\n",
       "            3.24092135e-02, 2.83970505e-01, 9.97325853e-02]],\n",
       "  \n",
       "          [[1.00000000e+00, 0.00000000e+00, 0.00000000e+00, ...,\n",
       "            0.00000000e+00, 0.00000000e+00, 0.00000000e+00],\n",
       "           [9.62225318e-01, 3.77747491e-02, 0.00000000e+00, ...,\n",
       "            0.00000000e+00, 0.00000000e+00, 0.00000000e+00],\n",
       "           [9.95249271e-01, 3.94260045e-03, 8.08031124e-04, ...,\n",
       "            0.00000000e+00, 0.00000000e+00, 0.00000000e+00],\n",
       "           ...,\n",
       "           [7.60282695e-01, 5.02603594e-03, 3.55941779e-06, ...,\n",
       "            3.44494991e-02, 0.00000000e+00, 0.00000000e+00],\n",
       "           [3.93080004e-02, 1.19754290e-02, 1.41057739e-04, ...,\n",
       "            8.45125020e-01, 7.89185707e-03, 0.00000000e+00],\n",
       "           [1.91229790e-01, 2.63677817e-02, 2.15910608e-03, ...,\n",
       "            9.24029872e-02, 2.08876014e-01, 2.86690682e-01]],\n",
       "  \n",
       "          ...,\n",
       "  \n",
       "          [[1.00000000e+00, 0.00000000e+00, 0.00000000e+00, ...,\n",
       "            0.00000000e+00, 0.00000000e+00, 0.00000000e+00],\n",
       "           [9.48417664e-01, 5.15823402e-02, 0.00000000e+00, ...,\n",
       "            0.00000000e+00, 0.00000000e+00, 0.00000000e+00],\n",
       "           [9.63630974e-01, 3.50206196e-02, 1.34837104e-03, ...,\n",
       "            0.00000000e+00, 0.00000000e+00, 0.00000000e+00],\n",
       "           ...,\n",
       "           [7.31383383e-01, 1.41088909e-04, 2.85609713e-05, ...,\n",
       "            6.52126910e-05, 0.00000000e+00, 0.00000000e+00],\n",
       "           [1.33071780e-01, 3.57371904e-02, 3.16593447e-04, ...,\n",
       "            1.73559668e-03, 3.92060317e-02, 0.00000000e+00],\n",
       "           [2.40719244e-02, 1.06574055e-02, 1.65008828e-02, ...,\n",
       "            2.60931440e-04, 1.10891638e-02, 1.18072359e-02]],\n",
       "  \n",
       "          [[1.00000000e+00, 0.00000000e+00, 0.00000000e+00, ...,\n",
       "            0.00000000e+00, 0.00000000e+00, 0.00000000e+00],\n",
       "           [8.35198045e-01, 1.64801925e-01, 0.00000000e+00, ...,\n",
       "            0.00000000e+00, 0.00000000e+00, 0.00000000e+00],\n",
       "           [8.68899226e-01, 4.47541736e-02, 8.63465667e-02, ...,\n",
       "            0.00000000e+00, 0.00000000e+00, 0.00000000e+00],\n",
       "           ...,\n",
       "           [1.93975996e-02, 2.42270855e-03, 2.99290696e-04, ...,\n",
       "            1.46552775e-05, 0.00000000e+00, 0.00000000e+00],\n",
       "           [6.26836643e-02, 9.81733948e-03, 5.38151599e-02, ...,\n",
       "            4.28231619e-02, 4.93998732e-03, 0.00000000e+00],\n",
       "           [5.65865487e-02, 2.80032270e-02, 4.20830697e-02, ...,\n",
       "            9.81617440e-03, 6.00001812e-02, 8.12119693e-02]],\n",
       "  \n",
       "          [[1.00000000e+00, 0.00000000e+00, 0.00000000e+00, ...,\n",
       "            0.00000000e+00, 0.00000000e+00, 0.00000000e+00],\n",
       "           [9.41955268e-01, 5.80447577e-02, 0.00000000e+00, ...,\n",
       "            0.00000000e+00, 0.00000000e+00, 0.00000000e+00],\n",
       "           [7.57728875e-01, 1.05878964e-01, 1.36392176e-01, ...,\n",
       "            0.00000000e+00, 0.00000000e+00, 0.00000000e+00],\n",
       "           ...,\n",
       "           [1.57718614e-01, 2.98025999e-02, 1.00713046e-02, ...,\n",
       "            2.91024032e-03, 0.00000000e+00, 0.00000000e+00],\n",
       "           [2.79669445e-02, 2.85131834e-03, 4.63600707e-04, ...,\n",
       "            2.11320426e-02, 5.16136736e-02, 0.00000000e+00],\n",
       "           [2.56433245e-03, 4.62174695e-03, 1.02684181e-02, ...,\n",
       "            8.55540872e-01, 2.27115452e-02, 2.39013061e-02]]]],\n",
       "        dtype=float32)>,\n",
       "  'decoder_layer1_block2': <tf.Tensor: shape=(1, 8, 18, 19), dtype=float32, numpy=\n",
       "  array([[[[0.05297432, 0.29460672, 0.1637403 , ..., 0.0297053 ,\n",
       "            0.03587058, 0.01510043],\n",
       "           [0.08976584, 0.02428747, 0.1679597 , ..., 0.02429855,\n",
       "            0.04060294, 0.0205685 ],\n",
       "           [0.03684932, 0.02409741, 0.00873408, ..., 0.04619922,\n",
       "            0.02064727, 0.00992567],\n",
       "           ...,\n",
       "           [0.07458606, 0.03481331, 0.04911293, ..., 0.08759553,\n",
       "            0.04371616, 0.04199462],\n",
       "           [0.09593976, 0.03418262, 0.01164658, ..., 0.01245564,\n",
       "            0.06129207, 0.03100736],\n",
       "           [0.12460304, 0.16896303, 0.04510129, ..., 0.02792465,\n",
       "            0.04898607, 0.03128263]],\n",
       "  \n",
       "          [[0.01301846, 0.03950409, 0.02914441, ..., 0.0300569 ,\n",
       "            0.0071796 , 0.00828697],\n",
       "           [0.00780962, 0.00683967, 0.00224803, ..., 0.06569993,\n",
       "            0.03835441, 0.02946977],\n",
       "           [0.03670492, 0.01475631, 0.0056725 , ..., 0.04146406,\n",
       "            0.02926574, 0.02471721],\n",
       "           ...,\n",
       "           [0.02560112, 0.02029413, 0.00640947, ..., 0.07503513,\n",
       "            0.04762571, 0.03538608],\n",
       "           [0.03410254, 0.01713215, 0.0158282 , ..., 0.05597528,\n",
       "            0.08265279, 0.05859791],\n",
       "           [0.03654647, 0.02143736, 0.05092943, ..., 0.01693718,\n",
       "            0.02271819, 0.02744873]],\n",
       "  \n",
       "          [[0.02540448, 0.03432709, 0.01779287, ..., 0.01714529,\n",
       "            0.02419247, 0.01632264],\n",
       "           [0.0315779 , 0.03555055, 0.02233842, ..., 0.04860656,\n",
       "            0.02470316, 0.03943554],\n",
       "           [0.09267056, 0.05783238, 0.09147684, ..., 0.05961548,\n",
       "            0.05485725, 0.06716474],\n",
       "           ...,\n",
       "           [0.03576823, 0.01733011, 0.01490333, ..., 0.0405982 ,\n",
       "            0.02060911, 0.02771011],\n",
       "           [0.10502914, 0.25416294, 0.07583497, ..., 0.05273817,\n",
       "            0.07811478, 0.06068097],\n",
       "           [0.0563797 , 0.07119562, 0.04557506, ..., 0.02703147,\n",
       "            0.04746161, 0.0809081 ]],\n",
       "  \n",
       "          ...,\n",
       "  \n",
       "          [[0.00547321, 0.01435762, 0.0291523 , ..., 0.01546102,\n",
       "            0.05185943, 0.03199152],\n",
       "           [0.01086948, 0.00288352, 0.01018495, ..., 0.02080052,\n",
       "            0.05917777, 0.04239643],\n",
       "           [0.00912303, 0.00858653, 0.016387  , ..., 0.03103684,\n",
       "            0.04529757, 0.03095476],\n",
       "           ...,\n",
       "           [0.12089032, 0.01249082, 0.09566183, ..., 0.02768672,\n",
       "            0.04708453, 0.03595917],\n",
       "           [0.30042937, 0.00874622, 0.03076221, ..., 0.00734419,\n",
       "            0.08222295, 0.03896351],\n",
       "           [0.3489046 , 0.10434078, 0.0024601 , ..., 0.01151006,\n",
       "            0.07458076, 0.32757705]],\n",
       "  \n",
       "          [[0.02843412, 0.05217138, 0.01733488, ..., 0.00991107,\n",
       "            0.11667727, 0.06879045],\n",
       "           [0.04967029, 0.00934437, 0.00095994, ..., 0.01892107,\n",
       "            0.00487719, 0.00660238],\n",
       "           [0.21089609, 0.13838907, 0.01690498, ..., 0.08901683,\n",
       "            0.09094685, 0.08137327],\n",
       "           ...,\n",
       "           [0.06590208, 0.09853592, 0.02831862, ..., 0.01516107,\n",
       "            0.04507469, 0.06184649],\n",
       "           [0.03124074, 0.03644081, 0.02795273, ..., 0.06332277,\n",
       "            0.02400376, 0.02630781],\n",
       "           [0.01936133, 0.07059427, 0.06277576, ..., 0.02513791,\n",
       "            0.01825909, 0.02893623]],\n",
       "  \n",
       "          [[0.03544873, 0.25719962, 0.04608406, ..., 0.03929426,\n",
       "            0.15551627, 0.06894494],\n",
       "           [0.10620881, 0.0392121 , 0.34752434, ..., 0.00424458,\n",
       "            0.01432927, 0.02682692],\n",
       "           [0.09107888, 0.3960034 , 0.12438221, ..., 0.00183527,\n",
       "            0.00465881, 0.01194339],\n",
       "           ...,\n",
       "           [0.09890154, 0.01567048, 0.02529494, ..., 0.04114332,\n",
       "            0.27014604, 0.13492477],\n",
       "           [0.01158681, 0.01421133, 0.0116235 , ..., 0.08537098,\n",
       "            0.21867187, 0.02012607],\n",
       "           [0.00787796, 0.00345117, 0.00374644, ..., 0.04782607,\n",
       "            0.23869029, 0.13604671]]]], dtype=float32)>,\n",
       "  'decoder_layer2_block1': <tf.Tensor: shape=(1, 8, 18, 18), dtype=float32, numpy=\n",
       "  array([[[[1.        , 0.        , 0.        , ..., 0.        ,\n",
       "            0.        , 0.        ],\n",
       "           [0.8433108 , 0.15668927, 0.        , ..., 0.        ,\n",
       "            0.        , 0.        ],\n",
       "           [0.8748308 , 0.06748012, 0.05768908, ..., 0.        ,\n",
       "            0.        , 0.        ],\n",
       "           ...,\n",
       "           [0.50343287, 0.03523644, 0.0450335 , ..., 0.06455465,\n",
       "            0.        , 0.        ],\n",
       "           [0.2531472 , 0.02744372, 0.0164928 , ..., 0.11358826,\n",
       "            0.05166294, 0.        ],\n",
       "           [0.19492306, 0.02646421, 0.08496264, ..., 0.13379793,\n",
       "            0.02315413, 0.04693231]],\n",
       "  \n",
       "          [[1.        , 0.        , 0.        , ..., 0.        ,\n",
       "            0.        , 0.        ],\n",
       "           [0.36468178, 0.6353182 , 0.        , ..., 0.        ,\n",
       "            0.        , 0.        ],\n",
       "           [0.71843356, 0.19886476, 0.08270167, ..., 0.        ,\n",
       "            0.        , 0.        ],\n",
       "           ...,\n",
       "           [0.31336978, 0.01706102, 0.01550609, ..., 0.03999054,\n",
       "            0.        , 0.        ],\n",
       "           [0.3354854 , 0.00618207, 0.00237863, ..., 0.03789787,\n",
       "            0.01136462, 0.        ],\n",
       "           [0.26970732, 0.01516172, 0.02561456, ..., 0.01172106,\n",
       "            0.04069212, 0.509497  ]],\n",
       "  \n",
       "          [[1.        , 0.        , 0.        , ..., 0.        ,\n",
       "            0.        , 0.        ],\n",
       "           [0.8538639 , 0.14613609, 0.        , ..., 0.        ,\n",
       "            0.        , 0.        ],\n",
       "           [0.94252837, 0.02242784, 0.03504388, ..., 0.        ,\n",
       "            0.        , 0.        ],\n",
       "           ...,\n",
       "           [0.27029967, 0.03888435, 0.04879485, ..., 0.07055353,\n",
       "            0.        , 0.        ],\n",
       "           [0.22128838, 0.09016039, 0.02964422, ..., 0.06387251,\n",
       "            0.03202032, 0.        ],\n",
       "           [0.03719667, 0.06023743, 0.071453  , ..., 0.0514159 ,\n",
       "            0.05282899, 0.08344246]],\n",
       "  \n",
       "          ...,\n",
       "  \n",
       "          [[1.        , 0.        , 0.        , ..., 0.        ,\n",
       "            0.        , 0.        ],\n",
       "           [0.90293956, 0.09706047, 0.        , ..., 0.        ,\n",
       "            0.        , 0.        ],\n",
       "           [0.2086438 , 0.12159125, 0.669765  , ..., 0.        ,\n",
       "            0.        , 0.        ],\n",
       "           ...,\n",
       "           [0.21414785, 0.0280019 , 0.06059243, ..., 0.05503787,\n",
       "            0.        , 0.        ],\n",
       "           [0.3792405 , 0.0955827 , 0.02845043, ..., 0.04025751,\n",
       "            0.0489285 , 0.        ],\n",
       "           [0.58996814, 0.02742865, 0.00908252, ..., 0.0079454 ,\n",
       "            0.10022165, 0.05081769]],\n",
       "  \n",
       "          [[1.        , 0.        , 0.        , ..., 0.        ,\n",
       "            0.        , 0.        ],\n",
       "           [0.6140165 , 0.38598353, 0.        , ..., 0.        ,\n",
       "            0.        , 0.        ],\n",
       "           [0.8054139 , 0.12041791, 0.07416818, ..., 0.        ,\n",
       "            0.        , 0.        ],\n",
       "           ...,\n",
       "           [0.06753261, 0.01474879, 0.03903171, ..., 0.2072345 ,\n",
       "            0.        , 0.        ],\n",
       "           [0.14166622, 0.00832977, 0.00181039, ..., 0.21187839,\n",
       "            0.05268367, 0.        ],\n",
       "           [0.20058802, 0.01600023, 0.00971613, ..., 0.04181374,\n",
       "            0.1810691 , 0.15932515]],\n",
       "  \n",
       "          [[1.        , 0.        , 0.        , ..., 0.        ,\n",
       "            0.        , 0.        ],\n",
       "           [0.91989964, 0.08010034, 0.        , ..., 0.        ,\n",
       "            0.        , 0.        ],\n",
       "           [0.9002159 , 0.04018066, 0.0596034 , ..., 0.        ,\n",
       "            0.        , 0.        ],\n",
       "           ...,\n",
       "           [0.6462319 , 0.00846781, 0.00673965, ..., 0.01178429,\n",
       "            0.        , 0.        ],\n",
       "           [0.41115585, 0.0297984 , 0.02785966, ..., 0.04499457,\n",
       "            0.07986049, 0.        ],\n",
       "           [0.19248275, 0.0471272 , 0.0653287 , ..., 0.06998878,\n",
       "            0.05993642, 0.12728557]]]], dtype=float32)>,\n",
       "  'decoder_layer2_block2': <tf.Tensor: shape=(1, 8, 18, 19), dtype=float32, numpy=\n",
       "  array([[[[4.28125728e-03, 1.31124286e-02, 1.14491838e-03, ...,\n",
       "            4.36402217e-04, 7.84719527e-01, 4.48165834e-02],\n",
       "           [8.13789573e-03, 3.89674425e-01, 3.58037621e-01, ...,\n",
       "            1.57696586e-02, 1.26085386e-01, 3.57822105e-02],\n",
       "           [2.10916385e-01, 1.84642095e-02, 1.80186853e-02, ...,\n",
       "            1.41890245e-02, 1.79511711e-01, 2.86115825e-01],\n",
       "           ...,\n",
       "           [1.66728839e-01, 3.71902250e-02, 9.86691788e-02, ...,\n",
       "            3.28427069e-02, 7.25523978e-02, 1.92069247e-01],\n",
       "           [5.22259809e-02, 1.76259819e-02, 3.34208198e-02, ...,\n",
       "            4.22182083e-02, 1.07434146e-01, 1.22891165e-01],\n",
       "           [3.78678888e-02, 4.07928415e-02, 5.42947985e-02, ...,\n",
       "            1.12641770e-02, 2.36986816e-01, 1.15160190e-01]],\n",
       "  \n",
       "          [[2.13009734e-02, 6.66007623e-02, 6.22155555e-02, ...,\n",
       "            1.11573134e-02, 2.27071807e-01, 5.53516269e-01],\n",
       "           [7.52683147e-04, 9.72308934e-01, 2.68889721e-02, ...,\n",
       "            1.22887081e-06, 1.06866173e-06, 4.95407562e-07],\n",
       "           [2.25375026e-01, 1.69568192e-02, 6.80385411e-01, ...,\n",
       "            1.88831184e-02, 4.55359623e-06, 2.77209347e-05],\n",
       "           ...,\n",
       "           [1.08396402e-03, 9.10830931e-06, 3.94597836e-03, ...,\n",
       "            6.89706683e-01, 1.98267959e-03, 5.53606125e-03],\n",
       "           [2.01646937e-03, 2.59440208e-06, 1.07448504e-04, ...,\n",
       "            1.20200478e-01, 1.16027877e-01, 1.68025583e-01],\n",
       "           [7.92893661e-06, 4.81860297e-07, 5.05263188e-07, ...,\n",
       "            2.85812770e-04, 9.34359312e-01, 6.24124855e-02]],\n",
       "  \n",
       "          [[1.26327232e-01, 4.62274611e-01, 6.79301545e-02, ...,\n",
       "            5.20096868e-02, 8.40891711e-03, 2.12605037e-02],\n",
       "           [9.77961272e-02, 2.68773228e-01, 4.39135909e-01, ...,\n",
       "            1.35313813e-03, 1.31456938e-04, 2.39499655e-04],\n",
       "           [1.18691407e-01, 3.54344808e-02, 1.82157606e-01, ...,\n",
       "            6.91588176e-03, 5.29568177e-04, 6.47506560e-04],\n",
       "           ...,\n",
       "           [1.46258138e-02, 2.11809133e-03, 2.36744434e-02, ...,\n",
       "            1.19291946e-01, 1.69345051e-01, 1.80152401e-01],\n",
       "           [6.33634115e-03, 4.95541748e-03, 1.25890842e-03, ...,\n",
       "            2.10796930e-02, 2.56378621e-01, 4.84845668e-01],\n",
       "           [2.22081289e-04, 1.75587134e-03, 1.09946814e-04, ...,\n",
       "            1.29737342e-02, 2.04655051e-01, 6.91302419e-01]],\n",
       "  \n",
       "          ...,\n",
       "  \n",
       "          [[1.32422417e-01, 2.07492068e-01, 1.29544154e-01, ...,\n",
       "            3.82952765e-02, 6.12867661e-02, 5.54405935e-02],\n",
       "           [2.90140480e-01, 4.13541459e-02, 6.62007108e-02, ...,\n",
       "            8.12417455e-03, 3.07361409e-02, 7.17840791e-02],\n",
       "           [3.60301584e-01, 2.37503601e-03, 2.99637448e-02, ...,\n",
       "            3.59395519e-02, 9.04156175e-03, 9.29115899e-03],\n",
       "           ...,\n",
       "           [2.59866491e-02, 6.15264326e-02, 4.43119518e-02, ...,\n",
       "            2.17304111e-01, 1.44839525e-01, 5.00411913e-02],\n",
       "           [4.52023596e-02, 2.82137170e-02, 7.12380279e-03, ...,\n",
       "            1.98153313e-02, 2.56395787e-01, 7.23436177e-02],\n",
       "           [8.02823249e-03, 2.65518218e-01, 1.80116575e-02, ...,\n",
       "            1.75852999e-02, 2.61690289e-01, 1.00200526e-01]],\n",
       "  \n",
       "          [[1.04103744e-01, 1.44275233e-01, 2.27952152e-01, ...,\n",
       "            4.45486233e-02, 1.58996746e-01, 3.01124547e-02],\n",
       "           [1.80344522e-01, 7.85588473e-02, 3.37590665e-01, ...,\n",
       "            7.31683569e-03, 3.08498666e-02, 6.61977194e-03],\n",
       "           [1.73991472e-01, 8.92354697e-02, 8.25845599e-02, ...,\n",
       "            1.24721304e-02, 2.09674938e-03, 2.26604333e-03],\n",
       "           ...,\n",
       "           [6.45063967e-02, 5.43358885e-02, 5.46300784e-02, ...,\n",
       "            1.20524608e-01, 3.59565355e-02, 3.40807140e-02],\n",
       "           [9.19441432e-02, 1.77502669e-02, 1.71199050e-02, ...,\n",
       "            5.90851158e-02, 7.90934637e-02, 7.92698041e-02],\n",
       "           [2.26167701e-02, 1.21691953e-02, 1.75019708e-02, ...,\n",
       "            1.30622238e-01, 1.12356082e-01, 6.27381429e-02]],\n",
       "  \n",
       "          [[6.81758393e-04, 5.77767089e-04, 4.94027860e-04, ...,\n",
       "            2.42243754e-03, 9.57255602e-01, 2.75953673e-02],\n",
       "           [3.08492314e-02, 1.89685538e-01, 1.86390102e-01, ...,\n",
       "            8.47451314e-02, 3.70410010e-02, 3.50283533e-02],\n",
       "           [4.85403351e-02, 2.23507155e-02, 8.81823897e-02, ...,\n",
       "            4.90705743e-02, 1.22261435e-01, 7.46759847e-02],\n",
       "           ...,\n",
       "           [1.43790230e-01, 1.86692942e-02, 4.23941404e-01, ...,\n",
       "            1.65417474e-02, 1.04587863e-03, 2.89125945e-02],\n",
       "           [2.26997197e-01, 3.77992801e-02, 6.58912212e-02, ...,\n",
       "            7.45571032e-02, 2.27001421e-02, 7.60654509e-02],\n",
       "           [2.40081223e-03, 3.71013395e-03, 4.85035940e-04, ...,\n",
       "            9.32239345e-04, 8.58401954e-01, 1.09096937e-01]]]],\n",
       "        dtype=float32)>,\n",
       "  'decoder_layer3_block1': <tf.Tensor: shape=(1, 8, 18, 18), dtype=float32, numpy=\n",
       "  array([[[[1.        , 0.        , 0.        , ..., 0.        ,\n",
       "            0.        , 0.        ],\n",
       "           [0.8657135 , 0.13428652, 0.        , ..., 0.        ,\n",
       "            0.        , 0.        ],\n",
       "           [0.72019744, 0.07274552, 0.20705707, ..., 0.        ,\n",
       "            0.        , 0.        ],\n",
       "           ...,\n",
       "           [0.64917535, 0.01783948, 0.01748723, ..., 0.01504645,\n",
       "            0.        , 0.        ],\n",
       "           [0.4711544 , 0.01412831, 0.04656812, ..., 0.07518048,\n",
       "            0.02704013, 0.        ],\n",
       "           [0.15702584, 0.04010544, 0.00449363, ..., 0.0597924 ,\n",
       "            0.08519661, 0.27486664]],\n",
       "  \n",
       "          [[1.        , 0.        , 0.        , ..., 0.        ,\n",
       "            0.        , 0.        ],\n",
       "           [0.6063598 , 0.39364022, 0.        , ..., 0.        ,\n",
       "            0.        , 0.        ],\n",
       "           [0.39093506, 0.44521946, 0.16384542, ..., 0.        ,\n",
       "            0.        , 0.        ],\n",
       "           ...,\n",
       "           [0.04969769, 0.0121048 , 0.0043697 , ..., 0.18276365,\n",
       "            0.        , 0.        ],\n",
       "           [0.04376876, 0.00849053, 0.01430578, ..., 0.3378205 ,\n",
       "            0.03241457, 0.        ],\n",
       "           [0.5005992 , 0.14810175, 0.04898931, ..., 0.00730983,\n",
       "            0.06915032, 0.07321685]],\n",
       "  \n",
       "          [[1.        , 0.        , 0.        , ..., 0.        ,\n",
       "            0.        , 0.        ],\n",
       "           [0.8154247 , 0.18457536, 0.        , ..., 0.        ,\n",
       "            0.        , 0.        ],\n",
       "           [0.2273277 , 0.52233356, 0.2503387 , ..., 0.        ,\n",
       "            0.        , 0.        ],\n",
       "           ...,\n",
       "           [0.28284037, 0.02813932, 0.03041632, ..., 0.05524403,\n",
       "            0.        , 0.        ],\n",
       "           [0.23650852, 0.01428506, 0.02710716, ..., 0.06130784,\n",
       "            0.06359629, 0.        ],\n",
       "           [0.4615649 , 0.02287773, 0.01126426, ..., 0.07690074,\n",
       "            0.04776428, 0.20802677]],\n",
       "  \n",
       "          ...,\n",
       "  \n",
       "          [[1.        , 0.        , 0.        , ..., 0.        ,\n",
       "            0.        , 0.        ],\n",
       "           [0.77271897, 0.22728103, 0.        , ..., 0.        ,\n",
       "            0.        , 0.        ],\n",
       "           [0.5993898 , 0.06490854, 0.33570167, ..., 0.        ,\n",
       "            0.        , 0.        ],\n",
       "           ...,\n",
       "           [0.06899977, 0.03474002, 0.09478444, ..., 0.11148665,\n",
       "            0.        , 0.        ],\n",
       "           [0.06823004, 0.02248817, 0.04577407, ..., 0.10824664,\n",
       "            0.08719453, 0.        ],\n",
       "           [0.03727616, 0.0348714 , 0.04436669, ..., 0.1079063 ,\n",
       "            0.06746148, 0.04199609]],\n",
       "  \n",
       "          [[1.        , 0.        , 0.        , ..., 0.        ,\n",
       "            0.        , 0.        ],\n",
       "           [0.76911825, 0.23088178, 0.        , ..., 0.        ,\n",
       "            0.        , 0.        ],\n",
       "           [0.8132458 , 0.11446192, 0.07229226, ..., 0.        ,\n",
       "            0.        , 0.        ],\n",
       "           ...,\n",
       "           [0.25871438, 0.0044853 , 0.00363752, ..., 0.01791961,\n",
       "            0.        , 0.        ],\n",
       "           [0.34454387, 0.01502533, 0.00986428, ..., 0.34452838,\n",
       "            0.0303117 , 0.        ],\n",
       "           [0.4994693 , 0.04190206, 0.01691287, ..., 0.02310656,\n",
       "            0.06793558, 0.1562779 ]],\n",
       "  \n",
       "          [[1.        , 0.        , 0.        , ..., 0.        ,\n",
       "            0.        , 0.        ],\n",
       "           [0.9391985 , 0.06080156, 0.        , ..., 0.        ,\n",
       "            0.        , 0.        ],\n",
       "           [0.50437766, 0.16100463, 0.33461767, ..., 0.        ,\n",
       "            0.        , 0.        ],\n",
       "           ...,\n",
       "           [0.43001527, 0.02508091, 0.03446018, ..., 0.04465725,\n",
       "            0.        , 0.        ],\n",
       "           [0.3060056 , 0.00925052, 0.00886285, ..., 0.17717533,\n",
       "            0.09876748, 0.        ],\n",
       "           [0.18445602, 0.02850642, 0.00725793, ..., 0.1675054 ,\n",
       "            0.08219058, 0.1317882 ]]]], dtype=float32)>,\n",
       "  'decoder_layer3_block2': <tf.Tensor: shape=(1, 8, 18, 19), dtype=float32, numpy=\n",
       "  array([[[[1.58750378e-02, 6.52610183e-01, 3.12705457e-01, ...,\n",
       "            1.04014005e-03, 7.72528641e-04, 6.74833369e-04],\n",
       "           [1.84138063e-02, 1.31547544e-02, 2.01043170e-02, ...,\n",
       "            6.25126677e-06, 4.73043438e-05, 7.78567992e-05],\n",
       "           [3.20327543e-02, 1.75528117e-02, 5.54704703e-02, ...,\n",
       "            2.84936978e-05, 3.87418731e-06, 4.57964234e-06],\n",
       "           ...,\n",
       "           [3.25729081e-04, 5.62170229e-04, 2.21728027e-04, ...,\n",
       "            1.06150568e-01, 3.00474048e-01, 2.41781801e-01],\n",
       "           [1.14504143e-03, 1.90395862e-03, 8.37634725e-04, ...,\n",
       "            1.95375204e-01, 4.14878219e-01, 2.08542675e-01],\n",
       "           [4.39137239e-06, 1.21323996e-04, 2.47355474e-05, ...,\n",
       "            2.83737155e-03, 8.90835673e-02, 9.06453967e-01]],\n",
       "  \n",
       "          [[2.28419468e-01, 5.89645624e-01, 1.38634473e-01, ...,\n",
       "            1.57902911e-02, 8.94851633e-04, 2.36635399e-03],\n",
       "           [2.36591836e-03, 3.28005515e-02, 9.62606251e-01, ...,\n",
       "            1.79519175e-05, 2.29406268e-07, 1.05081135e-07],\n",
       "           [2.88414389e-01, 1.61376558e-02, 2.91157234e-02, ...,\n",
       "            1.64430495e-03, 6.69295376e-04, 1.57871202e-03],\n",
       "           ...,\n",
       "           [1.75336767e-02, 9.17928191e-05, 1.29861792e-05, ...,\n",
       "            2.45380864e-01, 3.24962288e-01, 3.12384307e-01],\n",
       "           [3.11724935e-03, 9.53221170e-05, 1.19460878e-04, ...,\n",
       "            2.31639296e-01, 4.03493077e-01, 1.18926458e-01],\n",
       "           [4.67131940e-05, 1.69258383e-05, 3.96035915e-07, ...,\n",
       "            7.15485215e-03, 3.15418035e-01, 6.72548831e-01]],\n",
       "  \n",
       "          [[2.92763370e-03, 5.82801163e-01, 3.68832588e-01, ...,\n",
       "            6.56993641e-03, 9.90953631e-05, 9.18881124e-05],\n",
       "           [1.51382834e-02, 9.68780834e-03, 9.18809652e-01, ...,\n",
       "            1.77049267e-04, 5.85114037e-07, 1.96029328e-06],\n",
       "           [4.00427822e-03, 3.86321433e-02, 1.37835577e-01, ...,\n",
       "            4.23065014e-03, 4.18071941e-05, 3.15509533e-05],\n",
       "           ...,\n",
       "           [5.89999929e-03, 1.75820640e-03, 1.29977497e-03, ...,\n",
       "            1.62506402e-01, 1.93754300e-01, 5.99319153e-02],\n",
       "           [1.46530184e-03, 3.16679274e-04, 1.68503990e-04, ...,\n",
       "            2.56591924e-02, 5.63039839e-01, 3.24111223e-01],\n",
       "           [5.64282294e-04, 1.19988546e-02, 1.07834553e-02, ...,\n",
       "            6.47438765e-02, 1.27468407e-01, 4.90824461e-01]],\n",
       "  \n",
       "          ...,\n",
       "  \n",
       "          [[4.22861874e-01, 3.93512875e-01, 1.15238562e-01, ...,\n",
       "            4.98811668e-03, 1.33664277e-03, 3.35710659e-03],\n",
       "           [4.42267949e-04, 2.33236402e-01, 7.66060770e-01, ...,\n",
       "            7.22162952e-07, 3.21797842e-08, 3.87280075e-08],\n",
       "           [2.05017701e-01, 7.04796100e-03, 7.42042139e-02, ...,\n",
       "            1.39509968e-03, 1.77761576e-05, 4.97625479e-05],\n",
       "           ...,\n",
       "           [5.90137905e-03, 8.02097293e-06, 4.54537167e-06, ...,\n",
       "            1.27303347e-01, 3.60241115e-01, 4.09152180e-01],\n",
       "           [9.02602565e-04, 8.78065805e-07, 2.78253481e-07, ...,\n",
       "            1.90400817e-02, 3.27687740e-01, 6.09416306e-01],\n",
       "           [5.69525291e-05, 6.67632094e-06, 4.52583123e-07, ...,\n",
       "            6.52607647e-04, 2.11464033e-01, 7.86364794e-01]],\n",
       "  \n",
       "          [[3.16313980e-03, 8.52291226e-01, 1.20992236e-01, ...,\n",
       "            6.69972738e-03, 2.38746055e-03, 3.44296306e-04],\n",
       "           [1.34627102e-02, 5.42625897e-02, 9.25853252e-01, ...,\n",
       "            7.38656527e-05, 5.29923000e-06, 5.25733640e-07],\n",
       "           [2.01843068e-01, 1.45942168e-02, 3.04881930e-02, ...,\n",
       "            8.23058654e-03, 6.53092982e-04, 8.92479366e-05],\n",
       "           ...,\n",
       "           [5.78575535e-03, 1.40449451e-03, 2.91584613e-04, ...,\n",
       "            4.38470542e-01, 6.91171438e-02, 1.87399805e-01],\n",
       "           [1.40992532e-04, 8.56267929e-04, 7.10646564e-05, ...,\n",
       "            3.28891724e-01, 7.33083338e-02, 3.13860178e-01],\n",
       "           [1.78099999e-05, 7.04247085e-03, 1.68254657e-03, ...,\n",
       "            3.21059488e-02, 4.08406615e-01, 5.27825296e-01]],\n",
       "  \n",
       "          [[1.94889419e-02, 1.90779135e-01, 6.15007699e-01, ...,\n",
       "            4.06397367e-03, 2.64020666e-04, 8.24143412e-04],\n",
       "           [2.62806118e-02, 1.35288611e-01, 7.50649631e-01, ...,\n",
       "            9.87365420e-05, 2.62626727e-05, 9.61338737e-05],\n",
       "           [2.47212440e-01, 1.46894613e-02, 3.96730267e-02, ...,\n",
       "            2.19227033e-04, 5.18297065e-06, 9.28054124e-06],\n",
       "           ...,\n",
       "           [2.37366417e-03, 8.25918760e-05, 6.26158071e-05, ...,\n",
       "            1.62733734e-01, 2.56151199e-01, 1.02504492e-01],\n",
       "           [2.98194849e-04, 2.02826741e-05, 2.30949308e-06, ...,\n",
       "            1.50331333e-02, 7.90751100e-01, 1.31349668e-01],\n",
       "           [6.40862127e-05, 2.72127363e-04, 4.44383222e-05, ...,\n",
       "            2.22758972e-03, 1.74602166e-01, 8.09413671e-01]]]],\n",
       "        dtype=float32)>,\n",
       "  'decoder_layer4_block1': <tf.Tensor: shape=(1, 8, 18, 18), dtype=float32, numpy=\n",
       "  array([[[[1.0000000e+00, 0.0000000e+00, 0.0000000e+00, ...,\n",
       "            0.0000000e+00, 0.0000000e+00, 0.0000000e+00],\n",
       "           [7.6878130e-01, 2.3121871e-01, 0.0000000e+00, ...,\n",
       "            0.0000000e+00, 0.0000000e+00, 0.0000000e+00],\n",
       "           [7.2974938e-01, 1.8282658e-01, 8.7424025e-02, ...,\n",
       "            0.0000000e+00, 0.0000000e+00, 0.0000000e+00],\n",
       "           ...,\n",
       "           [1.9084248e-01, 6.3834026e-02, 2.1192554e-02, ...,\n",
       "            4.8201252e-02, 0.0000000e+00, 0.0000000e+00],\n",
       "           [1.3390270e-01, 2.4510527e-02, 4.8517793e-02, ...,\n",
       "            5.5619068e-02, 4.8213847e-02, 0.0000000e+00],\n",
       "           [2.0483050e-02, 4.3379568e-02, 3.2768964e-03, ...,\n",
       "            8.9963689e-02, 1.6315374e-01, 2.3012538e-01]],\n",
       "  \n",
       "          [[1.0000000e+00, 0.0000000e+00, 0.0000000e+00, ...,\n",
       "            0.0000000e+00, 0.0000000e+00, 0.0000000e+00],\n",
       "           [8.3548188e-01, 1.6451812e-01, 0.0000000e+00, ...,\n",
       "            0.0000000e+00, 0.0000000e+00, 0.0000000e+00],\n",
       "           [8.2182842e-01, 7.1080223e-02, 1.0709136e-01, ...,\n",
       "            0.0000000e+00, 0.0000000e+00, 0.0000000e+00],\n",
       "           ...,\n",
       "           [3.3176816e-01, 2.8692583e-02, 1.2618988e-02, ...,\n",
       "            7.8541357e-03, 0.0000000e+00, 0.0000000e+00],\n",
       "           [3.3575070e-01, 1.6610531e-02, 7.8979135e-02, ...,\n",
       "            2.4771167e-02, 8.5716538e-02, 0.0000000e+00],\n",
       "           [4.3596521e-02, 1.2056943e-02, 7.2175697e-03, ...,\n",
       "            1.6831352e-01, 2.5110033e-01, 2.4901505e-01]],\n",
       "  \n",
       "          [[1.0000000e+00, 0.0000000e+00, 0.0000000e+00, ...,\n",
       "            0.0000000e+00, 0.0000000e+00, 0.0000000e+00],\n",
       "           [1.4436720e-03, 9.9855632e-01, 0.0000000e+00, ...,\n",
       "            0.0000000e+00, 0.0000000e+00, 0.0000000e+00],\n",
       "           [1.0198447e-02, 2.1417195e-03, 9.8765987e-01, ...,\n",
       "            0.0000000e+00, 0.0000000e+00, 0.0000000e+00],\n",
       "           ...,\n",
       "           [1.3271969e-02, 1.6789044e-04, 1.9713743e-02, ...,\n",
       "            2.0984769e-02, 0.0000000e+00, 0.0000000e+00],\n",
       "           [6.0032189e-02, 1.1710674e-03, 3.7970985e-03, ...,\n",
       "            8.6398665e-03, 3.6842757e-01, 0.0000000e+00],\n",
       "           [2.0628941e-01, 5.0333507e-02, 8.7504843e-03, ...,\n",
       "            3.5042011e-03, 3.2920605e-03, 5.0633442e-01]],\n",
       "  \n",
       "          ...,\n",
       "  \n",
       "          [[1.0000000e+00, 0.0000000e+00, 0.0000000e+00, ...,\n",
       "            0.0000000e+00, 0.0000000e+00, 0.0000000e+00],\n",
       "           [8.3620799e-01, 1.6379203e-01, 0.0000000e+00, ...,\n",
       "            0.0000000e+00, 0.0000000e+00, 0.0000000e+00],\n",
       "           [6.7611438e-01, 1.0442399e-02, 3.1344318e-01, ...,\n",
       "            0.0000000e+00, 0.0000000e+00, 0.0000000e+00],\n",
       "           ...,\n",
       "           [1.7445186e-01, 2.8288963e-03, 1.3225397e-02, ...,\n",
       "            1.0123676e-01, 0.0000000e+00, 0.0000000e+00],\n",
       "           [4.9840748e-02, 5.5782171e-04, 2.9247213e-02, ...,\n",
       "            1.8835858e-01, 1.7638899e-01, 0.0000000e+00],\n",
       "           [6.8081871e-02, 3.2475823e-01, 3.1920161e-02, ...,\n",
       "            2.1513307e-03, 1.1317347e-01, 1.3502255e-01]],\n",
       "  \n",
       "          [[1.0000000e+00, 0.0000000e+00, 0.0000000e+00, ...,\n",
       "            0.0000000e+00, 0.0000000e+00, 0.0000000e+00],\n",
       "           [9.6331096e-01, 3.6689043e-02, 0.0000000e+00, ...,\n",
       "            0.0000000e+00, 0.0000000e+00, 0.0000000e+00],\n",
       "           [5.4537177e-01, 2.4084005e-01, 2.1378817e-01, ...,\n",
       "            0.0000000e+00, 0.0000000e+00, 0.0000000e+00],\n",
       "           ...,\n",
       "           [6.0022314e-04, 7.4457406e-05, 2.9284149e-04, ...,\n",
       "            3.2750701e-03, 0.0000000e+00, 0.0000000e+00],\n",
       "           [3.9090295e-03, 1.9593297e-04, 6.9124630e-04, ...,\n",
       "            3.0032312e-03, 1.0400174e-02, 0.0000000e+00],\n",
       "           [9.6861340e-02, 6.1582820e-03, 7.7821165e-03, ...,\n",
       "            8.3055764e-02, 9.9042363e-02, 3.3020976e-01]],\n",
       "  \n",
       "          [[1.0000000e+00, 0.0000000e+00, 0.0000000e+00, ...,\n",
       "            0.0000000e+00, 0.0000000e+00, 0.0000000e+00],\n",
       "           [9.1557598e-01, 8.4424034e-02, 0.0000000e+00, ...,\n",
       "            0.0000000e+00, 0.0000000e+00, 0.0000000e+00],\n",
       "           [5.3938109e-01, 6.7017674e-02, 3.9360127e-01, ...,\n",
       "            0.0000000e+00, 0.0000000e+00, 0.0000000e+00],\n",
       "           ...,\n",
       "           [2.3059726e-01, 2.5616357e-02, 7.3114328e-02, ...,\n",
       "            3.3105686e-02, 0.0000000e+00, 0.0000000e+00],\n",
       "           [1.8654492e-01, 1.6723417e-02, 2.4320987e-01, ...,\n",
       "            2.6955012e-02, 2.5381723e-02, 0.0000000e+00],\n",
       "           [8.9969143e-02, 1.4935503e-02, 3.2497548e-02, ...,\n",
       "            4.0743548e-02, 1.2020057e-01, 1.2877269e-01]]]], dtype=float32)>,\n",
       "  'decoder_layer4_block2': <tf.Tensor: shape=(1, 8, 18, 19), dtype=float32, numpy=\n",
       "  array([[[[2.44990870e-01, 2.68523157e-01, 1.84519917e-01, ...,\n",
       "            6.89099589e-03, 1.03441556e-03, 2.40341784e-03],\n",
       "           [4.09466634e-03, 1.69117916e-02, 9.41292405e-01, ...,\n",
       "            8.88247450e-04, 1.05497729e-05, 1.18991120e-05],\n",
       "           [4.24665928e-01, 1.26873679e-03, 5.00094444e-02, ...,\n",
       "            1.08822400e-03, 1.21094708e-04, 5.12787374e-04],\n",
       "           ...,\n",
       "           [2.05622967e-02, 4.83494834e-04, 1.76394056e-03, ...,\n",
       "            3.53249162e-01, 5.57305403e-02, 4.90668975e-02],\n",
       "           [9.73572582e-03, 7.52473832e-04, 6.93112786e-04, ...,\n",
       "            1.85949698e-01, 3.56511831e-01, 1.73807085e-01],\n",
       "           [8.51841923e-03, 3.78913851e-03, 1.07954897e-03, ...,\n",
       "            7.00486898e-02, 2.18771636e-01, 4.59111899e-01]],\n",
       "  \n",
       "          [[2.16156337e-03, 8.28133225e-01, 1.34514123e-01, ...,\n",
       "            1.98487355e-03, 7.31329783e-05, 1.34780494e-04],\n",
       "           [1.61068395e-01, 7.94599578e-03, 3.29577029e-01, ...,\n",
       "            1.33996485e-02, 1.63338642e-04, 1.25729537e-04],\n",
       "           [4.40873317e-02, 1.36648156e-02, 1.13883816e-01, ...,\n",
       "            6.06765458e-03, 9.81908874e-04, 6.97383715e-04],\n",
       "           ...,\n",
       "           [2.01304127e-02, 8.69782642e-03, 8.19784496e-03, ...,\n",
       "            2.33501449e-01, 1.21419378e-01, 1.58414453e-01],\n",
       "           [3.54766734e-02, 5.96126867e-03, 6.49532117e-03, ...,\n",
       "            1.27389640e-01, 1.51421592e-01, 1.25696078e-01],\n",
       "           [4.67663351e-03, 1.05927087e-01, 2.83879563e-02, ...,\n",
       "            1.82128072e-01, 1.72818929e-01, 2.81266749e-01]],\n",
       "  \n",
       "          [[4.48370166e-02, 6.30010843e-01, 1.22438520e-01, ...,\n",
       "            6.36436185e-03, 8.60448694e-04, 2.14372692e-03],\n",
       "           [1.66036596e-03, 1.46041093e-02, 9.70015109e-01, ...,\n",
       "            2.90186945e-05, 2.16212442e-07, 1.54072814e-06],\n",
       "           [1.02186790e-02, 5.60046639e-03, 5.65724447e-02, ...,\n",
       "            1.02519880e-04, 6.77488106e-06, 5.96551172e-06],\n",
       "           ...,\n",
       "           [3.63100097e-02, 1.97187485e-03, 7.02575839e-04, ...,\n",
       "            1.03956148e-01, 2.55075455e-01, 2.11144313e-01],\n",
       "           [9.44772642e-03, 1.23693107e-03, 1.96590612e-04, ...,\n",
       "            6.88554272e-02, 4.03740466e-01, 2.84213156e-01],\n",
       "           [1.02982502e-02, 1.43039480e-01, 1.31859249e-02, ...,\n",
       "            2.50295132e-01, 1.39935136e-01, 1.82475805e-01]],\n",
       "  \n",
       "          ...,\n",
       "  \n",
       "          [[1.16848692e-01, 1.68258741e-01, 1.98741868e-01, ...,\n",
       "            8.75958242e-03, 3.57602676e-03, 2.28841254e-03],\n",
       "           [8.32176884e-04, 3.58266616e-03, 9.88010824e-01, ...,\n",
       "            3.23520435e-05, 2.37978213e-07, 2.35088393e-07],\n",
       "           [1.50205866e-01, 3.32775619e-03, 1.94004159e-02, ...,\n",
       "            1.10772601e-03, 1.80045769e-04, 2.73106270e-04],\n",
       "           ...,\n",
       "           [7.34080467e-03, 1.78585833e-04, 7.69893668e-05, ...,\n",
       "            3.01002294e-01, 8.67240503e-02, 1.23905152e-01],\n",
       "           [7.44557893e-03, 2.37611486e-04, 9.85994702e-04, ...,\n",
       "            3.03139061e-01, 1.23849206e-01, 1.33867607e-01],\n",
       "           [3.80653329e-03, 7.53356935e-03, 2.31561693e-03, ...,\n",
       "            5.71244024e-02, 3.36481154e-01, 3.49300474e-01]],\n",
       "  \n",
       "          [[6.45424724e-02, 6.82488829e-02, 1.70463443e-01, ...,\n",
       "            1.01593919e-02, 3.95491254e-03, 5.74357528e-03],\n",
       "           [1.43219978e-02, 2.64722351e-02, 9.27833617e-01, ...,\n",
       "            9.72974813e-04, 4.57688429e-06, 1.17491836e-05],\n",
       "           [5.72872907e-02, 2.75410188e-04, 2.44599255e-03, ...,\n",
       "            1.99811230e-03, 1.11395272e-03, 1.47757691e-03],\n",
       "           ...,\n",
       "           [7.33018219e-02, 1.94094609e-03, 8.12984724e-03, ...,\n",
       "            1.88198239e-01, 3.59627865e-02, 9.36763063e-02],\n",
       "           [4.30089980e-02, 5.45785704e-04, 1.74637884e-02, ...,\n",
       "            8.80325437e-02, 1.12726010e-01, 2.65003681e-01],\n",
       "           [1.48535715e-02, 1.57538261e-02, 8.34119041e-03, ...,\n",
       "            3.64599228e-02, 1.19679846e-01, 3.12495589e-01]],\n",
       "  \n",
       "          [[4.08799052e-02, 6.47398293e-01, 8.62002596e-02, ...,\n",
       "            1.18472031e-03, 8.86359718e-04, 9.66568594e-04],\n",
       "           [6.71317102e-03, 5.46454219e-03, 9.16499496e-01, ...,\n",
       "            1.72801912e-04, 1.55765865e-05, 5.13542145e-05],\n",
       "           [5.51145039e-02, 2.33240165e-02, 4.65787277e-02, ...,\n",
       "            1.98103808e-04, 1.85340585e-04, 1.18537464e-04],\n",
       "           ...,\n",
       "           [1.70875210e-02, 2.86623428e-04, 1.13350943e-04, ...,\n",
       "            4.59308088e-01, 2.01129198e-01, 1.14403792e-01],\n",
       "           [1.51077029e-03, 3.02187604e-04, 1.51242944e-04, ...,\n",
       "            1.61761343e-02, 7.29515791e-01, 2.17311829e-01],\n",
       "           [1.25539210e-03, 2.46774452e-03, 3.83208110e-03, ...,\n",
       "            2.64366586e-02, 2.05537841e-01, 7.10577250e-01]]]],\n",
       "        dtype=float32)>})"
      ]
     },
     "execution_count": 109,
     "metadata": {},
     "output_type": "execute_result"
    }
   ],
   "source": [
    "translator(tf.constant(sentence),max_length=25)"
   ]
  },
  {
   "cell_type": "markdown",
   "id": "b59f2440",
   "metadata": {},
   "source": [
    "## Attention plots"
   ]
  },
  {
   "cell_type": "markdown",
   "id": "ad34c0e6",
   "metadata": {},
   "source": [
    "The `Translator` class returns a dictionary of attention maps you can use to visualize the internal working of the model:"
   ]
  },
  {
   "cell_type": "code",
   "execution_count": 111,
   "id": "63526e5c",
   "metadata": {},
   "outputs": [
    {
     "name": "stdout",
     "output_type": "stream",
     "text": [
      "Input:         : este é o primeiro livro que eu fiz.\n",
      "Prediction     : this is the first book i made .\n",
      "Ground truth   : this is the first book i've ever done.\n"
     ]
    }
   ],
   "source": [
    "sentence = 'este é o primeiro livro que eu fiz.'\n",
    "ground_truth = \"this is the first book i've ever done.\"\n",
    "\n",
    "translated_text, translated_tokens, attention_weights = translator(\n",
    "    tf.constant(sentence),max_length=25)\n",
    "print_translation(sentence, translated_text, ground_truth)"
   ]
  },
  {
   "cell_type": "code",
   "execution_count": 91,
   "id": "6f85ab1a",
   "metadata": {},
   "outputs": [],
   "source": [
    "def plot_attention_head(in_tokens, translated_tokens, attention):\n",
    "  # The plot is of the attention when a token was generated.\n",
    "  # The model didn't generate `<START>` in the output. Skip it.\n",
    "  translated_tokens = translated_tokens[1:]\n",
    "\n",
    "  ax = plt.gca()\n",
    "  ax.matshow(attention)\n",
    "  ax.set_xticks(range(len(in_tokens)))\n",
    "  ax.set_yticks(range(len(translated_tokens)))\n",
    "\n",
    "  labels = [label.decode('utf-8') for label in in_tokens.numpy()]\n",
    "  ax.set_xticklabels(\n",
    "      labels, rotation=90)\n",
    "\n",
    "  labels = [label.decode('utf-8') for label in translated_tokens.numpy()]\n",
    "  ax.set_yticklabels(labels)"
   ]
  },
  {
   "cell_type": "code",
   "execution_count": 92,
   "id": "aae6841f",
   "metadata": {},
   "outputs": [
    {
     "data": {
      "text/plain": [
       "TensorShape([9, 11])"
      ]
     },
     "execution_count": 92,
     "metadata": {},
     "output_type": "execute_result"
    }
   ],
   "source": [
    "head = 0\n",
    "# shape: (batch=1, num_heads, seq_len_q, seq_len_k)\n",
    "attention_heads = tf.squeeze(\n",
    "  attention_weights['decoder_layer4_block2'], 0)\n",
    "attention = attention_heads[head]\n",
    "attention.shape"
   ]
  },
  {
   "cell_type": "code",
   "execution_count": 93,
   "id": "51ec75e9",
   "metadata": {},
   "outputs": [
    {
     "data": {
      "text/plain": [
       "<tf.Tensor: shape=(11,), dtype=string, numpy=\n",
       "array([b'[START]', b'este', b'e', b'o', b'primeiro', b'livro', b'que',\n",
       "       b'eu', b'fiz', b'.', b'[END]'], dtype=object)>"
      ]
     },
     "execution_count": 93,
     "metadata": {},
     "output_type": "execute_result"
    }
   ],
   "source": [
    "in_tokens = tf.convert_to_tensor([sentence])\n",
    "in_tokens = tokenizers.pt.tokenize(in_tokens).to_tensor()\n",
    "in_tokens = tokenizers.pt.lookup(in_tokens)[0]\n",
    "in_tokens"
   ]
  },
  {
   "cell_type": "code",
   "execution_count": 94,
   "id": "95ba22a7",
   "metadata": {},
   "outputs": [
    {
     "data": {
      "text/plain": [
       "<tf.Tensor: shape=(10,), dtype=string, numpy=\n",
       "array([b'[START]', b'this', b'is', b'the', b'first', b'book', b'i',\n",
       "       b'made', b'.', b'[END]'], dtype=object)>"
      ]
     },
     "execution_count": 94,
     "metadata": {},
     "output_type": "execute_result"
    }
   ],
   "source": [
    "translated_tokens"
   ]
  },
  {
   "cell_type": "code",
   "execution_count": 95,
   "id": "fa394924",
   "metadata": {},
   "outputs": [
    {
     "data": {
      "image/png": "[encoded data removed]",
      "text/plain": [
       "<Figure size 432x288 with 1 Axes>"
      ]
     },
     "metadata": {
      "needs_background": "light"
     },
     "output_type": "display_data"
    }
   ],
   "source": [
    "plot_attention_head(in_tokens, translated_tokens, attention)"
   ]
  },
  {
   "cell_type": "code",
   "execution_count": 97,
   "id": "092fe221",
   "metadata": {},
   "outputs": [],
   "source": [
    "def plot_attention_weights(sentence, translated_tokens, attention_heads):\n",
    "  in_tokens = tf.convert_to_tensor([sentence])\n",
    "  in_tokens = tokenizers.pt.tokenize(in_tokens).to_tensor()\n",
    "  in_tokens = tokenizers.pt.lookup(in_tokens)[0]\n",
    "  in_tokens\n",
    "\n",
    "  fig = plt.figure(figsize=(16, 8))\n",
    "\n",
    "  for h, head in enumerate(attention_heads):\n",
    "    ax = fig.add_subplot(2, 4, h+1)\n",
    "\n",
    "    plot_attention_head(in_tokens, translated_tokens, head)\n",
    "\n",
    "    ax.set_xlabel(f'Head {h+1}')\n",
    "\n",
    "  plt.tight_layout()\n",
    "  plt.show()"
   ]
  },
  {
   "cell_type": "code",
   "execution_count": 98,
   "id": "00ae5823",
   "metadata": {},
   "outputs": [
    {
     "data": {
      "image/png": "[encoded data removed]",
      "text/plain": [
       "<Figure size 1152x576 with 8 Axes>"
      ]
     },
     "metadata": {
      "needs_background": "light"
     },
     "output_type": "display_data"
    }
   ],
   "source": [
    "plot_attention_weights(sentence, translated_tokens,\n",
    "                       attention_weights['decoder_layer4_block2'][0])"
   ]
  },
  {
   "cell_type": "markdown",
   "id": "c99ed98a",
   "metadata": {},
   "source": [
    "The model does okay on unfamiliar words. Neither \"triceratops\" or \"encyclopedia\" are in the input dataset and the model almost learns to transliterate them, even without a shared vocabulary:"
   ]
  },
  {
   "cell_type": "code",
   "execution_count": 99,
   "id": "580e777b",
   "metadata": {},
   "outputs": [
    {
     "name": "stdout",
     "output_type": "stream",
     "text": [
      "Input:         : Eu li sobre triceratops na enciclopédia.\n",
      "Prediction     : i read about triumpels in the encyclopedia .\n",
      "Ground truth   : I read about triceratops in the encyclopedia.\n"
     ]
    },
    {
     "data": {
      "image/png": "[encoded data removed]",
      "text/plain": [
       "<Figure size 1152x576 with 8 Axes>"
      ]
     },
     "metadata": {
      "needs_background": "light"
     },
     "output_type": "display_data"
    }
   ],
   "source": [
    "sentence = 'Eu li sobre triceratops na enciclopédia.'\n",
    "ground_truth = 'I read about triceratops in the encyclopedia.'\n",
    "\n",
    "translated_text, translated_tokens, attention_weights = translator(\n",
    "    tf.constant(sentence))\n",
    "print_translation(sentence, translated_text, ground_truth)\n",
    "\n",
    "plot_attention_weights(sentence, translated_tokens,\n",
    "                       attention_weights['decoder_layer4_block2'][0])"
   ]
  },
  {
   "cell_type": "markdown",
   "id": "e051d4bd",
   "metadata": {},
   "source": [
    "## Export"
   ]
  },
  {
   "cell_type": "markdown",
   "id": "dfc0379c",
   "metadata": {},
   "source": [
    "That inference model is working, so next you'll export it as a `tf.saved_model`.\n",
    "\n",
    "To do that, wrap it in yet another `tf.Module` sub-class, this time with a `tf.function` on the `__call__` method:"
   ]
  },
  {
   "cell_type": "code",
   "execution_count": 112,
   "id": "ff46bf7e",
   "metadata": {},
   "outputs": [],
   "source": [
    "class ExportTranslator(tf.Module):\n",
    "  def __init__(self, translator):\n",
    "    self.translator = translator\n",
    "\n",
    "  @tf.function(input_signature=[tf.TensorSpec(shape=[], dtype=tf.string)])\n",
    "  def __call__(self, sentence):\n",
    "    (result,\n",
    "     tokens,\n",
    "     attention_weights) = self.translator(sentence, max_length=MAX_TOKENS)\n",
    "\n",
    "    return result"
   ]
  },
  {
   "cell_type": "markdown",
   "id": "9c9b97c3",
   "metadata": {},
   "source": [
    "In the above `tf.function` only the output sentence is returned. Thanks to the [non-strict execution](https://tensorflow.org/guide/intro_to_graphs) in `tf.function` any unnecessary values are never computed."
   ]
  },
  {
   "cell_type": "code",
   "execution_count": 113,
   "id": "37e61fba",
   "metadata": {},
   "outputs": [],
   "source": [
    "translator = ExportTranslator(translator)"
   ]
  },
  {
   "cell_type": "code",
   "execution_count": null,
   "id": "86265e54",
   "metadata": {},
   "outputs": [],
   "source": []
  },
  {
   "cell_type": "code",
   "execution_count": 114,
   "id": "ff519864",
   "metadata": {},
   "outputs": [
    {
     "data": {
      "text/plain": [
       "b'this is the first book i made .'"
      ]
     },
     "execution_count": 114,
     "metadata": {},
     "output_type": "execute_result"
    }
   ],
   "source": [
    "translator('este é o primeiro livro que eu fiz.').numpy()"
   ]
  },
  {
   "cell_type": "code",
   "execution_count": 115,
   "id": "4dfa875d",
   "metadata": {},
   "outputs": [
    {
     "name": "stderr",
     "output_type": "stream",
     "text": [
      "WARNING:absl:Found untraced functions such as embedding_5_layer_call_fn, embedding_5_layer_call_and_return_conditional_losses, dropout_40_layer_call_fn, dropout_40_layer_call_and_return_conditional_losses, embedding_6_layer_call_fn while saving (showing 5 of 224). These functions will not be directly callable after loading.\n"
     ]
    }
   ],
   "source": [
    "tf.saved_model.save(translator, export_dir='translator')"
   ]
  },
  {
   "cell_type": "code",
   "execution_count": 116,
   "id": "9706bb67",
   "metadata": {},
   "outputs": [],
   "source": [
    "reloaded = tf.saved_model.load('translator')"
   ]
  },
  {
   "cell_type": "code",
   "execution_count": 117,
   "id": "50e9507b",
   "metadata": {},
   "outputs": [
    {
     "data": {
      "text/plain": [
       "b'this is the first book i made .'"
      ]
     },
     "execution_count": 117,
     "metadata": {},
     "output_type": "execute_result"
    }
   ],
   "source": [
    "reloaded('este é o primeiro livro que eu fiz.').numpy()"
   ]
  },
  {
   "cell_type": "code",
   "execution_count": null,
   "id": "b018687a",
   "metadata": {},
   "outputs": [],
   "source": []
  }
 ],
 "metadata": {
  "kernelspec": {
   "display_name": "Python 3.9.12 ('vision')",
   "language": "python",
   "name": "python3"
  },
  "language_info": {
   "codemirror_mode": {
    "name": "ipython",
    "version": 3
   },
   "file_extension": ".py",
   "mimetype": "text/x-python",
   "name": "python",
   "nbconvert_exporter": "python",
   "pygments_lexer": "ipython3",
   "version": "3.9.12"
  },
  "vscode": {
   "interpreter": {
    "hash": "28351a7ac9c5c3f87d7e2cfd5b1f967c228653fc23bb7a0997ca4e9b6c4c6b30"
   }
  }
 },
 "nbformat": 4,
 "nbformat_minor": 5
}
